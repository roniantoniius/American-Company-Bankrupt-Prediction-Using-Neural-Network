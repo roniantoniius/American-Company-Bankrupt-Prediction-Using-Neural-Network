{
 "cells": [
  {
   "cell_type": "markdown",
   "id": "737dfe6c",
   "metadata": {
    "id": "737dfe6c"
   },
   "source": [
    "# America Company Bankrupt Prediction Artificial Neural Network (4)"
   ]
  },
  {
   "cell_type": "code",
   "execution_count": 1,
   "id": "66688a3c",
   "metadata": {
    "id": "66688a3c"
   },
   "outputs": [],
   "source": [
    "import warnings\n",
    "warnings.filterwarnings('ignore')"
   ]
  },
  {
   "cell_type": "code",
   "execution_count": 2,
   "id": "swJ3aJHt3Ezf",
   "metadata": {
    "colab": {
     "base_uri": "https://localhost:8080/"
    },
    "executionInfo": {
     "elapsed": 6323,
     "status": "ok",
     "timestamp": 1715854430477,
     "user": {
      "displayName": "Roni Antonius Sinabutar",
      "userId": "06736772884645285418"
     },
     "user_tz": -420
    },
    "id": "swJ3aJHt3Ezf",
    "outputId": "a40e5af4-0589-4632-ce45-f68dc266f75f"
   },
   "outputs": [
    {
     "name": "stdout",
     "output_type": "stream",
     "text": [
      "Requirement already satisfied: scikit-learn in c:\\users\\asus\\anaconda3\\lib\\site-packages (1.4.2)\n",
      "Requirement already satisfied: numpy>=1.19.5 in c:\\users\\asus\\anaconda3\\lib\\site-packages (from scikit-learn) (1.24.3)\n",
      "Requirement already satisfied: scipy>=1.6.0 in c:\\users\\asus\\anaconda3\\lib\\site-packages (from scikit-learn) (1.11.1)\n",
      "Requirement already satisfied: joblib>=1.2.0 in c:\\users\\asus\\anaconda3\\lib\\site-packages (from scikit-learn) (1.2.0)\n",
      "Requirement already satisfied: threadpoolctl>=2.0.0 in c:\\users\\asus\\anaconda3\\lib\\site-packages (from scikit-learn) (2.2.0)\n"
     ]
    }
   ],
   "source": [
    "!pip install --upgrade scikit-learn"
   ]
  },
  {
   "cell_type": "code",
   "execution_count": 3,
   "id": "30c18098",
   "metadata": {
    "id": "30c18098"
   },
   "outputs": [],
   "source": [
    "import keras\n",
    "import pickle\n",
    "from pyforest                      import *\n",
    "from feature_engine.outliers       import Winsorizer"
   ]
  },
  {
   "cell_type": "code",
   "execution_count": 4,
   "id": "3158f6e9",
   "metadata": {
    "id": "3158f6e9"
   },
   "outputs": [],
   "source": [
    "# library dibawah sebenarnya udah ada di pyforest\n",
    "from sklearn.model_selection       import train_test_split\n",
    "from sklearn.feature_selection     import SelectKBest, f_classif\n",
    "from sklearn.preprocessing         import MinMaxScaler, StandardScaler\n",
    "from sklearn.preprocessing         import LabelEncoder, OrdinalEncoder, OneHotEncoder\n",
    "from sklearn.pipeline              import make_pipeline\n",
    "from sklearn.compose               import ColumnTransformer\n",
    "from sklearn.metrics               import (f1_score,\n",
    "                                           precision_score,\n",
    "                                           recall_score,\n",
    "                                           log_loss,\n",
    "                                           accuracy_score,\n",
    "                                           classification_report,\n",
    "                                           ConfusionMatrixDisplay,\n",
    "                                           confusion_matrix)\n",
    "\n",
    "\n",
    "from sklearn.ensemble              import StackingClassifier\n",
    "from sklearn.pipeline              import Pipeline\n",
    "from sklearn.preprocessing         import StandardScaler\n",
    "from sklearn_pandas                import DataFrameMapper\n",
    "from sklearn.ensemble              import AdaBoostClassifier\n",
    "from sklearn.tree                  import DecisionTreeClassifier\n",
    "from sklearn.linear_model          import LogisticRegression\n",
    "from matplotlib.colors             import ListedColormap\n",
    "from sklearn.linear_model          import SGDClassifier\n",
    "from sklearn.ensemble              import RandomForestClassifier\n",
    "from sklearn.linear_model          import SGDClassifier\n",
    "from sklearn.svm                   import SVC\n",
    "from sklearn.naive_bayes           import GaussianNB\n",
    "from sklearn.neighbors             import KNeighborsClassifier\n",
    "from sklearn.neighbors             import NeighborhoodComponentsAnalysis\n",
    "from keras.callbacks               import EarlyStopping\n",
    "from keras.optimizers              import SGD\n",
    "from tensorflow.keras.optimizers   import Adam"
   ]
  },
  {
   "cell_type": "code",
   "execution_count": 5,
   "id": "tcuZEt1P0X-O",
   "metadata": {
    "colab": {
     "base_uri": "https://localhost:8080/"
    },
    "executionInfo": {
     "elapsed": 356,
     "status": "ok",
     "timestamp": 1715854456435,
     "user": {
      "displayName": "Roni Antonius Sinabutar",
      "userId": "06736772884645285418"
     },
     "user_tz": -420
    },
    "id": "tcuZEt1P0X-O",
    "outputId": "5aa4618f-6ebb-4edd-e3bc-7f9cc9c51ee7"
   },
   "outputs": [
    {
     "name": "stdout",
     "output_type": "stream",
     "text": [
      "2.16.1\n"
     ]
    }
   ],
   "source": [
    "import tensorflow as tf #cek versi tensorflow\n",
    "print(tf.__version__)"
   ]
  },
  {
   "cell_type": "code",
   "execution_count": 6,
   "id": "ccee7dcf",
   "metadata": {
    "colab": {
     "base_uri": "https://localhost:8080/",
     "height": 35
    },
    "executionInfo": {
     "elapsed": 2447,
     "status": "ok",
     "timestamp": 1715854498941,
     "user": {
      "displayName": "Roni Antonius Sinabutar",
      "userId": "06736772884645285418"
     },
     "user_tz": -420
    },
    "id": "ccee7dcf",
    "outputId": "17aedb19-0766-4f3c-f81a-2574aa30b0ea"
   },
   "outputs": [
    {
     "data": {
      "application/javascript": [
       "\n",
       "        if (window._pyforest_update_imports_cell) { window._pyforest_update_imports_cell('import pandas as pd'); }\n",
       "    "
      ],
      "text/plain": [
       "<IPython.core.display.Javascript object>"
      ]
     },
     "metadata": {},
     "output_type": "display_data"
    },
    {
     "data": {
      "application/javascript": [
       "\n",
       "        if (window._pyforest_update_imports_cell) { window._pyforest_update_imports_cell('import pandas as pd'); }\n",
       "    "
      ],
      "text/plain": [
       "<IPython.core.display.Javascript object>"
      ]
     },
     "metadata": {},
     "output_type": "display_data"
    },
    {
     "data": {
      "application/javascript": [
       "\n",
       "        if (window._pyforest_update_imports_cell) { window._pyforest_update_imports_cell('import pandas as pd'); }\n",
       "    "
      ],
      "text/plain": [
       "<IPython.core.display.Javascript object>"
      ]
     },
     "metadata": {},
     "output_type": "display_data"
    },
    {
     "data": {
      "application/javascript": [
       "\n",
       "        if (window._pyforest_update_imports_cell) { window._pyforest_update_imports_cell('import pandas as pd'); }\n",
       "    "
      ],
      "text/plain": [
       "<IPython.core.display.Javascript object>"
      ]
     },
     "metadata": {},
     "output_type": "display_data"
    },
    {
     "data": {
      "application/javascript": [
       "\n",
       "        if (window._pyforest_update_imports_cell) { window._pyforest_update_imports_cell('import pandas as pd'); }\n",
       "    "
      ],
      "text/plain": [
       "<IPython.core.display.Javascript object>"
      ]
     },
     "metadata": {},
     "output_type": "display_data"
    },
    {
     "data": {
      "application/javascript": [
       "\n",
       "        if (window._pyforest_update_imports_cell) { window._pyforest_update_imports_cell('import pandas as pd'); }\n",
       "    "
      ],
      "text/plain": [
       "<IPython.core.display.Javascript object>"
      ]
     },
     "metadata": {},
     "output_type": "display_data"
    },
    {
     "data": {
      "application/javascript": [
       "\n",
       "        if (window._pyforest_update_imports_cell) { window._pyforest_update_imports_cell('import pandas as pd'); }\n",
       "    "
      ],
      "text/plain": [
       "<IPython.core.display.Javascript object>"
      ]
     },
     "metadata": {},
     "output_type": "display_data"
    },
    {
     "data": {
      "application/javascript": [
       "\n",
       "        if (window._pyforest_update_imports_cell) { window._pyforest_update_imports_cell('import pandas as pd'); }\n",
       "    "
      ],
      "text/plain": [
       "<IPython.core.display.Javascript object>"
      ]
     },
     "metadata": {},
     "output_type": "display_data"
    }
   ],
   "source": [
    "X               = pd.read_csv('C:/Users/ASUS/kode/Projek/bankrupt/X.csv')\n",
    "y               = pd.read_csv('C:/Users/ASUS/kode/Projek/bankrupt/y.csv')\n",
    "X_train         = pd.read_csv('C:/Users/ASUS/kode/Projek/bankrupt/data/X_train.csv')\n",
    "X_train_balance = pd.read_csv('C:/Users/ASUS/kode/Projek/bankrupt/data/X_train_balance.csv')\n",
    "X_test          = pd.read_csv('C:/Users/ASUS/kode/Projek/bankrupt/data/X_test.csv')\n",
    "y_train         = pd.read_csv('C:/Users/ASUS/kode/Projek/bankrupt/data/y_train.csv')\n",
    "y_train_balance = pd.read_csv('C:/Users/ASUS/kode/Projek/bankrupt/data/y_train_balance.csv')\n",
    "y_test          = pd.read_csv('C:/Users/ASUS/kode/Projek/bankrupt/data/y_test.csv')"
   ]
  },
  {
   "cell_type": "code",
   "execution_count": 7,
   "id": "6b14c5be",
   "metadata": {
    "colab": {
     "base_uri": "https://localhost:8080/",
     "height": 461
    },
    "executionInfo": {
     "elapsed": 555,
     "status": "ok",
     "timestamp": 1715854502665,
     "user": {
      "displayName": "Roni Antonius Sinabutar",
      "userId": "06736772884645285418"
     },
     "user_tz": -420
    },
    "id": "6b14c5be",
    "outputId": "526026aa-a899-418e-a84a-1703cdb7237b"
   },
   "outputs": [
    {
     "data": {
      "text/html": [
       "<div>\n",
       "<style scoped>\n",
       "    .dataframe tbody tr th:only-of-type {\n",
       "        vertical-align: middle;\n",
       "    }\n",
       "\n",
       "    .dataframe tbody tr th {\n",
       "        vertical-align: top;\n",
       "    }\n",
       "\n",
       "    .dataframe thead th {\n",
       "        text-align: right;\n",
       "    }\n",
       "</style>\n",
       "<table border=\"1\" class=\"dataframe\">\n",
       "  <thead>\n",
       "    <tr style=\"text-align: right;\">\n",
       "      <th></th>\n",
       "      <th>year</th>\n",
       "      <th>aset_sekarang</th>\n",
       "      <th>biaya_barang_terjual</th>\n",
       "      <th>penyusutan_dan_amortisasi</th>\n",
       "      <th>laba_spbda</th>\n",
       "      <th>inventaris</th>\n",
       "      <th>pendapatan_bersih</th>\n",
       "      <th>total_piutang</th>\n",
       "      <th>nilai_pasar</th>\n",
       "      <th>total_aset</th>\n",
       "      <th>total_hutang_jangka_panjang</th>\n",
       "      <th>laba_kotor</th>\n",
       "      <th>total_kewajiban lancar</th>\n",
       "      <th>laba_tersisa</th>\n",
       "    </tr>\n",
       "  </thead>\n",
       "  <tbody>\n",
       "    <tr>\n",
       "      <th>0</th>\n",
       "      <td>1999</td>\n",
       "      <td>511.267</td>\n",
       "      <td>833.107</td>\n",
       "      <td>18.373</td>\n",
       "      <td>89.031</td>\n",
       "      <td>336.018</td>\n",
       "      <td>35.163</td>\n",
       "      <td>128.348</td>\n",
       "      <td>372.7519</td>\n",
       "      <td>740.998</td>\n",
       "      <td>180.447</td>\n",
       "      <td>191.226</td>\n",
       "      <td>163.816</td>\n",
       "      <td>201.026</td>\n",
       "    </tr>\n",
       "    <tr>\n",
       "      <th>1</th>\n",
       "      <td>2000</td>\n",
       "      <td>485.856</td>\n",
       "      <td>713.811</td>\n",
       "      <td>18.577</td>\n",
       "      <td>64.367</td>\n",
       "      <td>320.590</td>\n",
       "      <td>18.531</td>\n",
       "      <td>115.187</td>\n",
       "      <td>377.1180</td>\n",
       "      <td>701.854</td>\n",
       "      <td>179.987</td>\n",
       "      <td>160.444</td>\n",
       "      <td>125.392</td>\n",
       "      <td>204.065</td>\n",
       "    </tr>\n",
       "    <tr>\n",
       "      <th>2</th>\n",
       "      <td>2001</td>\n",
       "      <td>436.656</td>\n",
       "      <td>526.477</td>\n",
       "      <td>22.496</td>\n",
       "      <td>27.207</td>\n",
       "      <td>286.588</td>\n",
       "      <td>-58.939</td>\n",
       "      <td>77.528</td>\n",
       "      <td>364.5928</td>\n",
       "      <td>710.199</td>\n",
       "      <td>217.699</td>\n",
       "      <td>112.244</td>\n",
       "      <td>150.464</td>\n",
       "      <td>139.603</td>\n",
       "    </tr>\n",
       "    <tr>\n",
       "      <th>3</th>\n",
       "      <td>2002</td>\n",
       "      <td>396.412</td>\n",
       "      <td>496.747</td>\n",
       "      <td>27.172</td>\n",
       "      <td>30.745</td>\n",
       "      <td>259.954</td>\n",
       "      <td>-12.410</td>\n",
       "      <td>66.322</td>\n",
       "      <td>143.3295</td>\n",
       "      <td>686.621</td>\n",
       "      <td>164.658</td>\n",
       "      <td>109.590</td>\n",
       "      <td>203.575</td>\n",
       "      <td>124.106</td>\n",
       "    </tr>\n",
       "    <tr>\n",
       "      <th>4</th>\n",
       "      <td>2003</td>\n",
       "      <td>432.204</td>\n",
       "      <td>523.302</td>\n",
       "      <td>26.680</td>\n",
       "      <td>47.491</td>\n",
       "      <td>247.245</td>\n",
       "      <td>3.504</td>\n",
       "      <td>104.661</td>\n",
       "      <td>308.9071</td>\n",
       "      <td>709.292</td>\n",
       "      <td>248.666</td>\n",
       "      <td>128.656</td>\n",
       "      <td>131.261</td>\n",
       "      <td>131.884</td>\n",
       "    </tr>\n",
       "    <tr>\n",
       "      <th>...</th>\n",
       "      <td>...</td>\n",
       "      <td>...</td>\n",
       "      <td>...</td>\n",
       "      <td>...</td>\n",
       "      <td>...</td>\n",
       "      <td>...</td>\n",
       "      <td>...</td>\n",
       "      <td>...</td>\n",
       "      <td>...</td>\n",
       "      <td>...</td>\n",
       "      <td>...</td>\n",
       "      <td>...</td>\n",
       "      <td>...</td>\n",
       "      <td>...</td>\n",
       "    </tr>\n",
       "    <tr>\n",
       "      <th>78677</th>\n",
       "      <td>2014</td>\n",
       "      <td>233.211</td>\n",
       "      <td>43.338</td>\n",
       "      <td>14.094</td>\n",
       "      <td>45.615</td>\n",
       "      <td>3.376</td>\n",
       "      <td>25.261</td>\n",
       "      <td>22.846</td>\n",
       "      <td>756.4827</td>\n",
       "      <td>1099.101</td>\n",
       "      <td>184.666</td>\n",
       "      <td>60.885</td>\n",
       "      <td>28.197</td>\n",
       "      <td>28.095</td>\n",
       "    </tr>\n",
       "    <tr>\n",
       "      <th>78678</th>\n",
       "      <td>2015</td>\n",
       "      <td>105.559</td>\n",
       "      <td>59.184</td>\n",
       "      <td>42.592</td>\n",
       "      <td>202.133</td>\n",
       "      <td>2.288</td>\n",
       "      <td>129.688</td>\n",
       "      <td>54.611</td>\n",
       "      <td>527.5750</td>\n",
       "      <td>1865.926</td>\n",
       "      <td>770.103</td>\n",
       "      <td>231.969</td>\n",
       "      <td>88.128</td>\n",
       "      <td>157.783</td>\n",
       "    </tr>\n",
       "    <tr>\n",
       "      <th>78679</th>\n",
       "      <td>2016</td>\n",
       "      <td>63.971</td>\n",
       "      <td>69.074</td>\n",
       "      <td>65.057</td>\n",
       "      <td>79.051</td>\n",
       "      <td>2.581</td>\n",
       "      <td>-1.442</td>\n",
       "      <td>42.467</td>\n",
       "      <td>578.8868</td>\n",
       "      <td>1746.235</td>\n",
       "      <td>683.985</td>\n",
       "      <td>100.784</td>\n",
       "      <td>85.765</td>\n",
       "      <td>156.341</td>\n",
       "    </tr>\n",
       "    <tr>\n",
       "      <th>78680</th>\n",
       "      <td>2017</td>\n",
       "      <td>135.207</td>\n",
       "      <td>66.527</td>\n",
       "      <td>65.330</td>\n",
       "      <td>69.171</td>\n",
       "      <td>2.013</td>\n",
       "      <td>-20.401</td>\n",
       "      <td>27.217</td>\n",
       "      <td>412.6241</td>\n",
       "      <td>1736.110</td>\n",
       "      <td>694.035</td>\n",
       "      <td>95.357</td>\n",
       "      <td>82.010</td>\n",
       "      <td>135.941</td>\n",
       "    </tr>\n",
       "    <tr>\n",
       "      <th>78681</th>\n",
       "      <td>2018</td>\n",
       "      <td>82.589</td>\n",
       "      <td>68.817</td>\n",
       "      <td>65.201</td>\n",
       "      <td>67.262</td>\n",
       "      <td>2.112</td>\n",
       "      <td>-50.946</td>\n",
       "      <td>45.839</td>\n",
       "      <td>354.1786</td>\n",
       "      <td>1625.370</td>\n",
       "      <td>632.122</td>\n",
       "      <td>91.696</td>\n",
       "      <td>79.365</td>\n",
       "      <td>84.995</td>\n",
       "    </tr>\n",
       "  </tbody>\n",
       "</table>\n",
       "<p>78682 rows × 14 columns</p>\n",
       "</div>"
      ],
      "text/plain": [
       "       year  aset_sekarang  biaya_barang_terjual  penyusutan_dan_amortisasi  \\\n",
       "0      1999        511.267               833.107                     18.373   \n",
       "1      2000        485.856               713.811                     18.577   \n",
       "2      2001        436.656               526.477                     22.496   \n",
       "3      2002        396.412               496.747                     27.172   \n",
       "4      2003        432.204               523.302                     26.680   \n",
       "...     ...            ...                   ...                        ...   \n",
       "78677  2014        233.211                43.338                     14.094   \n",
       "78678  2015        105.559                59.184                     42.592   \n",
       "78679  2016         63.971                69.074                     65.057   \n",
       "78680  2017        135.207                66.527                     65.330   \n",
       "78681  2018         82.589                68.817                     65.201   \n",
       "\n",
       "       laba_spbda  inventaris  pendapatan_bersih  total_piutang  nilai_pasar  \\\n",
       "0          89.031     336.018             35.163        128.348     372.7519   \n",
       "1          64.367     320.590             18.531        115.187     377.1180   \n",
       "2          27.207     286.588            -58.939         77.528     364.5928   \n",
       "3          30.745     259.954            -12.410         66.322     143.3295   \n",
       "4          47.491     247.245              3.504        104.661     308.9071   \n",
       "...           ...         ...                ...            ...          ...   \n",
       "78677      45.615       3.376             25.261         22.846     756.4827   \n",
       "78678     202.133       2.288            129.688         54.611     527.5750   \n",
       "78679      79.051       2.581             -1.442         42.467     578.8868   \n",
       "78680      69.171       2.013            -20.401         27.217     412.6241   \n",
       "78681      67.262       2.112            -50.946         45.839     354.1786   \n",
       "\n",
       "       total_aset  total_hutang_jangka_panjang  laba_kotor  \\\n",
       "0         740.998                      180.447     191.226   \n",
       "1         701.854                      179.987     160.444   \n",
       "2         710.199                      217.699     112.244   \n",
       "3         686.621                      164.658     109.590   \n",
       "4         709.292                      248.666     128.656   \n",
       "...           ...                          ...         ...   \n",
       "78677    1099.101                      184.666      60.885   \n",
       "78678    1865.926                      770.103     231.969   \n",
       "78679    1746.235                      683.985     100.784   \n",
       "78680    1736.110                      694.035      95.357   \n",
       "78681    1625.370                      632.122      91.696   \n",
       "\n",
       "       total_kewajiban lancar  laba_tersisa  \n",
       "0                     163.816       201.026  \n",
       "1                     125.392       204.065  \n",
       "2                     150.464       139.603  \n",
       "3                     203.575       124.106  \n",
       "4                     131.261       131.884  \n",
       "...                       ...           ...  \n",
       "78677                  28.197        28.095  \n",
       "78678                  88.128       157.783  \n",
       "78679                  85.765       156.341  \n",
       "78680                  82.010       135.941  \n",
       "78681                  79.365        84.995  \n",
       "\n",
       "[78682 rows x 14 columns]"
      ]
     },
     "execution_count": 7,
     "metadata": {},
     "output_type": "execute_result"
    }
   ],
   "source": [
    "X"
   ]
  },
  {
   "cell_type": "code",
   "execution_count": 8,
   "id": "55ae1074",
   "metadata": {
    "colab": {
     "base_uri": "https://localhost:8080/",
     "height": 423
    },
    "executionInfo": {
     "elapsed": 398,
     "status": "ok",
     "timestamp": 1715854506617,
     "user": {
      "displayName": "Roni Antonius Sinabutar",
      "userId": "06736772884645285418"
     },
     "user_tz": -420
    },
    "id": "55ae1074",
    "outputId": "ca3c3d9d-da1f-4218-b7ce-a24d61ff4bf2"
   },
   "outputs": [
    {
     "data": {
      "text/html": [
       "<div>\n",
       "<style scoped>\n",
       "    .dataframe tbody tr th:only-of-type {\n",
       "        vertical-align: middle;\n",
       "    }\n",
       "\n",
       "    .dataframe tbody tr th {\n",
       "        vertical-align: top;\n",
       "    }\n",
       "\n",
       "    .dataframe thead th {\n",
       "        text-align: right;\n",
       "    }\n",
       "</style>\n",
       "<table border=\"1\" class=\"dataframe\">\n",
       "  <thead>\n",
       "    <tr style=\"text-align: right;\">\n",
       "      <th></th>\n",
       "      <th>bankrupt</th>\n",
       "    </tr>\n",
       "  </thead>\n",
       "  <tbody>\n",
       "    <tr>\n",
       "      <th>0</th>\n",
       "      <td>0.0</td>\n",
       "    </tr>\n",
       "    <tr>\n",
       "      <th>1</th>\n",
       "      <td>0.0</td>\n",
       "    </tr>\n",
       "    <tr>\n",
       "      <th>2</th>\n",
       "      <td>0.0</td>\n",
       "    </tr>\n",
       "    <tr>\n",
       "      <th>3</th>\n",
       "      <td>0.0</td>\n",
       "    </tr>\n",
       "    <tr>\n",
       "      <th>4</th>\n",
       "      <td>0.0</td>\n",
       "    </tr>\n",
       "    <tr>\n",
       "      <th>...</th>\n",
       "      <td>...</td>\n",
       "    </tr>\n",
       "    <tr>\n",
       "      <th>78677</th>\n",
       "      <td>0.0</td>\n",
       "    </tr>\n",
       "    <tr>\n",
       "      <th>78678</th>\n",
       "      <td>0.0</td>\n",
       "    </tr>\n",
       "    <tr>\n",
       "      <th>78679</th>\n",
       "      <td>0.0</td>\n",
       "    </tr>\n",
       "    <tr>\n",
       "      <th>78680</th>\n",
       "      <td>0.0</td>\n",
       "    </tr>\n",
       "    <tr>\n",
       "      <th>78681</th>\n",
       "      <td>0.0</td>\n",
       "    </tr>\n",
       "  </tbody>\n",
       "</table>\n",
       "<p>78682 rows × 1 columns</p>\n",
       "</div>"
      ],
      "text/plain": [
       "       bankrupt\n",
       "0           0.0\n",
       "1           0.0\n",
       "2           0.0\n",
       "3           0.0\n",
       "4           0.0\n",
       "...         ...\n",
       "78677       0.0\n",
       "78678       0.0\n",
       "78679       0.0\n",
       "78680       0.0\n",
       "78681       0.0\n",
       "\n",
       "[78682 rows x 1 columns]"
      ]
     },
     "execution_count": 8,
     "metadata": {},
     "output_type": "execute_result"
    }
   ],
   "source": [
    "y"
   ]
  },
  {
   "cell_type": "code",
   "execution_count": 9,
   "id": "fc5fdf35",
   "metadata": {
    "colab": {
     "base_uri": "https://localhost:8080/"
    },
    "executionInfo": {
     "elapsed": 13,
     "status": "ok",
     "timestamp": 1715854523895,
     "user": {
      "displayName": "Roni Antonius Sinabutar",
      "userId": "06736772884645285418"
     },
     "user_tz": -420
    },
    "id": "fc5fdf35",
    "outputId": "7744bdfb-4657-4e11-8a2c-19a5531a9eb2"
   },
   "outputs": [
    {
     "name": "stdout",
     "output_type": "stream",
     "text": [
      "bankrupt\n",
      "0.0         0.5\n",
      "1.0         0.5\n",
      "Name: proportion, dtype: float64\n"
     ]
    }
   ],
   "source": [
    "print(y_train_balance.value_counts(normalize=True))"
   ]
  },
  {
   "cell_type": "code",
   "execution_count": 10,
   "id": "7576f74f",
   "metadata": {
    "colab": {
     "base_uri": "https://localhost:8080/"
    },
    "executionInfo": {
     "elapsed": 316,
     "status": "ok",
     "timestamp": 1715854526116,
     "user": {
      "displayName": "Roni Antonius Sinabutar",
      "userId": "06736772884645285418"
     },
     "user_tz": -420
    },
    "id": "7576f74f",
    "outputId": "d04ef980-249a-4fa2-8f13-c7ce5f35bcaf"
   },
   "outputs": [
    {
     "name": "stdout",
     "output_type": "stream",
     "text": [
      "bankrupt\n",
      "0.0         0.934233\n",
      "1.0         0.065767\n",
      "Name: proportion, dtype: float64\n"
     ]
    }
   ],
   "source": [
    "print(y_train.value_counts(normalize=True))"
   ]
  },
  {
   "cell_type": "markdown",
   "id": "b63c63b9",
   "metadata": {
    "id": "b63c63b9"
   },
   "source": [
    "Penerapan dari teknik sampling/balancing data tersebut dengan menggunakan SMOTE dengan strategi 'auto' dapat membuat atau meningkatkan sampel sintesis dalam kelas minoritas yaitu 'bankrupt' = 1"
   ]
  },
  {
   "cell_type": "code",
   "execution_count": 11,
   "id": "9db4c682",
   "metadata": {
    "colab": {
     "base_uri": "https://localhost:8080/"
    },
    "executionInfo": {
     "elapsed": 18,
     "status": "ok",
     "timestamp": 1715854528338,
     "user": {
      "displayName": "Roni Antonius Sinabutar",
      "userId": "06736772884645285418"
     },
     "user_tz": -420
    },
    "id": "9db4c682",
    "outputId": "0bc5bb4f-1cba-4fa9-eccf-6eb4125fa0df"
   },
   "outputs": [
    {
     "data": {
      "text/plain": [
       "(59011, 14)"
      ]
     },
     "execution_count": 11,
     "metadata": {},
     "output_type": "execute_result"
    }
   ],
   "source": [
    "X_train.shape"
   ]
  },
  {
   "cell_type": "code",
   "execution_count": 12,
   "id": "be27066f",
   "metadata": {
    "colab": {
     "base_uri": "https://localhost:8080/"
    },
    "executionInfo": {
     "elapsed": 619,
     "status": "ok",
     "timestamp": 1715854531038,
     "user": {
      "displayName": "Roni Antonius Sinabutar",
      "userId": "06736772884645285418"
     },
     "user_tz": -420
    },
    "id": "be27066f",
    "outputId": "b7f873d8-8d59-4adb-ee7b-e0752d622971"
   },
   "outputs": [
    {
     "data": {
      "text/plain": [
       "(110260, 14)"
      ]
     },
     "execution_count": 12,
     "metadata": {},
     "output_type": "execute_result"
    }
   ],
   "source": [
    "X_train_balance.shape"
   ]
  },
  {
   "cell_type": "code",
   "execution_count": 13,
   "id": "036f5d5e",
   "metadata": {
    "id": "036f5d5e"
   },
   "outputs": [],
   "source": [
    "ccount = y_train_balance['bankrupt'].value_counts()"
   ]
  },
  {
   "cell_type": "code",
   "execution_count": 14,
   "id": "6a7391db",
   "metadata": {
    "colab": {
     "base_uri": "https://localhost:8080/",
     "height": 572
    },
    "executionInfo": {
     "elapsed": 355,
     "status": "ok",
     "timestamp": 1715854534853,
     "user": {
      "displayName": "Roni Antonius Sinabutar",
      "userId": "06736772884645285418"
     },
     "user_tz": -420
    },
    "id": "6a7391db",
    "outputId": "d58e4d5c-95ff-4e4b-c708-3ae2c37d167e"
   },
   "outputs": [
    {
     "data": {
      "application/javascript": [
       "\n",
       "        if (window._pyforest_update_imports_cell) { window._pyforest_update_imports_cell('import matplotlib.pyplot as plt\\nimport pandas as pd'); }\n",
       "    "
      ],
      "text/plain": [
       "<IPython.core.display.Javascript object>"
      ]
     },
     "metadata": {},
     "output_type": "display_data"
    },
    {
     "data": {
      "application/javascript": [
       "\n",
       "        if (window._pyforest_update_imports_cell) { window._pyforest_update_imports_cell('import matplotlib.pyplot as plt\\nimport pandas as pd'); }\n",
       "    "
      ],
      "text/plain": [
       "<IPython.core.display.Javascript object>"
      ]
     },
     "metadata": {},
     "output_type": "display_data"
    },
    {
     "data": {
      "application/javascript": [
       "\n",
       "        if (window._pyforest_update_imports_cell) { window._pyforest_update_imports_cell('import matplotlib.pyplot as plt\\nimport pandas as pd'); }\n",
       "    "
      ],
      "text/plain": [
       "<IPython.core.display.Javascript object>"
      ]
     },
     "metadata": {},
     "output_type": "display_data"
    },
    {
     "data": {
      "application/javascript": [
       "\n",
       "        if (window._pyforest_update_imports_cell) { window._pyforest_update_imports_cell('import matplotlib.pyplot as plt\\nimport pandas as pd'); }\n",
       "    "
      ],
      "text/plain": [
       "<IPython.core.display.Javascript object>"
      ]
     },
     "metadata": {},
     "output_type": "display_data"
    },
    {
     "data": {
      "application/javascript": [
       "\n",
       "        if (window._pyforest_update_imports_cell) { window._pyforest_update_imports_cell('import matplotlib.pyplot as plt\\nimport pandas as pd'); }\n",
       "    "
      ],
      "text/plain": [
       "<IPython.core.display.Javascript object>"
      ]
     },
     "metadata": {},
     "output_type": "display_data"
    },
    {
     "data": {
      "image/png": "[encoded data removed]",
      "text/plain": [
       "<Figure size 800x600 with 1 Axes>"
      ]
     },
     "metadata": {},
     "output_type": "display_data"
    }
   ],
   "source": [
    "plt.figure(figsize=(8, 6))\n",
    "ccount.plot(kind='bar', color=['lightgreen', 'lightblue'])\n",
    "plt.title('Jumlah Kelas 0 dan 1 pada Data Bankrupt')\n",
    "plt.xlabel('Kelas Bankrupt')\n",
    "plt.ylabel('Jumlah')\n",
    "plt.show()"
   ]
  },
  {
   "cell_type": "markdown",
   "id": "f9507d12",
   "metadata": {
    "id": "f9507d12"
   },
   "source": [
    "## Neurall Network Modelling\n",
    "fungsi untuk evaluasi nanti, kasus klasifikasi. menggunakan X_train_balance dan y_train_balance\n",
    "\n",
    "Evaluasi dengan klasifikasi:\n",
    "- accuracy\n",
    "- precision\n",
    "- recall (sensitivity)\n",
    "- Specificity\n",
    "- ROC-AUC\n",
    "- Precision-Recall Curve and AUC\n",
    "- F-beta score\n",
    "- Matthews Correlation Coefficient\n",
    "- Log loss"
   ]
  },
  {
   "cell_type": "code",
   "execution_count": 15,
   "id": "62e03688",
   "metadata": {
    "id": "62e03688"
   },
   "outputs": [],
   "source": [
    "# y_true itu y_test\n",
    "def model_report(y_true, y_pred):\n",
    "\n",
    "    acc                     = accuracy_score(y_true, y_pred)\n",
    "    pre                     = precision_score(y_true, y_pred)\n",
    "    rec                     = recall_score(y_true, y_pred)\n",
    "    f1                      = f1_score(y_true, y_pred)\n",
    "    loss                    = log_loss(y_true, y_pred)\n",
    "\n",
    "    print(\"accuracy:   {:3f}\\nprecision:  {:3f}\\nrecall:     {:3f}\\nf1-score:   {:3f}\\nloss:       {:3f}\".\n",
    "          format(acc, pre, rec, f1, loss))"
   ]
  },
  {
   "cell_type": "code",
   "execution_count": 16,
   "id": "55eae82f",
   "metadata": {
    "id": "55eae82f"
   },
   "outputs": [],
   "source": [
    "# Fungsi Evaluasi Suatu Model dengan Confusion Matrix\n",
    "def plot_confusion_matriks(y_true, y_pred):\n",
    "    cm    = confusion_matrix(y_true, y_pred)\n",
    "    tampil = ConfusionMatrixDisplay(confusion_matrix=cm)\n",
    "\n",
    "    tampil.plot(cmap='Greys')\n",
    "\n",
    "    plt.title('Confusion Matrix')\n",
    "    plt.show()"
   ]
  },
  {
   "cell_type": "markdown",
   "id": "ohthIxnckMqX",
   "metadata": {
    "id": "ohthIxnckMqX"
   },
   "source": [
    "### Neural Network"
   ]
  },
  {
   "cell_type": "code",
   "execution_count": 38,
   "id": "9052b606",
   "metadata": {
    "id": "9052b606"
   },
   "outputs": [],
   "source": [
    "def pred_report_nn(y_true, y_pred):\n",
    "\n",
    "    # Konversi prediksi yang kontinu menjadi nilai biner (0/1)\n",
    "    y_pred_bin = np.round(y_pred).astype(int)\n",
    "\n",
    "    # Hitung metrik evaluasi klasifikasi\n",
    "    acc_ann    = accuracy_score(y_true, y_pred_bin)\n",
    "    pre_ann    = precision_score(y_true, y_pred_bin)\n",
    "    rec_ann    = recall_score(y_true, y_pred_bin)\n",
    "    f1_ann     = f1_score(y_true, y_pred_bin)\n",
    "    loss_ann   = log_loss(y_true, y_pred)\n",
    "\n",
    "    print(\"Accuracy:  {:3f}\\nPrecision:  {:3f}\\nRecall:  {:3f}\\nF1 Score:  {:3f}\\nLoss:  {:3f}\".\n",
    "          format(acc_ann, pre_ann, rec_ann, f1_ann, loss_ann))"
   ]
  },
  {
   "cell_type": "code",
   "execution_count": 18,
   "id": "3120954d",
   "metadata": {},
   "outputs": [
    {
     "name": "stdout",
     "output_type": "stream",
     "text": [
      "(110260, 14)\n",
      "(19671, 14)\n"
     ]
    }
   ],
   "source": [
    "print(X_train_balance.shape)\n",
    "print(X_test.shape)"
   ]
  },
  {
   "cell_type": "code",
   "execution_count": 19,
   "id": "475e9d1e",
   "metadata": {},
   "outputs": [
    {
     "data": {
      "application/javascript": [
       "\n",
       "        if (window._pyforest_update_imports_cell) { window._pyforest_update_imports_cell('import matplotlib.pyplot as plt\\nimport keras\\nimport pandas as pd'); }\n",
       "    "
      ],
      "text/plain": [
       "<IPython.core.display.Javascript object>"
      ]
     },
     "metadata": {},
     "output_type": "display_data"
    }
   ],
   "source": [
    "early_stopping = keras.callbacks.EarlyStopping(monitor='val_loss',\n",
    "                                               patience=10)"
   ]
  },
  {
   "cell_type": "markdown",
   "id": "10f158e0",
   "metadata": {},
   "source": [
    "#### Split into val"
   ]
  },
  {
   "cell_type": "code",
   "execution_count": 20,
   "id": "009d3d8d",
   "metadata": {
    "scrolled": false
   },
   "outputs": [],
   "source": [
    "X_train_balance, X_val_balance, y_train_balance, y_val_balance = train_test_split(X_train_balance,\n",
    "                                                                                  y_train_balance,\n",
    "                                                                                  test_size=0.2,\n",
    "                                                                                  random_state=42)"
   ]
  },
  {
   "cell_type": "code",
   "execution_count": 21,
   "id": "7cbb16f8",
   "metadata": {},
   "outputs": [],
   "source": [
    "ann_model2    = tf.keras.Sequential()\n",
    "\n",
    "ann_model2.add(tf.keras.layers.Dense(units=64,\n",
    "                                     activation=\"relu\",\n",
    "                                     input_shape=(14,)))\n",
    "ann_model2.add(tf.keras.layers.Dropout(0.2))\n",
    "\n",
    "ann_model2.add(tf.keras.layers.Dense(units=128,\n",
    "                                     activation=\"relu\"))\n",
    "ann_model2.add(tf.keras.layers.Dropout(0.2))\n",
    "\n",
    "ann_model2.add(tf.keras.layers.Dense(units=64,\n",
    "                                     activation=\"relu\"))\n",
    "ann_model2.add(tf.keras.layers.Dropout(0.2))\n",
    "\n",
    "ann_model2.add(tf.keras.layers.Dense(units=1,\n",
    "                                     activation=\"sigmoid\"))\n",
    "\n",
    "ann_model2.compile(optimizer=Adam(learning_rate=0.001),\n",
    "                   loss=\"binary_crossentropy\", #dua kategori\n",
    "                   metrics=[\"accuracy\"])"
   ]
  },
  {
   "cell_type": "code",
   "execution_count": 22,
   "id": "5d21ec4e",
   "metadata": {},
   "outputs": [
    {
     "name": "stdout",
     "output_type": "stream",
     "text": [
      "Epoch 1/50\n",
      "690/690 - 7s - 11ms/step - accuracy: 0.5352 - loss: 11.8121 - val_accuracy: 0.5303 - val_loss: 0.6847\n",
      "Epoch 2/50\n",
      "690/690 - 4s - 5ms/step - accuracy: 0.5328 - loss: 0.8091 - val_accuracy: 0.5389 - val_loss: 0.6800\n",
      "Epoch 3/50\n",
      "690/690 - 4s - 6ms/step - accuracy: 0.5313 - loss: 0.7273 - val_accuracy: 0.5049 - val_loss: 0.6915\n",
      "Epoch 4/50\n",
      "690/690 - 4s - 6ms/step - accuracy: 0.5367 - loss: 0.6929 - val_accuracy: 0.5394 - val_loss: 0.6775\n",
      "Epoch 5/50\n",
      "690/690 - 4s - 5ms/step - accuracy: 0.5475 - loss: 0.6930 - val_accuracy: 0.5463 - val_loss: 0.6789\n",
      "Epoch 6/50\n",
      "690/690 - 3s - 5ms/step - accuracy: 0.5490 - loss: 0.6879 - val_accuracy: 0.5948 - val_loss: 0.6648\n",
      "Epoch 7/50\n",
      "690/690 - 4s - 5ms/step - accuracy: 0.5599 - loss: 0.6844 - val_accuracy: 0.5890 - val_loss: 0.6681\n",
      "Epoch 8/50\n",
      "690/690 - 3s - 5ms/step - accuracy: 0.5561 - loss: 0.6794 - val_accuracy: 0.5844 - val_loss: 0.6647\n",
      "Epoch 9/50\n",
      "690/690 - 5s - 8ms/step - accuracy: 0.5633 - loss: 0.6805 - val_accuracy: 0.5514 - val_loss: 0.6792\n",
      "Epoch 10/50\n",
      "690/690 - 4s - 6ms/step - accuracy: 0.5663 - loss: 0.6745 - val_accuracy: 0.5898 - val_loss: 0.6614\n",
      "Epoch 11/50\n",
      "690/690 - 4s - 6ms/step - accuracy: 0.5696 - loss: 0.6753 - val_accuracy: 0.5692 - val_loss: 0.6729\n",
      "Epoch 12/50\n",
      "690/690 - 5s - 8ms/step - accuracy: 0.5723 - loss: 0.6733 - val_accuracy: 0.6012 - val_loss: 0.6574\n",
      "Epoch 13/50\n",
      "690/690 - 4s - 5ms/step - accuracy: 0.5737 - loss: 0.6742 - val_accuracy: 0.6029 - val_loss: 0.6542\n",
      "Epoch 14/50\n",
      "690/690 - 4s - 5ms/step - accuracy: 0.5793 - loss: 0.6685 - val_accuracy: 0.5936 - val_loss: 0.6571\n",
      "Epoch 15/50\n",
      "690/690 - 5s - 8ms/step - accuracy: 0.5805 - loss: 0.6691 - val_accuracy: 0.6087 - val_loss: 0.6491\n",
      "Epoch 16/50\n",
      "690/690 - 4s - 5ms/step - accuracy: 0.5822 - loss: 0.6719 - val_accuracy: 0.6023 - val_loss: 0.6525\n",
      "Epoch 17/50\n",
      "690/690 - 3s - 5ms/step - accuracy: 0.5929 - loss: 0.6614 - val_accuracy: 0.6217 - val_loss: 0.6391\n",
      "Epoch 18/50\n",
      "690/690 - 3s - 5ms/step - accuracy: 0.5977 - loss: 0.6578 - val_accuracy: 0.6499 - val_loss: 0.6331\n",
      "Epoch 19/50\n",
      "690/690 - 3s - 5ms/step - accuracy: 0.6042 - loss: 0.6581 - val_accuracy: 0.6486 - val_loss: 0.6345\n",
      "Epoch 20/50\n",
      "690/690 - 5s - 7ms/step - accuracy: 0.6089 - loss: 0.6513 - val_accuracy: 0.6496 - val_loss: 0.6316\n",
      "Epoch 21/50\n",
      "690/690 - 5s - 8ms/step - accuracy: 0.6151 - loss: 0.6566 - val_accuracy: 0.6643 - val_loss: 0.6188\n",
      "Epoch 22/50\n",
      "690/690 - 5s - 8ms/step - accuracy: 0.6152 - loss: 0.6481 - val_accuracy: 0.6675 - val_loss: 0.6146\n",
      "Epoch 23/50\n",
      "690/690 - 5s - 8ms/step - accuracy: 0.6247 - loss: 0.6403 - val_accuracy: 0.6686 - val_loss: 0.6177\n",
      "Epoch 24/50\n",
      "690/690 - 5s - 8ms/step - accuracy: 0.6288 - loss: 0.6362 - val_accuracy: 0.6564 - val_loss: 0.6112\n",
      "Epoch 25/50\n",
      "690/690 - 4s - 5ms/step - accuracy: 0.6419 - loss: 0.6313 - val_accuracy: 0.6457 - val_loss: 0.6131\n",
      "Epoch 26/50\n",
      "690/690 - 3s - 5ms/step - accuracy: 0.6483 - loss: 0.6222 - val_accuracy: 0.6833 - val_loss: 0.5915\n",
      "Epoch 27/50\n",
      "690/690 - 4s - 5ms/step - accuracy: 0.6547 - loss: 0.6157 - val_accuracy: 0.6802 - val_loss: 0.5890\n",
      "Epoch 28/50\n",
      "690/690 - 4s - 5ms/step - accuracy: 0.6586 - loss: 0.6139 - val_accuracy: 0.6817 - val_loss: 0.5908\n",
      "Epoch 29/50\n",
      "690/690 - 5s - 7ms/step - accuracy: 0.6613 - loss: 0.6091 - val_accuracy: 0.6862 - val_loss: 0.5837\n",
      "Epoch 30/50\n",
      "690/690 - 3s - 4ms/step - accuracy: 0.6663 - loss: 0.6058 - val_accuracy: 0.6818 - val_loss: 0.5838\n",
      "Epoch 31/50\n",
      "690/690 - 4s - 5ms/step - accuracy: 0.6697 - loss: 0.6017 - val_accuracy: 0.6706 - val_loss: 0.5874\n",
      "Epoch 32/50\n",
      "690/690 - 3s - 5ms/step - accuracy: 0.6733 - loss: 0.5964 - val_accuracy: 0.6935 - val_loss: 0.5734\n",
      "Epoch 33/50\n",
      "690/690 - 5s - 7ms/step - accuracy: 0.6760 - loss: 0.5953 - val_accuracy: 0.6925 - val_loss: 0.5695\n",
      "Epoch 34/50\n",
      "690/690 - 3s - 5ms/step - accuracy: 0.6774 - loss: 0.5934 - val_accuracy: 0.6983 - val_loss: 0.5696\n",
      "Epoch 35/50\n",
      "690/690 - 3s - 5ms/step - accuracy: 0.6805 - loss: 0.5886 - val_accuracy: 0.7042 - val_loss: 0.5594\n",
      "Epoch 36/50\n",
      "690/690 - 5s - 8ms/step - accuracy: 0.6865 - loss: 0.5825 - val_accuracy: 0.7102 - val_loss: 0.5551\n",
      "Epoch 37/50\n",
      "690/690 - 3s - 5ms/step - accuracy: 0.6882 - loss: 0.5790 - val_accuracy: 0.7133 - val_loss: 0.5498\n",
      "Epoch 38/50\n",
      "690/690 - 3s - 5ms/step - accuracy: 0.6938 - loss: 0.5746 - val_accuracy: 0.6993 - val_loss: 0.5615\n",
      "Epoch 39/50\n",
      "690/690 - 5s - 8ms/step - accuracy: 0.6941 - loss: 0.5732 - val_accuracy: 0.7086 - val_loss: 0.5492\n",
      "Epoch 40/50\n",
      "690/690 - 5s - 7ms/step - accuracy: 0.6947 - loss: 0.5729 - val_accuracy: 0.7058 - val_loss: 0.5512\n",
      "Epoch 41/50\n",
      "690/690 - 5s - 8ms/step - accuracy: 0.6982 - loss: 0.5705 - val_accuracy: 0.7270 - val_loss: 0.5345\n",
      "Epoch 42/50\n",
      "690/690 - 3s - 5ms/step - accuracy: 0.6992 - loss: 0.5663 - val_accuracy: 0.7192 - val_loss: 0.5432\n",
      "Epoch 43/50\n",
      "690/690 - 3s - 5ms/step - accuracy: 0.7031 - loss: 0.5624 - val_accuracy: 0.7288 - val_loss: 0.5343\n",
      "Epoch 44/50\n",
      "690/690 - 5s - 7ms/step - accuracy: 0.7067 - loss: 0.5585 - val_accuracy: 0.7287 - val_loss: 0.5288\n",
      "Epoch 45/50\n",
      "690/690 - 5s - 8ms/step - accuracy: 0.7049 - loss: 0.5595 - val_accuracy: 0.7298 - val_loss: 0.5274\n",
      "Epoch 46/50\n",
      "690/690 - 3s - 5ms/step - accuracy: 0.7087 - loss: 0.5587 - val_accuracy: 0.7074 - val_loss: 0.5473\n",
      "Epoch 47/50\n",
      "690/690 - 3s - 5ms/step - accuracy: 0.7079 - loss: 0.5560 - val_accuracy: 0.7357 - val_loss: 0.5266\n",
      "Epoch 48/50\n",
      "690/690 - 4s - 5ms/step - accuracy: 0.7107 - loss: 0.5522 - val_accuracy: 0.7475 - val_loss: 0.5099\n",
      "Epoch 49/50\n",
      "690/690 - 5s - 7ms/step - accuracy: 0.7128 - loss: 0.5483 - val_accuracy: 0.7388 - val_loss: 0.5139\n",
      "Epoch 50/50\n",
      "690/690 - 6s - 8ms/step - accuracy: 0.7144 - loss: 0.5479 - val_accuracy: 0.7055 - val_loss: 0.5407\n"
     ]
    },
    {
     "data": {
      "text/plain": [
       "<keras.src.callbacks.history.History at 0x148f069ce50>"
      ]
     },
     "execution_count": 22,
     "metadata": {},
     "output_type": "execute_result"
    }
   ],
   "source": [
    "ann_model2.fit(X_train_balance,\n",
    "               y_train_balance,\n",
    "               epochs=50,\n",
    "               batch_size=128,\n",
    "               validation_data=(X_val_balance, y_val_balance),\n",
    "               callbacks=[early_stopping],\n",
    "               verbose=2)"
   ]
  },
  {
   "cell_type": "markdown",
   "id": "d065f998",
   "metadata": {},
   "source": [
    "#### Learning Rate Scheduler atau setiap beberapa epoch akan dikecilin learning ratenya"
   ]
  },
  {
   "cell_type": "code",
   "execution_count": 23,
   "id": "6c6fd446",
   "metadata": {},
   "outputs": [],
   "source": [
    "from tensorflow.keras.callbacks import LearningRateScheduler\n",
    "\n",
    "def learning_rate_scheduler(epoch, lr):\n",
    "    \n",
    "    if epoch % 10 == 0 and epoch != 0:\n",
    "        lr = lr * 0.1\n",
    "        \n",
    "    return lr"
   ]
  },
  {
   "cell_type": "code",
   "execution_count": 24,
   "id": "b45946e3",
   "metadata": {},
   "outputs": [],
   "source": [
    "lr_schedul = LearningRateScheduler(learning_rate_scheduler)"
   ]
  },
  {
   "cell_type": "code",
   "execution_count": 25,
   "id": "eL5P6fa3QaIR",
   "metadata": {
    "id": "eL5P6fa3QaIR",
    "scrolled": false
   },
   "outputs": [
    {
     "name": "stdout",
     "output_type": "stream",
     "text": [
      "Epoch 1/100\n",
      "690/690 - 5s - 8ms/step - accuracy: 0.7167 - loss: 0.5454 - val_accuracy: 0.7387 - val_loss: 0.5162 - learning_rate: 0.0010\n",
      "Epoch 2/100\n",
      "690/690 - 9s - 13ms/step - accuracy: 0.7178 - loss: 0.5427 - val_accuracy: 0.7350 - val_loss: 0.5187 - learning_rate: 0.0010\n",
      "Epoch 3/100\n",
      "690/690 - 4s - 6ms/step - accuracy: 0.7187 - loss: 0.5427 - val_accuracy: 0.7456 - val_loss: 0.5105 - learning_rate: 0.0010\n",
      "Epoch 4/100\n",
      "690/690 - 3s - 5ms/step - accuracy: 0.7185 - loss: 0.5418 - val_accuracy: 0.7506 - val_loss: 0.5073 - learning_rate: 0.0010\n",
      "Epoch 5/100\n",
      "690/690 - 3s - 5ms/step - accuracy: 0.7230 - loss: 0.5385 - val_accuracy: 0.7532 - val_loss: 0.5033 - learning_rate: 0.0010\n",
      "Epoch 6/100\n",
      "690/690 - 3s - 5ms/step - accuracy: 0.7201 - loss: 0.5392 - val_accuracy: 0.7332 - val_loss: 0.5171 - learning_rate: 0.0010\n",
      "Epoch 7/100\n",
      "690/690 - 3s - 5ms/step - accuracy: 0.7256 - loss: 0.5335 - val_accuracy: 0.7451 - val_loss: 0.5084 - learning_rate: 0.0010\n",
      "Epoch 8/100\n",
      "690/690 - 3s - 5ms/step - accuracy: 0.7253 - loss: 0.5331 - val_accuracy: 0.7397 - val_loss: 0.5055 - learning_rate: 0.0010\n",
      "Epoch 9/100\n",
      "690/690 - 5s - 8ms/step - accuracy: 0.7257 - loss: 0.5318 - val_accuracy: 0.7485 - val_loss: 0.5066 - learning_rate: 0.0010\n",
      "Epoch 10/100\n",
      "690/690 - 4s - 5ms/step - accuracy: 0.7251 - loss: 0.5321 - val_accuracy: 0.7416 - val_loss: 0.5076 - learning_rate: 0.0010\n",
      "Epoch 11/100\n",
      "690/690 - 4s - 6ms/step - accuracy: 0.7376 - loss: 0.5170 - val_accuracy: 0.7656 - val_loss: 0.4828 - learning_rate: 1.0000e-04\n",
      "Epoch 12/100\n",
      "690/690 - 6s - 9ms/step - accuracy: 0.7423 - loss: 0.5133 - val_accuracy: 0.7648 - val_loss: 0.4835 - learning_rate: 1.0000e-04\n",
      "Epoch 13/100\n",
      "690/690 - 4s - 6ms/step - accuracy: 0.7433 - loss: 0.5101 - val_accuracy: 0.7634 - val_loss: 0.4803 - learning_rate: 1.0000e-04\n",
      "Epoch 14/100\n",
      "690/690 - 4s - 6ms/step - accuracy: 0.7428 - loss: 0.5107 - val_accuracy: 0.7601 - val_loss: 0.4859 - learning_rate: 1.0000e-04\n",
      "Epoch 15/100\n",
      "690/690 - 4s - 6ms/step - accuracy: 0.7446 - loss: 0.5075 - val_accuracy: 0.7624 - val_loss: 0.4810 - learning_rate: 1.0000e-04\n",
      "Epoch 16/100\n",
      "690/690 - 4s - 6ms/step - accuracy: 0.7447 - loss: 0.5081 - val_accuracy: 0.7648 - val_loss: 0.4787 - learning_rate: 1.0000e-04\n",
      "Epoch 17/100\n",
      "690/690 - 4s - 6ms/step - accuracy: 0.7441 - loss: 0.5089 - val_accuracy: 0.7617 - val_loss: 0.4835 - learning_rate: 1.0000e-04\n",
      "Epoch 18/100\n",
      "690/690 - 3s - 4ms/step - accuracy: 0.7462 - loss: 0.5061 - val_accuracy: 0.7661 - val_loss: 0.4783 - learning_rate: 1.0000e-04\n",
      "Epoch 19/100\n",
      "690/690 - 6s - 8ms/step - accuracy: 0.7457 - loss: 0.5069 - val_accuracy: 0.7618 - val_loss: 0.4802 - learning_rate: 1.0000e-04\n",
      "Epoch 20/100\n",
      "690/690 - 5s - 7ms/step - accuracy: 0.7471 - loss: 0.5053 - val_accuracy: 0.7667 - val_loss: 0.4747 - learning_rate: 1.0000e-04\n",
      "Epoch 21/100\n",
      "690/690 - 5s - 8ms/step - accuracy: 0.7490 - loss: 0.5043 - val_accuracy: 0.7668 - val_loss: 0.4752 - learning_rate: 1.0000e-05\n",
      "Epoch 22/100\n",
      "690/690 - 3s - 5ms/step - accuracy: 0.7475 - loss: 0.5038 - val_accuracy: 0.7662 - val_loss: 0.4757 - learning_rate: 1.0000e-05\n",
      "Epoch 23/100\n",
      "690/690 - 3s - 5ms/step - accuracy: 0.7480 - loss: 0.5022 - val_accuracy: 0.7663 - val_loss: 0.4752 - learning_rate: 1.0000e-05\n",
      "Epoch 24/100\n",
      "690/690 - 3s - 5ms/step - accuracy: 0.7464 - loss: 0.5055 - val_accuracy: 0.7659 - val_loss: 0.4757 - learning_rate: 1.0000e-05\n",
      "Epoch 25/100\n",
      "690/690 - 3s - 5ms/step - accuracy: 0.7469 - loss: 0.5040 - val_accuracy: 0.7666 - val_loss: 0.4746 - learning_rate: 1.0000e-05\n",
      "Epoch 26/100\n",
      "690/690 - 6s - 8ms/step - accuracy: 0.7482 - loss: 0.5044 - val_accuracy: 0.7659 - val_loss: 0.4757 - learning_rate: 1.0000e-05\n",
      "Epoch 27/100\n",
      "690/690 - 5s - 7ms/step - accuracy: 0.7490 - loss: 0.5020 - val_accuracy: 0.7666 - val_loss: 0.4743 - learning_rate: 1.0000e-05\n",
      "Epoch 28/100\n",
      "690/690 - 3s - 5ms/step - accuracy: 0.7476 - loss: 0.5044 - val_accuracy: 0.7653 - val_loss: 0.4755 - learning_rate: 1.0000e-05\n",
      "Epoch 29/100\n",
      "690/690 - 3s - 4ms/step - accuracy: 0.7482 - loss: 0.5039 - val_accuracy: 0.7673 - val_loss: 0.4736 - learning_rate: 1.0000e-05\n",
      "Epoch 30/100\n",
      "690/690 - 5s - 8ms/step - accuracy: 0.7471 - loss: 0.5032 - val_accuracy: 0.7651 - val_loss: 0.4756 - learning_rate: 1.0000e-05\n",
      "Epoch 31/100\n",
      "690/690 - 3s - 4ms/step - accuracy: 0.7485 - loss: 0.5022 - val_accuracy: 0.7656 - val_loss: 0.4752 - learning_rate: 1.0000e-06\n",
      "Epoch 32/100\n",
      "690/690 - 3s - 5ms/step - accuracy: 0.7487 - loss: 0.5029 - val_accuracy: 0.7656 - val_loss: 0.4749 - learning_rate: 1.0000e-06\n",
      "Epoch 33/100\n",
      "690/690 - 3s - 5ms/step - accuracy: 0.7478 - loss: 0.5046 - val_accuracy: 0.7656 - val_loss: 0.4749 - learning_rate: 1.0000e-06\n",
      "Epoch 34/100\n",
      "690/690 - 5s - 8ms/step - accuracy: 0.7485 - loss: 0.5035 - val_accuracy: 0.7656 - val_loss: 0.4748 - learning_rate: 1.0000e-06\n",
      "Epoch 35/100\n",
      "690/690 - 5s - 7ms/step - accuracy: 0.7495 - loss: 0.5026 - val_accuracy: 0.7660 - val_loss: 0.4748 - learning_rate: 1.0000e-06\n",
      "Epoch 36/100\n",
      "690/690 - 5s - 8ms/step - accuracy: 0.7469 - loss: 0.5035 - val_accuracy: 0.7661 - val_loss: 0.4746 - learning_rate: 1.0000e-06\n",
      "Epoch 37/100\n",
      "690/690 - 5s - 8ms/step - accuracy: 0.7485 - loss: 0.5040 - val_accuracy: 0.7661 - val_loss: 0.4747 - learning_rate: 1.0000e-06\n",
      "Epoch 38/100\n",
      "690/690 - 4s - 5ms/step - accuracy: 0.7456 - loss: 0.5053 - val_accuracy: 0.7661 - val_loss: 0.4747 - learning_rate: 1.0000e-06\n",
      "Epoch 39/100\n",
      "690/690 - 3s - 5ms/step - accuracy: 0.7489 - loss: 0.5021 - val_accuracy: 0.7663 - val_loss: 0.4746 - learning_rate: 1.0000e-06\n"
     ]
    },
    {
     "data": {
      "text/plain": [
       "<keras.src.callbacks.history.History at 0x148f0e7ba10>"
      ]
     },
     "execution_count": 25,
     "metadata": {},
     "output_type": "execute_result"
    }
   ],
   "source": [
    "ann_model2.fit(X_train_balance,\n",
    "               y_train_balance,\n",
    "               epochs=100,\n",
    "               batch_size=128,\n",
    "               validation_data=(X_val_balance, y_val_balance),\n",
    "               callbacks=[lr_schedul, early_stopping],\n",
    "               verbose=2)"
   ]
  },
  {
   "cell_type": "code",
   "execution_count": 34,
   "id": "eaa3298c",
   "metadata": {},
   "outputs": [],
   "source": [
    "def viz_hasil_nn(ann_model):\n",
    "    # Mendapatkan riwayat pelatihan dari model\n",
    "    history = ann_model.history\n",
    "    \n",
    "    # Membuat plot untuk akurasi\n",
    "    plt.figure(figsize=(12, 6))\n",
    "    plt.plot(history.history[\"accuracy\"], label=\"Model Accuracy\")\n",
    "    plt.plot(history.history[\"val_accuracy\"], label=\"Validation Accuracy\")\n",
    "    plt.title(\"Model Accuracy\")\n",
    "    plt.xlabel(\"Epoch\")\n",
    "    plt.ylabel(\"Accuracy\")\n",
    "    plt.legend()\n",
    "    plt.grid(True)\n",
    "    plt.show()\n",
    "\n",
    "    # Membuat plot untuk loss\n",
    "    plt.figure(figsize=(12, 6))\n",
    "    plt.plot(history.history[\"loss\"], label=\"Model Loss\")\n",
    "    plt.plot(history.history[\"val_loss\"], label=\"Validation Loss\")\n",
    "    plt.title(\"Model Loss\")\n",
    "    plt.xlabel(\"Epoch\")\n",
    "    plt.ylabel(\"Loss\")\n",
    "    plt.legend()\n",
    "    plt.grid(True)\n",
    "    plt.show()"
   ]
  },
  {
   "cell_type": "code",
   "execution_count": 35,
   "id": "a7bf8197",
   "metadata": {},
   "outputs": [
    {
     "data": {
      "application/javascript": [
       "\n",
       "        if (window._pyforest_update_imports_cell) { window._pyforest_update_imports_cell('import matplotlib.pyplot as plt\\nimport keras\\nimport pandas as pd'); }\n",
       "    "
      ],
      "text/plain": [
       "<IPython.core.display.Javascript object>"
      ]
     },
     "metadata": {},
     "output_type": "display_data"
    },
    {
     "data": {
      "application/javascript": [
       "\n",
       "        if (window._pyforest_update_imports_cell) { window._pyforest_update_imports_cell('import matplotlib.pyplot as plt\\nimport keras\\nimport pandas as pd'); }\n",
       "    "
      ],
      "text/plain": [
       "<IPython.core.display.Javascript object>"
      ]
     },
     "metadata": {},
     "output_type": "display_data"
    },
    {
     "data": {
      "application/javascript": [
       "\n",
       "        if (window._pyforest_update_imports_cell) { window._pyforest_update_imports_cell('import matplotlib.pyplot as plt\\nimport keras\\nimport pandas as pd'); }\n",
       "    "
      ],
      "text/plain": [
       "<IPython.core.display.Javascript object>"
      ]
     },
     "metadata": {},
     "output_type": "display_data"
    },
    {
     "data": {
      "application/javascript": [
       "\n",
       "        if (window._pyforest_update_imports_cell) { window._pyforest_update_imports_cell('import matplotlib.pyplot as plt\\nimport keras\\nimport pandas as pd'); }\n",
       "    "
      ],
      "text/plain": [
       "<IPython.core.display.Javascript object>"
      ]
     },
     "metadata": {},
     "output_type": "display_data"
    },
    {
     "data": {
      "application/javascript": [
       "\n",
       "        if (window._pyforest_update_imports_cell) { window._pyforest_update_imports_cell('import matplotlib.pyplot as plt\\nimport keras\\nimport pandas as pd'); }\n",
       "    "
      ],
      "text/plain": [
       "<IPython.core.display.Javascript object>"
      ]
     },
     "metadata": {},
     "output_type": "display_data"
    },
    {
     "data": {
      "application/javascript": [
       "\n",
       "        if (window._pyforest_update_imports_cell) { window._pyforest_update_imports_cell('import matplotlib.pyplot as plt\\nimport keras\\nimport pandas as pd'); }\n",
       "    "
      ],
      "text/plain": [
       "<IPython.core.display.Javascript object>"
      ]
     },
     "metadata": {},
     "output_type": "display_data"
    },
    {
     "data": {
      "application/javascript": [
       "\n",
       "        if (window._pyforest_update_imports_cell) { window._pyforest_update_imports_cell('import matplotlib.pyplot as plt\\nimport keras\\nimport pandas as pd'); }\n",
       "    "
      ],
      "text/plain": [
       "<IPython.core.display.Javascript object>"
      ]
     },
     "metadata": {},
     "output_type": "display_data"
    },
    {
     "data": {
      "application/javascript": [
       "\n",
       "        if (window._pyforest_update_imports_cell) { window._pyforest_update_imports_cell('import matplotlib.pyplot as plt\\nimport keras\\nimport pandas as pd'); }\n",
       "    "
      ],
      "text/plain": [
       "<IPython.core.display.Javascript object>"
      ]
     },
     "metadata": {},
     "output_type": "display_data"
    },
    {
     "data": {
      "application/javascript": [
       "\n",
       "        if (window._pyforest_update_imports_cell) { window._pyforest_update_imports_cell('import matplotlib.pyplot as plt\\nimport keras\\nimport pandas as pd'); }\n",
       "    "
      ],
      "text/plain": [
       "<IPython.core.display.Javascript object>"
      ]
     },
     "metadata": {},
     "output_type": "display_data"
    },
    {
     "data": {
      "image/png": "[encoded data removed]",
      "text/plain": [
       "<Figure size 1200x600 with 1 Axes>"
      ]
     },
     "metadata": {},
     "output_type": "display_data"
    },
    {
     "data": {
      "application/javascript": [
       "\n",
       "        if (window._pyforest_update_imports_cell) { window._pyforest_update_imports_cell('import matplotlib.pyplot as plt\\nimport keras\\nimport pandas as pd'); }\n",
       "    "
      ],
      "text/plain": [
       "<IPython.core.display.Javascript object>"
      ]
     },
     "metadata": {},
     "output_type": "display_data"
    },
    {
     "data": {
      "application/javascript": [
       "\n",
       "        if (window._pyforest_update_imports_cell) { window._pyforest_update_imports_cell('import matplotlib.pyplot as plt\\nimport keras\\nimport pandas as pd'); }\n",
       "    "
      ],
      "text/plain": [
       "<IPython.core.display.Javascript object>"
      ]
     },
     "metadata": {},
     "output_type": "display_data"
    },
    {
     "data": {
      "application/javascript": [
       "\n",
       "        if (window._pyforest_update_imports_cell) { window._pyforest_update_imports_cell('import matplotlib.pyplot as plt\\nimport keras\\nimport pandas as pd'); }\n",
       "    "
      ],
      "text/plain": [
       "<IPython.core.display.Javascript object>"
      ]
     },
     "metadata": {},
     "output_type": "display_data"
    },
    {
     "data": {
      "application/javascript": [
       "\n",
       "        if (window._pyforest_update_imports_cell) { window._pyforest_update_imports_cell('import matplotlib.pyplot as plt\\nimport keras\\nimport pandas as pd'); }\n",
       "    "
      ],
      "text/plain": [
       "<IPython.core.display.Javascript object>"
      ]
     },
     "metadata": {},
     "output_type": "display_data"
    },
    {
     "data": {
      "application/javascript": [
       "\n",
       "        if (window._pyforest_update_imports_cell) { window._pyforest_update_imports_cell('import matplotlib.pyplot as plt\\nimport keras\\nimport pandas as pd'); }\n",
       "    "
      ],
      "text/plain": [
       "<IPython.core.display.Javascript object>"
      ]
     },
     "metadata": {},
     "output_type": "display_data"
    },
    {
     "data": {
      "application/javascript": [
       "\n",
       "        if (window._pyforest_update_imports_cell) { window._pyforest_update_imports_cell('import matplotlib.pyplot as plt\\nimport keras\\nimport pandas as pd'); }\n",
       "    "
      ],
      "text/plain": [
       "<IPython.core.display.Javascript object>"
      ]
     },
     "metadata": {},
     "output_type": "display_data"
    },
    {
     "data": {
      "application/javascript": [
       "\n",
       "        if (window._pyforest_update_imports_cell) { window._pyforest_update_imports_cell('import matplotlib.pyplot as plt\\nimport keras\\nimport pandas as pd'); }\n",
       "    "
      ],
      "text/plain": [
       "<IPython.core.display.Javascript object>"
      ]
     },
     "metadata": {},
     "output_type": "display_data"
    },
    {
     "data": {
      "application/javascript": [
       "\n",
       "        if (window._pyforest_update_imports_cell) { window._pyforest_update_imports_cell('import matplotlib.pyplot as plt\\nimport keras\\nimport pandas as pd'); }\n",
       "    "
      ],
      "text/plain": [
       "<IPython.core.display.Javascript object>"
      ]
     },
     "metadata": {},
     "output_type": "display_data"
    },
    {
     "data": {
      "application/javascript": [
       "\n",
       "        if (window._pyforest_update_imports_cell) { window._pyforest_update_imports_cell('import matplotlib.pyplot as plt\\nimport keras\\nimport pandas as pd'); }\n",
       "    "
      ],
      "text/plain": [
       "<IPython.core.display.Javascript object>"
      ]
     },
     "metadata": {},
     "output_type": "display_data"
    },
    {
     "data": {
      "image/png": "[encoded data removed]",
      "text/plain": [
       "<Figure size 1200x600 with 1 Axes>"
      ]
     },
     "metadata": {},
     "output_type": "display_data"
    }
   ],
   "source": [
    "viz_hasil_nn(ann_model2)"
   ]
  },
  {
   "cell_type": "code",
   "execution_count": 39,
   "id": "9e70a822",
   "metadata": {},
   "outputs": [
    {
     "name": "stdout",
     "output_type": "stream",
     "text": [
      "Hasil Evaluasi Model terhadap Prediksi data test menggunakan NN:\n"
     ]
    },
    {
     "data": {
      "application/javascript": [
       "\n",
       "        if (window._pyforest_update_imports_cell) { window._pyforest_update_imports_cell('import numpy as np\\nimport matplotlib.pyplot as plt\\nimport keras\\nimport pandas as pd'); }\n",
       "    "
      ],
      "text/plain": [
       "<IPython.core.display.Javascript object>"
      ]
     },
     "metadata": {},
     "output_type": "display_data"
    },
    {
     "name": "stdout",
     "output_type": "stream",
     "text": [
      "Accuracy:  0.625032\n",
      "Precision:  0.133455\n",
      "Recall:  0.820762\n",
      "F1 Score:  0.229580\n",
      "Loss:  0.567785\n"
     ]
    }
   ],
   "source": [
    "print(\"Hasil Evaluasi Model terhadap Prediksi data test menggunakan NN:\")\n",
    "pred_report_nn(y_test, ann_model2.predict(X_test, verbose=0))"
   ]
  },
  {
   "cell_type": "code",
   "execution_count": 40,
   "id": "a19c2823",
   "metadata": {},
   "outputs": [
    {
     "data": {
      "application/javascript": [
       "\n",
       "        if (window._pyforest_update_imports_cell) { window._pyforest_update_imports_cell('import numpy as np\\nimport matplotlib.pyplot as plt\\nimport keras\\nimport pandas as pd'); }\n",
       "    "
      ],
      "text/plain": [
       "<IPython.core.display.Javascript object>"
      ]
     },
     "metadata": {},
     "output_type": "display_data"
    },
    {
     "data": {
      "application/javascript": [
       "\n",
       "        if (window._pyforest_update_imports_cell) { window._pyforest_update_imports_cell('import numpy as np\\nimport matplotlib.pyplot as plt\\nimport keras\\nimport pandas as pd'); }\n",
       "    "
      ],
      "text/plain": [
       "<IPython.core.display.Javascript object>"
      ]
     },
     "metadata": {},
     "output_type": "display_data"
    },
    {
     "data": {
      "application/javascript": [
       "\n",
       "        if (window._pyforest_update_imports_cell) { window._pyforest_update_imports_cell('import numpy as np\\nimport matplotlib.pyplot as plt\\nimport keras\\nimport pandas as pd'); }\n",
       "    "
      ],
      "text/plain": [
       "<IPython.core.display.Javascript object>"
      ]
     },
     "metadata": {},
     "output_type": "display_data"
    },
    {
     "data": {
      "image/png": "[encoded data removed]",
      "text/plain": [
       "<Figure size 640x480 with 2 Axes>"
      ]
     },
     "metadata": {},
     "output_type": "display_data"
    }
   ],
   "source": [
    "plot_confusion_matriks(y_test, np.round(ann_model2.predict(X_test, verbose=0)))"
   ]
  },
  {
   "cell_type": "markdown",
   "id": "700f9010",
   "metadata": {},
   "source": [
    "#### NN Conclusion\n",
    "Model neural network yang dilatih menunjukkan peningkatan performa yang signifikan setelah penyesuaian learning rate setiap 10 epoch. Pada epoch awal, model mulai dengan learning rate 0.001, menghasilkan peningkatan akurasi bertahap namun konsisten. Setelah epoch ke-10, learning rate diturunkan menjadi 0.0001, yang menyebabkan peningkatan lebih stabil dan akurasi validasi yang lebih baik, mencapai sekitar 78.5% pada akhir pelatihan. Penurunan learning rate lebih lanjut hingga 0.00001 dan akhirnya 0.000001 membantu model mencapai konvergensi yang lebih halus, mengurangi overfitting, dan menjaga val_loss sekitar 0.4537 yang menunjukkan model yang cukup stabil dan tidak overfitting pada data validasi. Penerapan dari LearningRateScheduler berhasil meningkatkan performa model secara keseluruhan, menunjukkan bahwa penyesuaian dinamis learning rate dapat membantu dalam mencapai model yang lebih generalizable dan efektif."
   ]
  },
  {
   "cell_type": "code",
   "execution_count": 26,
   "id": "af9f3f90",
   "metadata": {},
   "outputs": [],
   "source": [
    "ann_model2.save('C:/Users/ASUS/kode/Projek/bankrupt/Neural Network.keras')"
   ]
  }
 ],
 "metadata": {
  "accelerator": "GPU",
  "colab": {
   "gpuType": "T4",
   "provenance": []
  },
  "kernelspec": {
   "display_name": "Python 3 (ipykernel)",
   "language": "python",
   "name": "python3"
  },
  "language_info": {
   "codemirror_mode": {
    "name": "ipython",
    "version": 3
   },
   "file_extension": ".py",
   "mimetype": "text/x-python",
   "name": "python",
   "nbconvert_exporter": "python",
   "pygments_lexer": "ipython3",
   "version": "3.11.5"
  }
 },
 "nbformat": 4,
 "nbformat_minor": 5
}
