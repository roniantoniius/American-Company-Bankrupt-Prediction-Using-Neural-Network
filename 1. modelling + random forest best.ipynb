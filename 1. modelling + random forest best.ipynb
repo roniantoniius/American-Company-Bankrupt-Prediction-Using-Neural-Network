{
 "cells": [
  {
   "cell_type": "markdown",
   "id": "737dfe6c",
   "metadata": {
    "id": "737dfe6c"
   },
   "source": [
    "# America Company Bankrupt Prediction Random Forest Best (1)"
   ]
  },
  {
   "cell_type": "code",
   "execution_count": 1,
   "id": "66688a3c",
   "metadata": {
    "executionInfo": {
     "elapsed": 327,
     "status": "ok",
     "timestamp": 1715854407403,
     "user": {
      "displayName": "Roni Antonius Sinabutar",
      "userId": "06736772884645285418"
     },
     "user_tz": -420
    },
    "id": "66688a3c"
   },
   "outputs": [],
   "source": [
    "import warnings\n",
    "warnings.filterwarnings('ignore')"
   ]
  },
  {
   "cell_type": "code",
   "execution_count": 6,
   "id": "7c3aaebb",
   "metadata": {
    "executionInfo": {
     "elapsed": 363,
     "status": "ok",
     "timestamp": 1715854438126,
     "user": {
      "displayName": "Roni Antonius Sinabutar",
      "userId": "06736772884645285418"
     },
     "user_tz": -420
    },
    "id": "7c3aaebb"
   },
   "outputs": [],
   "source": [
    "from imblearn.over_sampling import SMOTE"
   ]
  },
  {
   "cell_type": "code",
   "execution_count": 7,
   "id": "30c18098",
   "metadata": {
    "executionInfo": {
     "elapsed": 8129,
     "status": "ok",
     "timestamp": 1715854449845,
     "user": {
      "displayName": "Roni Antonius Sinabutar",
      "userId": "06736772884645285418"
     },
     "user_tz": -420
    },
    "id": "30c18098"
   },
   "outputs": [],
   "source": [
    "import keras\n",
    "import pickle\n",
    "from feature_engine.outliers       import Winsorizer"
   ]
  },
  {
   "cell_type": "code",
   "execution_count": 8,
   "id": "3158f6e9",
   "metadata": {
    "executionInfo": {
     "elapsed": 353,
     "status": "ok",
     "timestamp": 1715854452483,
     "user": {
      "displayName": "Roni Antonius Sinabutar",
      "userId": "06736772884645285418"
     },
     "user_tz": -420
    },
    "id": "3158f6e9"
   },
   "outputs": [],
   "source": [
    "# library dibawah sebenarnya udah ada di pyforest\n",
    "from sklearn.model_selection       import train_test_split\n",
    "from sklearn.feature_selection     import SelectKBest, f_classif\n",
    "from sklearn.preprocessing         import MinMaxScaler, StandardScaler\n",
    "from sklearn.preprocessing         import LabelEncoder, OrdinalEncoder, OneHotEncoder\n",
    "from sklearn.pipeline              import make_pipeline\n",
    "from sklearn.compose               import ColumnTransformer\n",
    "from sklearn.metrics               import (f1_score,\n",
    "                                           precision_score,\n",
    "                                           recall_score,\n",
    "                                           log_loss,\n",
    "                                           accuracy_score,\n",
    "                                           classification_report,\n",
    "                                           ConfusionMatrixDisplay,\n",
    "                                           confusion_matrix)\n",
    "\n",
    "\n",
    "from sklearn.ensemble              import StackingClassifier\n",
    "from sklearn.pipeline              import Pipeline\n",
    "from sklearn.preprocessing         import StandardScaler\n",
    "from sklearn_pandas                import DataFrameMapper\n",
    "from sklearn.ensemble              import AdaBoostClassifier\n",
    "from sklearn.tree                  import DecisionTreeClassifier\n",
    "from sklearn.linear_model          import LogisticRegression\n",
    "from matplotlib.colors             import ListedColormap\n",
    "from sklearn.linear_model          import SGDClassifier\n",
    "from sklearn.ensemble              import RandomForestClassifier\n",
    "from sklearn.linear_model          import SGDClassifier\n",
    "from sklearn.svm                   import SVC\n",
    "from sklearn.naive_bayes           import GaussianNB\n",
    "from sklearn.neighbors             import KNeighborsClassifier\n",
    "from sklearn.neighbors             import NeighborhoodComponentsAnalysis\n",
    "from keras.callbacks               import EarlyStopping"
   ]
  },
  {
   "cell_type": "code",
   "execution_count": 9,
   "id": "tcuZEt1P0X-O",
   "metadata": {
    "colab": {
     "base_uri": "https://localhost:8080/"
    },
    "executionInfo": {
     "elapsed": 356,
     "status": "ok",
     "timestamp": 1715854456435,
     "user": {
      "displayName": "Roni Antonius Sinabutar",
      "userId": "06736772884645285418"
     },
     "user_tz": -420
    },
    "id": "tcuZEt1P0X-O",
    "outputId": "5aa4618f-6ebb-4edd-e3bc-7f9cc9c51ee7"
   },
   "outputs": [
    {
     "name": "stdout",
     "output_type": "stream",
     "text": [
      "2.15.0\n"
     ]
    }
   ],
   "source": [
    "import tensorflow as tf #cek versi tensorflow\n",
    "print(tf.__version__)"
   ]
  },
  {
   "cell_type": "code",
   "execution_count": 10,
   "id": "0brLQ3800YCF",
   "metadata": {
    "executionInfo": {
     "elapsed": 354,
     "status": "ok",
     "timestamp": 1715854459106,
     "user": {
      "displayName": "Roni Antonius Sinabutar",
      "userId": "06736772884645285418"
     },
     "user_tz": -420
    },
    "id": "0brLQ3800YCF"
   },
   "outputs": [],
   "source": []
  },
  {
   "cell_type": "code",
   "execution_count": 11,
   "id": "AiVrrjhn0QRD",
   "metadata": {
    "executionInfo": {
     "elapsed": 10,
     "status": "ok",
     "timestamp": 1715854462108,
     "user": {
      "displayName": "Roni Antonius Sinabutar",
      "userId": "06736772884645285418"
     },
     "user_tz": -420
    },
    "id": "AiVrrjhn0QRD"
   },
   "outputs": [],
   "source": [
    "from google.colab import drive"
   ]
  },
  {
   "cell_type": "code",
   "execution_count": null,
   "id": "rsllGw2q4xQS",
   "metadata": {
    "executionInfo": {
     "elapsed": 15,
     "status": "aborted",
     "timestamp": 1715854431733,
     "user": {
      "displayName": "Roni Antonius Sinabutar",
      "userId": "06736772884645285418"
     },
     "user_tz": -420
    },
    "id": "rsllGw2q4xQS"
   },
   "outputs": [],
   "source": [
    "!pip install pandas --upgrade"
   ]
  },
  {
   "cell_type": "code",
   "execution_count": 14,
   "id": "ccee7dcf",
   "metadata": {
    "colab": {
     "base_uri": "https://localhost:8080/",
     "height": 35
    },
    "executionInfo": {
     "elapsed": 2447,
     "status": "ok",
     "timestamp": 1715854498941,
     "user": {
      "displayName": "Roni Antonius Sinabutar",
      "userId": "06736772884645285418"
     },
     "user_tz": -420
    },
    "id": "ccee7dcf",
    "outputId": "17aedb19-0766-4f3c-f81a-2574aa30b0ea"
   },
   "outputs": [
    {
     "name": "stdout",
     "output_type": "stream",
     "text": [
      "Drive already mounted at /content/drive; to attempt to forcibly remount, call drive.mount(\"/content/drive\", force_remount=True).\n"
     ]
    },
    {
     "data": {
      "application/javascript": [
       "\n",
       "        if (window._pyforest_update_imports_cell) { window._pyforest_update_imports_cell('import pandas as pd'); }\n",
       "    "
      ],
      "text/plain": [
       "<IPython.core.display.Javascript object>"
      ]
     },
     "metadata": {},
     "output_type": "display_data"
    },
    {
     "data": {
      "application/javascript": [
       "\n",
       "        if (window._pyforest_update_imports_cell) { window._pyforest_update_imports_cell('import pandas as pd'); }\n",
       "    "
      ],
      "text/plain": [
       "<IPython.core.display.Javascript object>"
      ]
     },
     "metadata": {},
     "output_type": "display_data"
    }
   ],
   "source": [
    "drive.mount('/content/drive')\n",
    "X = pd.read_csv('/content/drive/MyDrive/Colab Notebooks/dataset/bankrupt/X.csv')\n",
    "y = pd.read_csv('/content/drive/MyDrive/Colab Notebooks/dataset/bankrupt/y.csv')"
   ]
  },
  {
   "cell_type": "code",
   "execution_count": 15,
   "id": "6b14c5be",
   "metadata": {
    "colab": {
     "base_uri": "https://localhost:8080/",
     "height": 461
    },
    "executionInfo": {
     "elapsed": 555,
     "status": "ok",
     "timestamp": 1715854502665,
     "user": {
      "displayName": "Roni Antonius Sinabutar",
      "userId": "06736772884645285418"
     },
     "user_tz": -420
    },
    "id": "6b14c5be",
    "outputId": "526026aa-a899-418e-a84a-1703cdb7237b"
   },
   "outputs": [
    {
     "data": {
      "application/vnd.google.colaboratory.intrinsic+json": {
       "summary": "{\n  \"name\": \"X\",\n  \"rows\": 78682,\n  \"fields\": [\n    {\n      \"column\": \"year\",\n      \"properties\": {\n        \"dtype\": \"number\",\n        \"std\": 5,\n        \"min\": 1999,\n        \"max\": 2018,\n        \"num_unique_values\": 20,\n        \"samples\": [\n          1999,\n          2016,\n          2014\n        ],\n        \"semantic_type\": \"\",\n        \"description\": \"\"\n      }\n    },\n    {\n      \"column\": \"aset_sekarang\",\n      \"properties\": {\n        \"dtype\": \"number\",\n        \"std\": 3928.5647936521987,\n        \"min\": -7.76,\n        \"max\": 169662.0,\n        \"num_unique_values\": 65895,\n        \"samples\": [\n          22.283,\n          1064.573,\n          4496.9\n        ],\n        \"semantic_type\": \"\",\n        \"description\": \"\"\n      }\n    },\n    {\n      \"column\": \"biaya_barang_terjual\",\n      \"properties\": {\n        \"dtype\": \"number\",\n        \"std\": 8930.484664476227,\n        \"min\": -366.645,\n        \"max\": 374623.0,\n        \"num_unique_values\": 65690,\n        \"samples\": [\n          288.964,\n          435.817,\n          69.157\n        ],\n        \"semantic_type\": \"\",\n        \"description\": \"\"\n      }\n    },\n    {\n      \"column\": \"penyusutan_dan_amortisasi\",\n      \"properties\": {\n        \"dtype\": \"number\",\n        \"std\": 652.3768035960039,\n        \"min\": 0.0,\n        \"max\": 28430.0,\n        \"num_unique_values\": 36010,\n        \"samples\": [\n          8.243,\n          150.6,\n          0.537\n        ],\n        \"semantic_type\": \"\",\n        \"description\": \"\"\n      }\n    },\n    {\n      \"column\": \"laba_spbda\",\n      \"properties\": {\n        \"dtype\": \"number\",\n        \"std\": 2012.0231424233425,\n        \"min\": -21913.0,\n        \"max\": 81730.0,\n        \"num_unique_values\": 59060,\n        \"samples\": [\n          506.0,\n          19.886,\n          512.5\n        ],\n        \"semantic_type\": \"\",\n        \"description\": \"\"\n      }\n    },\n    {\n      \"column\": \"inventaris\",\n      \"properties\": {\n        \"dtype\": \"number\",\n        \"std\": 1060.7660961032943,\n        \"min\": 0.0,\n        \"max\": 62567.0,\n        \"num_unique_values\": 38898,\n        \"samples\": [\n          6561.0,\n          10.962,\n          23.595\n        ],\n        \"semantic_type\": \"\",\n        \"description\": \"\"\n      }\n    },\n    {\n      \"column\": \"pendapatan_bersih\",\n      \"properties\": {\n        \"dtype\": \"number\",\n        \"std\": 1265.5320216400326,\n        \"min\": -98696.0,\n        \"max\": 104821.0,\n        \"num_unique_values\": 55550,\n        \"samples\": [\n          -546.3,\n          42.495,\n          -3.728\n        ],\n        \"semantic_type\": \"\",\n        \"description\": \"\"\n      }\n    },\n    {\n      \"column\": \"total_piutang\",\n      \"properties\": {\n        \"dtype\": \"number\",\n        \"std\": 1335.9785706231226,\n        \"min\": -0.006,\n        \"max\": 65812.0,\n        \"num_unique_values\": 49577,\n        \"samples\": [\n          62.15,\n          28.384,\n          9.8\n        ],\n        \"semantic_type\": \"\",\n        \"description\": \"\"\n      }\n    },\n    {\n      \"column\": \"nilai_pasar\",\n      \"properties\": {\n        \"dtype\": \"number\",\n        \"std\": 18414.10364738874,\n        \"min\": 0.0001,\n        \"max\": 1073390.54,\n        \"num_unique_values\": 77580,\n        \"samples\": [\n          910.3943,\n          1389.824,\n          473.3325\n        ],\n        \"semantic_type\": \"\",\n        \"description\": \"\"\n      }\n    },\n    {\n      \"column\": \"total_aset\",\n      \"properties\": {\n        \"dtype\": \"number\",\n        \"std\": 12917.944421187363,\n        \"min\": 0.001,\n        \"max\": 531864.0,\n        \"num_unique_values\": 71521,\n        \"samples\": [\n          556.483,\n          159.306,\n          453.262\n        ],\n        \"semantic_type\": \"\",\n        \"description\": \"\"\n      }\n    },\n    {\n      \"column\": \"total_hutang_jangka_panjang\",\n      \"properties\": {\n        \"dtype\": \"number\",\n        \"std\": 3242.1709464678047,\n        \"min\": -0.023,\n        \"max\": 166250.0,\n        \"num_unique_values\": 39741,\n        \"samples\": [\n          427.6,\n          20.141,\n          2.422\n        ],\n        \"semantic_type\": \"\",\n        \"description\": \"\"\n      }\n    },\n    {\n      \"column\": \"laba_kotor\",\n      \"properties\": {\n        \"dtype\": \"number\",\n        \"std\": 3774.7031137877234,\n        \"min\": -21536.0,\n        \"max\": 137106.0,\n        \"num_unique_values\": 64952,\n        \"samples\": [\n          632.926,\n          166.534,\n          3186.0\n        ],\n        \"semantic_type\": \"\",\n        \"description\": \"\"\n      }\n    },\n    {\n      \"column\": \"total_kewajiban lancar\",\n      \"properties\": {\n        \"dtype\": \"number\",\n        \"std\": 2938.387443050376,\n        \"min\": 0.001,\n        \"max\": 116866.0,\n        \"num_unique_values\": 58685,\n        \"samples\": [\n          146.234,\n          982.3,\n          2.89\n        ],\n        \"semantic_type\": \"\",\n        \"description\": \"\"\n      }\n    },\n    {\n      \"column\": \"laba_tersisa\",\n      \"properties\": {\n        \"dtype\": \"number\",\n        \"std\": 6369.159440448502,\n        \"min\": -102362.0,\n        \"max\": 402089.0,\n        \"num_unique_values\": 72062,\n        \"samples\": [\n          -15.282,\n          196.63,\n          -73.82\n        ],\n        \"semantic_type\": \"\",\n        \"description\": \"\"\n      }\n    }\n  ]\n}",
       "type": "dataframe",
       "variable_name": "X"
      },
      "text/html": [
       "\n",
       "  <div id=\"df-7af223a1-8e6d-42a9-bf9d-9270004bca5f\" class=\"colab-df-container\">\n",
       "    <div>\n",
       "<style scoped>\n",
       "    .dataframe tbody tr th:only-of-type {\n",
       "        vertical-align: middle;\n",
       "    }\n",
       "\n",
       "    .dataframe tbody tr th {\n",
       "        vertical-align: top;\n",
       "    }\n",
       "\n",
       "    .dataframe thead th {\n",
       "        text-align: right;\n",
       "    }\n",
       "</style>\n",
       "<table border=\"1\" class=\"dataframe\">\n",
       "  <thead>\n",
       "    <tr style=\"text-align: right;\">\n",
       "      <th></th>\n",
       "      <th>year</th>\n",
       "      <th>aset_sekarang</th>\n",
       "      <th>biaya_barang_terjual</th>\n",
       "      <th>penyusutan_dan_amortisasi</th>\n",
       "      <th>laba_spbda</th>\n",
       "      <th>inventaris</th>\n",
       "      <th>pendapatan_bersih</th>\n",
       "      <th>total_piutang</th>\n",
       "      <th>nilai_pasar</th>\n",
       "      <th>total_aset</th>\n",
       "      <th>total_hutang_jangka_panjang</th>\n",
       "      <th>laba_kotor</th>\n",
       "      <th>total_kewajiban lancar</th>\n",
       "      <th>laba_tersisa</th>\n",
       "    </tr>\n",
       "  </thead>\n",
       "  <tbody>\n",
       "    <tr>\n",
       "      <th>0</th>\n",
       "      <td>1999</td>\n",
       "      <td>511.267</td>\n",
       "      <td>833.107</td>\n",
       "      <td>18.373</td>\n",
       "      <td>89.031</td>\n",
       "      <td>336.018</td>\n",
       "      <td>35.163</td>\n",
       "      <td>128.348</td>\n",
       "      <td>372.7519</td>\n",
       "      <td>740.998</td>\n",
       "      <td>180.447</td>\n",
       "      <td>191.226</td>\n",
       "      <td>163.816</td>\n",
       "      <td>201.026</td>\n",
       "    </tr>\n",
       "    <tr>\n",
       "      <th>1</th>\n",
       "      <td>2000</td>\n",
       "      <td>485.856</td>\n",
       "      <td>713.811</td>\n",
       "      <td>18.577</td>\n",
       "      <td>64.367</td>\n",
       "      <td>320.590</td>\n",
       "      <td>18.531</td>\n",
       "      <td>115.187</td>\n",
       "      <td>377.1180</td>\n",
       "      <td>701.854</td>\n",
       "      <td>179.987</td>\n",
       "      <td>160.444</td>\n",
       "      <td>125.392</td>\n",
       "      <td>204.065</td>\n",
       "    </tr>\n",
       "    <tr>\n",
       "      <th>2</th>\n",
       "      <td>2001</td>\n",
       "      <td>436.656</td>\n",
       "      <td>526.477</td>\n",
       "      <td>22.496</td>\n",
       "      <td>27.207</td>\n",
       "      <td>286.588</td>\n",
       "      <td>-58.939</td>\n",
       "      <td>77.528</td>\n",
       "      <td>364.5928</td>\n",
       "      <td>710.199</td>\n",
       "      <td>217.699</td>\n",
       "      <td>112.244</td>\n",
       "      <td>150.464</td>\n",
       "      <td>139.603</td>\n",
       "    </tr>\n",
       "    <tr>\n",
       "      <th>3</th>\n",
       "      <td>2002</td>\n",
       "      <td>396.412</td>\n",
       "      <td>496.747</td>\n",
       "      <td>27.172</td>\n",
       "      <td>30.745</td>\n",
       "      <td>259.954</td>\n",
       "      <td>-12.410</td>\n",
       "      <td>66.322</td>\n",
       "      <td>143.3295</td>\n",
       "      <td>686.621</td>\n",
       "      <td>164.658</td>\n",
       "      <td>109.590</td>\n",
       "      <td>203.575</td>\n",
       "      <td>124.106</td>\n",
       "    </tr>\n",
       "    <tr>\n",
       "      <th>4</th>\n",
       "      <td>2003</td>\n",
       "      <td>432.204</td>\n",
       "      <td>523.302</td>\n",
       "      <td>26.680</td>\n",
       "      <td>47.491</td>\n",
       "      <td>247.245</td>\n",
       "      <td>3.504</td>\n",
       "      <td>104.661</td>\n",
       "      <td>308.9071</td>\n",
       "      <td>709.292</td>\n",
       "      <td>248.666</td>\n",
       "      <td>128.656</td>\n",
       "      <td>131.261</td>\n",
       "      <td>131.884</td>\n",
       "    </tr>\n",
       "    <tr>\n",
       "      <th>...</th>\n",
       "      <td>...</td>\n",
       "      <td>...</td>\n",
       "      <td>...</td>\n",
       "      <td>...</td>\n",
       "      <td>...</td>\n",
       "      <td>...</td>\n",
       "      <td>...</td>\n",
       "      <td>...</td>\n",
       "      <td>...</td>\n",
       "      <td>...</td>\n",
       "      <td>...</td>\n",
       "      <td>...</td>\n",
       "      <td>...</td>\n",
       "      <td>...</td>\n",
       "    </tr>\n",
       "    <tr>\n",
       "      <th>78677</th>\n",
       "      <td>2014</td>\n",
       "      <td>233.211</td>\n",
       "      <td>43.338</td>\n",
       "      <td>14.094</td>\n",
       "      <td>45.615</td>\n",
       "      <td>3.376</td>\n",
       "      <td>25.261</td>\n",
       "      <td>22.846</td>\n",
       "      <td>756.4827</td>\n",
       "      <td>1099.101</td>\n",
       "      <td>184.666</td>\n",
       "      <td>60.885</td>\n",
       "      <td>28.197</td>\n",
       "      <td>28.095</td>\n",
       "    </tr>\n",
       "    <tr>\n",
       "      <th>78678</th>\n",
       "      <td>2015</td>\n",
       "      <td>105.559</td>\n",
       "      <td>59.184</td>\n",
       "      <td>42.592</td>\n",
       "      <td>202.133</td>\n",
       "      <td>2.288</td>\n",
       "      <td>129.688</td>\n",
       "      <td>54.611</td>\n",
       "      <td>527.5750</td>\n",
       "      <td>1865.926</td>\n",
       "      <td>770.103</td>\n",
       "      <td>231.969</td>\n",
       "      <td>88.128</td>\n",
       "      <td>157.783</td>\n",
       "    </tr>\n",
       "    <tr>\n",
       "      <th>78679</th>\n",
       "      <td>2016</td>\n",
       "      <td>63.971</td>\n",
       "      <td>69.074</td>\n",
       "      <td>65.057</td>\n",
       "      <td>79.051</td>\n",
       "      <td>2.581</td>\n",
       "      <td>-1.442</td>\n",
       "      <td>42.467</td>\n",
       "      <td>578.8868</td>\n",
       "      <td>1746.235</td>\n",
       "      <td>683.985</td>\n",
       "      <td>100.784</td>\n",
       "      <td>85.765</td>\n",
       "      <td>156.341</td>\n",
       "    </tr>\n",
       "    <tr>\n",
       "      <th>78680</th>\n",
       "      <td>2017</td>\n",
       "      <td>135.207</td>\n",
       "      <td>66.527</td>\n",
       "      <td>65.330</td>\n",
       "      <td>69.171</td>\n",
       "      <td>2.013</td>\n",
       "      <td>-20.401</td>\n",
       "      <td>27.217</td>\n",
       "      <td>412.6241</td>\n",
       "      <td>1736.110</td>\n",
       "      <td>694.035</td>\n",
       "      <td>95.357</td>\n",
       "      <td>82.010</td>\n",
       "      <td>135.941</td>\n",
       "    </tr>\n",
       "    <tr>\n",
       "      <th>78681</th>\n",
       "      <td>2018</td>\n",
       "      <td>82.589</td>\n",
       "      <td>68.817</td>\n",
       "      <td>65.201</td>\n",
       "      <td>67.262</td>\n",
       "      <td>2.112</td>\n",
       "      <td>-50.946</td>\n",
       "      <td>45.839</td>\n",
       "      <td>354.1786</td>\n",
       "      <td>1625.370</td>\n",
       "      <td>632.122</td>\n",
       "      <td>91.696</td>\n",
       "      <td>79.365</td>\n",
       "      <td>84.995</td>\n",
       "    </tr>\n",
       "  </tbody>\n",
       "</table>\n",
       "<p>78682 rows × 14 columns</p>\n",
       "</div>\n",
       "    <div class=\"colab-df-buttons\">\n",
       "\n",
       "  <div class=\"colab-df-container\">\n",
       "    <button class=\"colab-df-convert\" onclick=\"convertToInteractive('df-7af223a1-8e6d-42a9-bf9d-9270004bca5f')\"\n",
       "            title=\"Convert this dataframe to an interactive table.\"\n",
       "            style=\"display:none;\">\n",
       "\n",
       "  <svg xmlns=\"http://www.w3.org/2000/svg\" height=\"24px\" viewBox=\"0 -960 960 960\">\n",
       "    <path d=\"M120-120v-720h720v720H120Zm60-500h600v-160H180v160Zm220 220h160v-160H400v160Zm0 220h160v-160H400v160ZM180-400h160v-160H180v160Zm440 0h160v-160H620v160ZM180-180h160v-160H180v160Zm440 0h160v-160H620v160Z\"/>\n",
       "  </svg>\n",
       "    </button>\n",
       "\n",
       "  <style>\n",
       "    .colab-df-container {\n",
       "      display:flex;\n",
       "      gap: 12px;\n",
       "    }\n",
       "\n",
       "    .colab-df-convert {\n",
       "      background-color: #E8F0FE;\n",
       "      border: none;\n",
       "      border-radius: 50%;\n",
       "      cursor: pointer;\n",
       "      display: none;\n",
       "      fill: #1967D2;\n",
       "      height: 32px;\n",
       "      padding: 0 0 0 0;\n",
       "      width: 32px;\n",
       "    }\n",
       "\n",
       "    .colab-df-convert:hover {\n",
       "      background-color: #E2EBFA;\n",
       "      box-shadow: 0px 1px 2px rgba(60, 64, 67, 0.3), 0px 1px 3px 1px rgba(60, 64, 67, 0.15);\n",
       "      fill: #174EA6;\n",
       "    }\n",
       "\n",
       "    .colab-df-buttons div {\n",
       "      margin-bottom: 4px;\n",
       "    }\n",
       "\n",
       "    [theme=dark] .colab-df-convert {\n",
       "      background-color: #3B4455;\n",
       "      fill: #D2E3FC;\n",
       "    }\n",
       "\n",
       "    [theme=dark] .colab-df-convert:hover {\n",
       "      background-color: #434B5C;\n",
       "      box-shadow: 0px 1px 3px 1px rgba(0, 0, 0, 0.15);\n",
       "      filter: drop-shadow(0px 1px 2px rgba(0, 0, 0, 0.3));\n",
       "      fill: #FFFFFF;\n",
       "    }\n",
       "  </style>\n",
       "\n",
       "    <script>\n",
       "      const buttonEl =\n",
       "        document.querySelector('#df-7af223a1-8e6d-42a9-bf9d-9270004bca5f button.colab-df-convert');\n",
       "      buttonEl.style.display =\n",
       "        google.colab.kernel.accessAllowed ? 'block' : 'none';\n",
       "\n",
       "      async function convertToInteractive(key) {\n",
       "        const element = document.querySelector('#df-7af223a1-8e6d-42a9-bf9d-9270004bca5f');\n",
       "        const dataTable =\n",
       "          await google.colab.kernel.invokeFunction('convertToInteractive',\n",
       "                                                    [key], {});\n",
       "        if (!dataTable) return;\n",
       "\n",
       "        const docLinkHtml = 'Like what you see? Visit the ' +\n",
       "          '<a target=\"_blank\" href=https://colab.research.google.com/notebooks/data_table.ipynb>data table notebook</a>'\n",
       "          + ' to learn more about interactive tables.';\n",
       "        element.innerHTML = '';\n",
       "        dataTable['output_type'] = 'display_data';\n",
       "        await google.colab.output.renderOutput(dataTable, element);\n",
       "        const docLink = document.createElement('div');\n",
       "        docLink.innerHTML = docLinkHtml;\n",
       "        element.appendChild(docLink);\n",
       "      }\n",
       "    </script>\n",
       "  </div>\n",
       "\n",
       "\n",
       "<div id=\"df-78c9a4e7-3208-4b74-8de3-5c414f184ade\">\n",
       "  <button class=\"colab-df-quickchart\" onclick=\"quickchart('df-78c9a4e7-3208-4b74-8de3-5c414f184ade')\"\n",
       "            title=\"Suggest charts\"\n",
       "            style=\"display:none;\">\n",
       "\n",
       "<svg xmlns=\"http://www.w3.org/2000/svg\" height=\"24px\"viewBox=\"0 0 24 24\"\n",
       "     width=\"24px\">\n",
       "    <g>\n",
       "        <path d=\"M19 3H5c-1.1 0-2 .9-2 2v14c0 1.1.9 2 2 2h14c1.1 0 2-.9 2-2V5c0-1.1-.9-2-2-2zM9 17H7v-7h2v7zm4 0h-2V7h2v10zm4 0h-2v-4h2v4z\"/>\n",
       "    </g>\n",
       "</svg>\n",
       "  </button>\n",
       "\n",
       "<style>\n",
       "  .colab-df-quickchart {\n",
       "      --bg-color: #E8F0FE;\n",
       "      --fill-color: #1967D2;\n",
       "      --hover-bg-color: #E2EBFA;\n",
       "      --hover-fill-color: #174EA6;\n",
       "      --disabled-fill-color: #AAA;\n",
       "      --disabled-bg-color: #DDD;\n",
       "  }\n",
       "\n",
       "  [theme=dark] .colab-df-quickchart {\n",
       "      --bg-color: #3B4455;\n",
       "      --fill-color: #D2E3FC;\n",
       "      --hover-bg-color: #434B5C;\n",
       "      --hover-fill-color: #FFFFFF;\n",
       "      --disabled-bg-color: #3B4455;\n",
       "      --disabled-fill-color: #666;\n",
       "  }\n",
       "\n",
       "  .colab-df-quickchart {\n",
       "    background-color: var(--bg-color);\n",
       "    border: none;\n",
       "    border-radius: 50%;\n",
       "    cursor: pointer;\n",
       "    display: none;\n",
       "    fill: var(--fill-color);\n",
       "    height: 32px;\n",
       "    padding: 0;\n",
       "    width: 32px;\n",
       "  }\n",
       "\n",
       "  .colab-df-quickchart:hover {\n",
       "    background-color: var(--hover-bg-color);\n",
       "    box-shadow: 0 1px 2px rgba(60, 64, 67, 0.3), 0 1px 3px 1px rgba(60, 64, 67, 0.15);\n",
       "    fill: var(--button-hover-fill-color);\n",
       "  }\n",
       "\n",
       "  .colab-df-quickchart-complete:disabled,\n",
       "  .colab-df-quickchart-complete:disabled:hover {\n",
       "    background-color: var(--disabled-bg-color);\n",
       "    fill: var(--disabled-fill-color);\n",
       "    box-shadow: none;\n",
       "  }\n",
       "\n",
       "  .colab-df-spinner {\n",
       "    border: 2px solid var(--fill-color);\n",
       "    border-color: transparent;\n",
       "    border-bottom-color: var(--fill-color);\n",
       "    animation:\n",
       "      spin 1s steps(1) infinite;\n",
       "  }\n",
       "\n",
       "  @keyframes spin {\n",
       "    0% {\n",
       "      border-color: transparent;\n",
       "      border-bottom-color: var(--fill-color);\n",
       "      border-left-color: var(--fill-color);\n",
       "    }\n",
       "    20% {\n",
       "      border-color: transparent;\n",
       "      border-left-color: var(--fill-color);\n",
       "      border-top-color: var(--fill-color);\n",
       "    }\n",
       "    30% {\n",
       "      border-color: transparent;\n",
       "      border-left-color: var(--fill-color);\n",
       "      border-top-color: var(--fill-color);\n",
       "      border-right-color: var(--fill-color);\n",
       "    }\n",
       "    40% {\n",
       "      border-color: transparent;\n",
       "      border-right-color: var(--fill-color);\n",
       "      border-top-color: var(--fill-color);\n",
       "    }\n",
       "    60% {\n",
       "      border-color: transparent;\n",
       "      border-right-color: var(--fill-color);\n",
       "    }\n",
       "    80% {\n",
       "      border-color: transparent;\n",
       "      border-right-color: var(--fill-color);\n",
       "      border-bottom-color: var(--fill-color);\n",
       "    }\n",
       "    90% {\n",
       "      border-color: transparent;\n",
       "      border-bottom-color: var(--fill-color);\n",
       "    }\n",
       "  }\n",
       "</style>\n",
       "\n",
       "  <script>\n",
       "    async function quickchart(key) {\n",
       "      const quickchartButtonEl =\n",
       "        document.querySelector('#' + key + ' button');\n",
       "      quickchartButtonEl.disabled = true;  // To prevent multiple clicks.\n",
       "      quickchartButtonEl.classList.add('colab-df-spinner');\n",
       "      try {\n",
       "        const charts = await google.colab.kernel.invokeFunction(\n",
       "            'suggestCharts', [key], {});\n",
       "      } catch (error) {\n",
       "        console.error('Error during call to suggestCharts:', error);\n",
       "      }\n",
       "      quickchartButtonEl.classList.remove('colab-df-spinner');\n",
       "      quickchartButtonEl.classList.add('colab-df-quickchart-complete');\n",
       "    }\n",
       "    (() => {\n",
       "      let quickchartButtonEl =\n",
       "        document.querySelector('#df-78c9a4e7-3208-4b74-8de3-5c414f184ade button');\n",
       "      quickchartButtonEl.style.display =\n",
       "        google.colab.kernel.accessAllowed ? 'block' : 'none';\n",
       "    })();\n",
       "  </script>\n",
       "</div>\n",
       "    </div>\n",
       "  </div>\n"
      ],
      "text/plain": [
       "       year  aset_sekarang  biaya_barang_terjual  penyusutan_dan_amortisasi  \\\n",
       "0      1999        511.267               833.107                     18.373   \n",
       "1      2000        485.856               713.811                     18.577   \n",
       "2      2001        436.656               526.477                     22.496   \n",
       "3      2002        396.412               496.747                     27.172   \n",
       "4      2003        432.204               523.302                     26.680   \n",
       "...     ...            ...                   ...                        ...   \n",
       "78677  2014        233.211                43.338                     14.094   \n",
       "78678  2015        105.559                59.184                     42.592   \n",
       "78679  2016         63.971                69.074                     65.057   \n",
       "78680  2017        135.207                66.527                     65.330   \n",
       "78681  2018         82.589                68.817                     65.201   \n",
       "\n",
       "       laba_spbda  inventaris  pendapatan_bersih  total_piutang  nilai_pasar  \\\n",
       "0          89.031     336.018             35.163        128.348     372.7519   \n",
       "1          64.367     320.590             18.531        115.187     377.1180   \n",
       "2          27.207     286.588            -58.939         77.528     364.5928   \n",
       "3          30.745     259.954            -12.410         66.322     143.3295   \n",
       "4          47.491     247.245              3.504        104.661     308.9071   \n",
       "...           ...         ...                ...            ...          ...   \n",
       "78677      45.615       3.376             25.261         22.846     756.4827   \n",
       "78678     202.133       2.288            129.688         54.611     527.5750   \n",
       "78679      79.051       2.581             -1.442         42.467     578.8868   \n",
       "78680      69.171       2.013            -20.401         27.217     412.6241   \n",
       "78681      67.262       2.112            -50.946         45.839     354.1786   \n",
       "\n",
       "       total_aset  total_hutang_jangka_panjang  laba_kotor  \\\n",
       "0         740.998                      180.447     191.226   \n",
       "1         701.854                      179.987     160.444   \n",
       "2         710.199                      217.699     112.244   \n",
       "3         686.621                      164.658     109.590   \n",
       "4         709.292                      248.666     128.656   \n",
       "...           ...                          ...         ...   \n",
       "78677    1099.101                      184.666      60.885   \n",
       "78678    1865.926                      770.103     231.969   \n",
       "78679    1746.235                      683.985     100.784   \n",
       "78680    1736.110                      694.035      95.357   \n",
       "78681    1625.370                      632.122      91.696   \n",
       "\n",
       "       total_kewajiban lancar  laba_tersisa  \n",
       "0                     163.816       201.026  \n",
       "1                     125.392       204.065  \n",
       "2                     150.464       139.603  \n",
       "3                     203.575       124.106  \n",
       "4                     131.261       131.884  \n",
       "...                       ...           ...  \n",
       "78677                  28.197        28.095  \n",
       "78678                  88.128       157.783  \n",
       "78679                  85.765       156.341  \n",
       "78680                  82.010       135.941  \n",
       "78681                  79.365        84.995  \n",
       "\n",
       "[78682 rows x 14 columns]"
      ]
     },
     "execution_count": 15,
     "metadata": {},
     "output_type": "execute_result"
    }
   ],
   "source": [
    "X"
   ]
  },
  {
   "cell_type": "code",
   "execution_count": 16,
   "id": "55ae1074",
   "metadata": {
    "colab": {
     "base_uri": "https://localhost:8080/",
     "height": 423
    },
    "executionInfo": {
     "elapsed": 398,
     "status": "ok",
     "timestamp": 1715854506617,
     "user": {
      "displayName": "Roni Antonius Sinabutar",
      "userId": "06736772884645285418"
     },
     "user_tz": -420
    },
    "id": "55ae1074",
    "outputId": "ca3c3d9d-da1f-4218-b7ce-a24d61ff4bf2"
   },
   "outputs": [
    {
     "data": {
      "application/vnd.google.colaboratory.intrinsic+json": {
       "summary": "{\n  \"name\": \"y\",\n  \"rows\": 78682,\n  \"fields\": [\n    {\n      \"column\": \"bankrupt\",\n      \"properties\": {\n        \"dtype\": \"number\",\n        \"std\": 0.24888229028312966,\n        \"min\": 0.0,\n        \"max\": 1.0,\n        \"num_unique_values\": 2,\n        \"samples\": [\n          1.0,\n          0.0\n        ],\n        \"semantic_type\": \"\",\n        \"description\": \"\"\n      }\n    }\n  ]\n}",
       "type": "dataframe",
       "variable_name": "y"
      },
      "text/html": [
       "\n",
       "  <div id=\"df-06f1f0ae-1560-42f5-8c68-ae09d19fd9ea\" class=\"colab-df-container\">\n",
       "    <div>\n",
       "<style scoped>\n",
       "    .dataframe tbody tr th:only-of-type {\n",
       "        vertical-align: middle;\n",
       "    }\n",
       "\n",
       "    .dataframe tbody tr th {\n",
       "        vertical-align: top;\n",
       "    }\n",
       "\n",
       "    .dataframe thead th {\n",
       "        text-align: right;\n",
       "    }\n",
       "</style>\n",
       "<table border=\"1\" class=\"dataframe\">\n",
       "  <thead>\n",
       "    <tr style=\"text-align: right;\">\n",
       "      <th></th>\n",
       "      <th>bankrupt</th>\n",
       "    </tr>\n",
       "  </thead>\n",
       "  <tbody>\n",
       "    <tr>\n",
       "      <th>0</th>\n",
       "      <td>0.0</td>\n",
       "    </tr>\n",
       "    <tr>\n",
       "      <th>1</th>\n",
       "      <td>0.0</td>\n",
       "    </tr>\n",
       "    <tr>\n",
       "      <th>2</th>\n",
       "      <td>0.0</td>\n",
       "    </tr>\n",
       "    <tr>\n",
       "      <th>3</th>\n",
       "      <td>0.0</td>\n",
       "    </tr>\n",
       "    <tr>\n",
       "      <th>4</th>\n",
       "      <td>0.0</td>\n",
       "    </tr>\n",
       "    <tr>\n",
       "      <th>...</th>\n",
       "      <td>...</td>\n",
       "    </tr>\n",
       "    <tr>\n",
       "      <th>78677</th>\n",
       "      <td>0.0</td>\n",
       "    </tr>\n",
       "    <tr>\n",
       "      <th>78678</th>\n",
       "      <td>0.0</td>\n",
       "    </tr>\n",
       "    <tr>\n",
       "      <th>78679</th>\n",
       "      <td>0.0</td>\n",
       "    </tr>\n",
       "    <tr>\n",
       "      <th>78680</th>\n",
       "      <td>0.0</td>\n",
       "    </tr>\n",
       "    <tr>\n",
       "      <th>78681</th>\n",
       "      <td>0.0</td>\n",
       "    </tr>\n",
       "  </tbody>\n",
       "</table>\n",
       "<p>78682 rows × 1 columns</p>\n",
       "</div>\n",
       "    <div class=\"colab-df-buttons\">\n",
       "\n",
       "  <div class=\"colab-df-container\">\n",
       "    <button class=\"colab-df-convert\" onclick=\"convertToInteractive('df-06f1f0ae-1560-42f5-8c68-ae09d19fd9ea')\"\n",
       "            title=\"Convert this dataframe to an interactive table.\"\n",
       "            style=\"display:none;\">\n",
       "\n",
       "  <svg xmlns=\"http://www.w3.org/2000/svg\" height=\"24px\" viewBox=\"0 -960 960 960\">\n",
       "    <path d=\"M120-120v-720h720v720H120Zm60-500h600v-160H180v160Zm220 220h160v-160H400v160Zm0 220h160v-160H400v160ZM180-400h160v-160H180v160Zm440 0h160v-160H620v160ZM180-180h160v-160H180v160Zm440 0h160v-160H620v160Z\"/>\n",
       "  </svg>\n",
       "    </button>\n",
       "\n",
       "  <style>\n",
       "    .colab-df-container {\n",
       "      display:flex;\n",
       "      gap: 12px;\n",
       "    }\n",
       "\n",
       "    .colab-df-convert {\n",
       "      background-color: #E8F0FE;\n",
       "      border: none;\n",
       "      border-radius: 50%;\n",
       "      cursor: pointer;\n",
       "      display: none;\n",
       "      fill: #1967D2;\n",
       "      height: 32px;\n",
       "      padding: 0 0 0 0;\n",
       "      width: 32px;\n",
       "    }\n",
       "\n",
       "    .colab-df-convert:hover {\n",
       "      background-color: #E2EBFA;\n",
       "      box-shadow: 0px 1px 2px rgba(60, 64, 67, 0.3), 0px 1px 3px 1px rgba(60, 64, 67, 0.15);\n",
       "      fill: #174EA6;\n",
       "    }\n",
       "\n",
       "    .colab-df-buttons div {\n",
       "      margin-bottom: 4px;\n",
       "    }\n",
       "\n",
       "    [theme=dark] .colab-df-convert {\n",
       "      background-color: #3B4455;\n",
       "      fill: #D2E3FC;\n",
       "    }\n",
       "\n",
       "    [theme=dark] .colab-df-convert:hover {\n",
       "      background-color: #434B5C;\n",
       "      box-shadow: 0px 1px 3px 1px rgba(0, 0, 0, 0.15);\n",
       "      filter: drop-shadow(0px 1px 2px rgba(0, 0, 0, 0.3));\n",
       "      fill: #FFFFFF;\n",
       "    }\n",
       "  </style>\n",
       "\n",
       "    <script>\n",
       "      const buttonEl =\n",
       "        document.querySelector('#df-06f1f0ae-1560-42f5-8c68-ae09d19fd9ea button.colab-df-convert');\n",
       "      buttonEl.style.display =\n",
       "        google.colab.kernel.accessAllowed ? 'block' : 'none';\n",
       "\n",
       "      async function convertToInteractive(key) {\n",
       "        const element = document.querySelector('#df-06f1f0ae-1560-42f5-8c68-ae09d19fd9ea');\n",
       "        const dataTable =\n",
       "          await google.colab.kernel.invokeFunction('convertToInteractive',\n",
       "                                                    [key], {});\n",
       "        if (!dataTable) return;\n",
       "\n",
       "        const docLinkHtml = 'Like what you see? Visit the ' +\n",
       "          '<a target=\"_blank\" href=https://colab.research.google.com/notebooks/data_table.ipynb>data table notebook</a>'\n",
       "          + ' to learn more about interactive tables.';\n",
       "        element.innerHTML = '';\n",
       "        dataTable['output_type'] = 'display_data';\n",
       "        await google.colab.output.renderOutput(dataTable, element);\n",
       "        const docLink = document.createElement('div');\n",
       "        docLink.innerHTML = docLinkHtml;\n",
       "        element.appendChild(docLink);\n",
       "      }\n",
       "    </script>\n",
       "  </div>\n",
       "\n",
       "\n",
       "<div id=\"df-2a0e0a23-93ed-446a-aad0-7d8bb661329e\">\n",
       "  <button class=\"colab-df-quickchart\" onclick=\"quickchart('df-2a0e0a23-93ed-446a-aad0-7d8bb661329e')\"\n",
       "            title=\"Suggest charts\"\n",
       "            style=\"display:none;\">\n",
       "\n",
       "<svg xmlns=\"http://www.w3.org/2000/svg\" height=\"24px\"viewBox=\"0 0 24 24\"\n",
       "     width=\"24px\">\n",
       "    <g>\n",
       "        <path d=\"M19 3H5c-1.1 0-2 .9-2 2v14c0 1.1.9 2 2 2h14c1.1 0 2-.9 2-2V5c0-1.1-.9-2-2-2zM9 17H7v-7h2v7zm4 0h-2V7h2v10zm4 0h-2v-4h2v4z\"/>\n",
       "    </g>\n",
       "</svg>\n",
       "  </button>\n",
       "\n",
       "<style>\n",
       "  .colab-df-quickchart {\n",
       "      --bg-color: #E8F0FE;\n",
       "      --fill-color: #1967D2;\n",
       "      --hover-bg-color: #E2EBFA;\n",
       "      --hover-fill-color: #174EA6;\n",
       "      --disabled-fill-color: #AAA;\n",
       "      --disabled-bg-color: #DDD;\n",
       "  }\n",
       "\n",
       "  [theme=dark] .colab-df-quickchart {\n",
       "      --bg-color: #3B4455;\n",
       "      --fill-color: #D2E3FC;\n",
       "      --hover-bg-color: #434B5C;\n",
       "      --hover-fill-color: #FFFFFF;\n",
       "      --disabled-bg-color: #3B4455;\n",
       "      --disabled-fill-color: #666;\n",
       "  }\n",
       "\n",
       "  .colab-df-quickchart {\n",
       "    background-color: var(--bg-color);\n",
       "    border: none;\n",
       "    border-radius: 50%;\n",
       "    cursor: pointer;\n",
       "    display: none;\n",
       "    fill: var(--fill-color);\n",
       "    height: 32px;\n",
       "    padding: 0;\n",
       "    width: 32px;\n",
       "  }\n",
       "\n",
       "  .colab-df-quickchart:hover {\n",
       "    background-color: var(--hover-bg-color);\n",
       "    box-shadow: 0 1px 2px rgba(60, 64, 67, 0.3), 0 1px 3px 1px rgba(60, 64, 67, 0.15);\n",
       "    fill: var(--button-hover-fill-color);\n",
       "  }\n",
       "\n",
       "  .colab-df-quickchart-complete:disabled,\n",
       "  .colab-df-quickchart-complete:disabled:hover {\n",
       "    background-color: var(--disabled-bg-color);\n",
       "    fill: var(--disabled-fill-color);\n",
       "    box-shadow: none;\n",
       "  }\n",
       "\n",
       "  .colab-df-spinner {\n",
       "    border: 2px solid var(--fill-color);\n",
       "    border-color: transparent;\n",
       "    border-bottom-color: var(--fill-color);\n",
       "    animation:\n",
       "      spin 1s steps(1) infinite;\n",
       "  }\n",
       "\n",
       "  @keyframes spin {\n",
       "    0% {\n",
       "      border-color: transparent;\n",
       "      border-bottom-color: var(--fill-color);\n",
       "      border-left-color: var(--fill-color);\n",
       "    }\n",
       "    20% {\n",
       "      border-color: transparent;\n",
       "      border-left-color: var(--fill-color);\n",
       "      border-top-color: var(--fill-color);\n",
       "    }\n",
       "    30% {\n",
       "      border-color: transparent;\n",
       "      border-left-color: var(--fill-color);\n",
       "      border-top-color: var(--fill-color);\n",
       "      border-right-color: var(--fill-color);\n",
       "    }\n",
       "    40% {\n",
       "      border-color: transparent;\n",
       "      border-right-color: var(--fill-color);\n",
       "      border-top-color: var(--fill-color);\n",
       "    }\n",
       "    60% {\n",
       "      border-color: transparent;\n",
       "      border-right-color: var(--fill-color);\n",
       "    }\n",
       "    80% {\n",
       "      border-color: transparent;\n",
       "      border-right-color: var(--fill-color);\n",
       "      border-bottom-color: var(--fill-color);\n",
       "    }\n",
       "    90% {\n",
       "      border-color: transparent;\n",
       "      border-bottom-color: var(--fill-color);\n",
       "    }\n",
       "  }\n",
       "</style>\n",
       "\n",
       "  <script>\n",
       "    async function quickchart(key) {\n",
       "      const quickchartButtonEl =\n",
       "        document.querySelector('#' + key + ' button');\n",
       "      quickchartButtonEl.disabled = true;  // To prevent multiple clicks.\n",
       "      quickchartButtonEl.classList.add('colab-df-spinner');\n",
       "      try {\n",
       "        const charts = await google.colab.kernel.invokeFunction(\n",
       "            'suggestCharts', [key], {});\n",
       "      } catch (error) {\n",
       "        console.error('Error during call to suggestCharts:', error);\n",
       "      }\n",
       "      quickchartButtonEl.classList.remove('colab-df-spinner');\n",
       "      quickchartButtonEl.classList.add('colab-df-quickchart-complete');\n",
       "    }\n",
       "    (() => {\n",
       "      let quickchartButtonEl =\n",
       "        document.querySelector('#df-2a0e0a23-93ed-446a-aad0-7d8bb661329e button');\n",
       "      quickchartButtonEl.style.display =\n",
       "        google.colab.kernel.accessAllowed ? 'block' : 'none';\n",
       "    })();\n",
       "  </script>\n",
       "</div>\n",
       "    </div>\n",
       "  </div>\n"
      ],
      "text/plain": [
       "       bankrupt\n",
       "0           0.0\n",
       "1           0.0\n",
       "2           0.0\n",
       "3           0.0\n",
       "4           0.0\n",
       "...         ...\n",
       "78677       0.0\n",
       "78678       0.0\n",
       "78679       0.0\n",
       "78680       0.0\n",
       "78681       0.0\n",
       "\n",
       "[78682 rows x 1 columns]"
      ]
     },
     "execution_count": 16,
     "metadata": {},
     "output_type": "execute_result"
    }
   ],
   "source": [
    "y"
   ]
  },
  {
   "cell_type": "markdown",
   "id": "f037b705",
   "metadata": {
    "id": "f037b705"
   },
   "source": [
    "### Balancing Data\n",
    "- menciptakan sampel sintetis baru dalam kelas minoritas\n",
    "- menemukan titik-titik tetangga terdekat untuk setiap titik dalam kelas minoritas.\n",
    "- meningkatkan jumlah sampel dalam kelas minoritas\n",
    "\n",
    "menggunakan penyesuaian secara otomatis jumlah sampel sintesis yang dihasilkan untuk kelas minoritas yaitu bankrupt = 1"
   ]
  },
  {
   "cell_type": "code",
   "execution_count": 17,
   "id": "e646427d",
   "metadata": {
    "executionInfo": {
     "elapsed": 322,
     "status": "ok",
     "timestamp": 1715854514911,
     "user": {
      "displayName": "Roni Antonius Sinabutar",
      "userId": "06736772884645285418"
     },
     "user_tz": -420
    },
    "id": "e646427d"
   },
   "outputs": [],
   "source": [
    "X_train, X_test, y_train, y_test = train_test_split(X,\n",
    "                                                    y,\n",
    "                                                    test_size=0.25,\n",
    "                                                    random_state=42)"
   ]
  },
  {
   "cell_type": "code",
   "execution_count": 18,
   "id": "2c24D2934XWZ",
   "metadata": {
    "colab": {
     "base_uri": "https://localhost:8080/",
     "height": 461
    },
    "executionInfo": {
     "elapsed": 637,
     "status": "ok",
     "timestamp": 1715854517097,
     "user": {
      "displayName": "Roni Antonius Sinabutar",
      "userId": "06736772884645285418"
     },
     "user_tz": -420
    },
    "id": "2c24D2934XWZ",
    "outputId": "4105c3a6-5474-4c0e-8eb2-4b654017271d"
   },
   "outputs": [
    {
     "data": {
      "application/vnd.google.colaboratory.intrinsic+json": {
       "summary": "{\n  \"name\": \"X_train\",\n  \"rows\": 59011,\n  \"fields\": [\n    {\n      \"column\": \"year\",\n      \"properties\": {\n        \"dtype\": \"number\",\n        \"std\": 5,\n        \"min\": 1999,\n        \"max\": 2018,\n        \"num_unique_values\": 20,\n        \"samples\": [\n          2015,\n          2008,\n          2000\n        ],\n        \"semantic_type\": \"\",\n        \"description\": \"\"\n      }\n    },\n    {\n      \"column\": \"aset_sekarang\",\n      \"properties\": {\n        \"dtype\": \"number\",\n        \"std\": 4034.299833349593,\n        \"min\": -2.498,\n        \"max\": 169662.0,\n        \"num_unique_values\": 51198,\n        \"samples\": [\n          18.894,\n          286.765,\n          3532.609\n        ],\n        \"semantic_type\": \"\",\n        \"description\": \"\"\n      }\n    },\n    {\n      \"column\": \"biaya_barang_terjual\",\n      \"properties\": {\n        \"dtype\": \"number\",\n        \"std\": 9027.600163378369,\n        \"min\": -366.645,\n        \"max\": 362867.0,\n        \"num_unique_values\": 50899,\n        \"samples\": [\n          33.929,\n          2749.43,\n          3277.3\n        ],\n        \"semantic_type\": \"\",\n        \"description\": \"\"\n      }\n    },\n    {\n      \"column\": \"penyusutan_dan_amortisasi\",\n      \"properties\": {\n        \"dtype\": \"number\",\n        \"std\": 639.0324840780653,\n        \"min\": 0.0,\n        \"max\": 28430.0,\n        \"num_unique_values\": 29682,\n        \"samples\": [\n          14.447,\n          2.849,\n          0.905\n        ],\n        \"semantic_type\": \"\",\n        \"description\": \"\"\n      }\n    },\n    {\n      \"column\": \"laba_spbda\",\n      \"properties\": {\n        \"dtype\": \"number\",\n        \"std\": 2051.3754573244773,\n        \"min\": -21913.0,\n        \"max\": 81730.0,\n        \"num_unique_values\": 46758,\n        \"samples\": [\n          286.057,\n          0.404,\n          -1.028\n        ],\n        \"semantic_type\": \"\",\n        \"description\": \"\"\n      }\n    },\n    {\n      \"column\": \"inventaris\",\n      \"properties\": {\n        \"dtype\": \"number\",\n        \"std\": 1039.8555765697183,\n        \"min\": 0.0,\n        \"max\": 47257.0,\n        \"num_unique_values\": 31078,\n        \"samples\": [\n          473.788,\n          114.063,\n          212.467\n        ],\n        \"semantic_type\": \"\",\n        \"description\": \"\"\n      }\n    },\n    {\n      \"column\": \"pendapatan_bersih\",\n      \"properties\": {\n        \"dtype\": \"number\",\n        \"std\": 1323.0226216812591,\n        \"min\": -98696.0,\n        \"max\": 104821.0,\n        \"num_unique_values\": 44488,\n        \"samples\": [\n          27.656,\n          44.285,\n          175.635\n        ],\n        \"semantic_type\": \"\",\n        \"description\": \"\"\n      }\n    },\n    {\n      \"column\": \"total_piutang\",\n      \"properties\": {\n        \"dtype\": \"number\",\n        \"std\": 1361.6885618397769,\n        \"min\": -0.006,\n        \"max\": 65812.0,\n        \"num_unique_values\": 39754,\n        \"samples\": [\n          5.476,\n          14503.0,\n          213.459\n        ],\n        \"semantic_type\": \"\",\n        \"description\": \"\"\n      }\n    },\n    {\n      \"column\": \"nilai_pasar\",\n      \"properties\": {\n        \"dtype\": \"number\",\n        \"std\": 18762.36219027515,\n        \"min\": 0.0001,\n        \"max\": 1073390.54,\n        \"num_unique_values\": 58386,\n        \"samples\": [\n          1148.9224,\n          1340.1636,\n          1984.5264\n        ],\n        \"semantic_type\": \"\",\n        \"description\": \"\"\n      }\n    },\n    {\n      \"column\": \"total_aset\",\n      \"properties\": {\n        \"dtype\": \"number\",\n        \"std\": 12961.711530579832,\n        \"min\": 0.001,\n        \"max\": 531864.0,\n        \"num_unique_values\": 54788,\n        \"samples\": [\n          2225.002,\n          7.921,\n          13.515\n        ],\n        \"semantic_type\": \"\",\n        \"description\": \"\"\n      }\n    },\n    {\n      \"column\": \"total_hutang_jangka_panjang\",\n      \"properties\": {\n        \"dtype\": \"number\",\n        \"std\": 3303.936032938657,\n        \"min\": 0.0,\n        \"max\": 166250.0,\n        \"num_unique_values\": 31221,\n        \"samples\": [\n          312.7,\n          66.814,\n          1650.0\n        ],\n        \"semantic_type\": \"\",\n        \"description\": \"\"\n      }\n    },\n    {\n      \"column\": \"laba_kotor\",\n      \"properties\": {\n        \"dtype\": \"number\",\n        \"std\": 3828.317850857138,\n        \"min\": -21536.0,\n        \"max\": 133918.0,\n        \"num_unique_values\": 50645,\n        \"samples\": [\n          1822.605,\n          12798.0,\n          433.876\n        ],\n        \"semantic_type\": \"\",\n        \"description\": \"\"\n      }\n    },\n    {\n      \"column\": \"total_kewajiban lancar\",\n      \"properties\": {\n        \"dtype\": \"number\",\n        \"std\": 2981.346068623732,\n        \"min\": 0.001,\n        \"max\": 116866.0,\n        \"num_unique_values\": 46574,\n        \"samples\": [\n          57.458,\n          120.492,\n          330.548\n        ],\n        \"semantic_type\": \"\",\n        \"description\": \"\"\n      }\n    },\n    {\n      \"column\": \"laba_tersisa\",\n      \"properties\": {\n        \"dtype\": \"number\",\n        \"std\": 6007.363728982553,\n        \"min\": -102362.0,\n        \"max\": 402089.0,\n        \"num_unique_values\": 55236,\n        \"samples\": [\n          -18.567,\n          -130.737,\n          1369.734\n        ],\n        \"semantic_type\": \"\",\n        \"description\": \"\"\n      }\n    }\n  ]\n}",
       "type": "dataframe",
       "variable_name": "X_train"
      },
      "text/html": [
       "\n",
       "  <div id=\"df-48342856-0e26-46be-9068-35dd2b96576b\" class=\"colab-df-container\">\n",
       "    <div>\n",
       "<style scoped>\n",
       "    .dataframe tbody tr th:only-of-type {\n",
       "        vertical-align: middle;\n",
       "    }\n",
       "\n",
       "    .dataframe tbody tr th {\n",
       "        vertical-align: top;\n",
       "    }\n",
       "\n",
       "    .dataframe thead th {\n",
       "        text-align: right;\n",
       "    }\n",
       "</style>\n",
       "<table border=\"1\" class=\"dataframe\">\n",
       "  <thead>\n",
       "    <tr style=\"text-align: right;\">\n",
       "      <th></th>\n",
       "      <th>year</th>\n",
       "      <th>aset_sekarang</th>\n",
       "      <th>biaya_barang_terjual</th>\n",
       "      <th>penyusutan_dan_amortisasi</th>\n",
       "      <th>laba_spbda</th>\n",
       "      <th>inventaris</th>\n",
       "      <th>pendapatan_bersih</th>\n",
       "      <th>total_piutang</th>\n",
       "      <th>nilai_pasar</th>\n",
       "      <th>total_aset</th>\n",
       "      <th>total_hutang_jangka_panjang</th>\n",
       "      <th>laba_kotor</th>\n",
       "      <th>total_kewajiban lancar</th>\n",
       "      <th>laba_tersisa</th>\n",
       "    </tr>\n",
       "  </thead>\n",
       "  <tbody>\n",
       "    <tr>\n",
       "      <th>28505</th>\n",
       "      <td>2015</td>\n",
       "      <td>0.293</td>\n",
       "      <td>5.155</td>\n",
       "      <td>0.115</td>\n",
       "      <td>-4.323</td>\n",
       "      <td>0.000</td>\n",
       "      <td>-3.435</td>\n",
       "      <td>0.000</td>\n",
       "      <td>8.4593</td>\n",
       "      <td>0.436</td>\n",
       "      <td>0.000</td>\n",
       "      <td>-4.323</td>\n",
       "      <td>2.618</td>\n",
       "      <td>-10.527</td>\n",
       "    </tr>\n",
       "    <tr>\n",
       "      <th>14084</th>\n",
       "      <td>1999</td>\n",
       "      <td>41.929</td>\n",
       "      <td>58.644</td>\n",
       "      <td>5.670</td>\n",
       "      <td>-32.998</td>\n",
       "      <td>21.495</td>\n",
       "      <td>-2.279</td>\n",
       "      <td>13.576</td>\n",
       "      <td>126.9125</td>\n",
       "      <td>81.850</td>\n",
       "      <td>11.666</td>\n",
       "      <td>22.063</td>\n",
       "      <td>29.074</td>\n",
       "      <td>-25.930</td>\n",
       "    </tr>\n",
       "    <tr>\n",
       "      <th>27142</th>\n",
       "      <td>2007</td>\n",
       "      <td>61.575</td>\n",
       "      <td>34.884</td>\n",
       "      <td>1.453</td>\n",
       "      <td>4.172</td>\n",
       "      <td>16.891</td>\n",
       "      <td>1.948</td>\n",
       "      <td>18.832</td>\n",
       "      <td>124.5820</td>\n",
       "      <td>69.512</td>\n",
       "      <td>9.267</td>\n",
       "      <td>28.839</td>\n",
       "      <td>11.010</td>\n",
       "      <td>8.961</td>\n",
       "    </tr>\n",
       "    <tr>\n",
       "      <th>60448</th>\n",
       "      <td>1999</td>\n",
       "      <td>38.277</td>\n",
       "      <td>2.883</td>\n",
       "      <td>3.931</td>\n",
       "      <td>-32.371</td>\n",
       "      <td>3.182</td>\n",
       "      <td>-35.530</td>\n",
       "      <td>0.321</td>\n",
       "      <td>220.0249</td>\n",
       "      <td>66.230</td>\n",
       "      <td>0.000</td>\n",
       "      <td>-0.017</td>\n",
       "      <td>10.405</td>\n",
       "      <td>-250.351</td>\n",
       "    </tr>\n",
       "    <tr>\n",
       "      <th>59725</th>\n",
       "      <td>1999</td>\n",
       "      <td>69.100</td>\n",
       "      <td>65.431</td>\n",
       "      <td>1.479</td>\n",
       "      <td>-56.000</td>\n",
       "      <td>0.000</td>\n",
       "      <td>-56.135</td>\n",
       "      <td>10.532</td>\n",
       "      <td>362.2825</td>\n",
       "      <td>99.720</td>\n",
       "      <td>0.605</td>\n",
       "      <td>-56.000</td>\n",
       "      <td>22.798</td>\n",
       "      <td>-75.713</td>\n",
       "    </tr>\n",
       "    <tr>\n",
       "      <th>...</th>\n",
       "      <td>...</td>\n",
       "      <td>...</td>\n",
       "      <td>...</td>\n",
       "      <td>...</td>\n",
       "      <td>...</td>\n",
       "      <td>...</td>\n",
       "      <td>...</td>\n",
       "      <td>...</td>\n",
       "      <td>...</td>\n",
       "      <td>...</td>\n",
       "      <td>...</td>\n",
       "      <td>...</td>\n",
       "      <td>...</td>\n",
       "      <td>...</td>\n",
       "    </tr>\n",
       "    <tr>\n",
       "      <th>6265</th>\n",
       "      <td>2006</td>\n",
       "      <td>372.717</td>\n",
       "      <td>547.861</td>\n",
       "      <td>12.425</td>\n",
       "      <td>43.498</td>\n",
       "      <td>56.255</td>\n",
       "      <td>11.577</td>\n",
       "      <td>265.298</td>\n",
       "      <td>456.8288</td>\n",
       "      <td>949.822</td>\n",
       "      <td>215.783</td>\n",
       "      <td>167.336</td>\n",
       "      <td>375.997</td>\n",
       "      <td>92.125</td>\n",
       "    </tr>\n",
       "    <tr>\n",
       "      <th>54886</th>\n",
       "      <td>2002</td>\n",
       "      <td>4.876</td>\n",
       "      <td>2.369</td>\n",
       "      <td>2.581</td>\n",
       "      <td>-10.418</td>\n",
       "      <td>0.000</td>\n",
       "      <td>-21.208</td>\n",
       "      <td>1.547</td>\n",
       "      <td>6.0487</td>\n",
       "      <td>14.099</td>\n",
       "      <td>0.016</td>\n",
       "      <td>8.443</td>\n",
       "      <td>13.262</td>\n",
       "      <td>-90.593</td>\n",
       "    </tr>\n",
       "    <tr>\n",
       "      <th>76820</th>\n",
       "      <td>2012</td>\n",
       "      <td>185.866</td>\n",
       "      <td>133.745</td>\n",
       "      <td>11.661</td>\n",
       "      <td>23.027</td>\n",
       "      <td>49.389</td>\n",
       "      <td>11.691</td>\n",
       "      <td>28.766</td>\n",
       "      <td>176.7646</td>\n",
       "      <td>263.173</td>\n",
       "      <td>11.154</td>\n",
       "      <td>83.871</td>\n",
       "      <td>32.112</td>\n",
       "      <td>13.373</td>\n",
       "    </tr>\n",
       "    <tr>\n",
       "      <th>860</th>\n",
       "      <td>2003</td>\n",
       "      <td>2490.700</td>\n",
       "      <td>6357.400</td>\n",
       "      <td>161.800</td>\n",
       "      <td>847.200</td>\n",
       "      <td>909.900</td>\n",
       "      <td>405.200</td>\n",
       "      <td>1022.800</td>\n",
       "      <td>7314.6466</td>\n",
       "      <td>5878.700</td>\n",
       "      <td>1626.800</td>\n",
       "      <td>2210.200</td>\n",
       "      <td>2033.500</td>\n",
       "      <td>542.600</td>\n",
       "    </tr>\n",
       "    <tr>\n",
       "      <th>15795</th>\n",
       "      <td>2013</td>\n",
       "      <td>78.844</td>\n",
       "      <td>88.674</td>\n",
       "      <td>14.498</td>\n",
       "      <td>36.149</td>\n",
       "      <td>13.688</td>\n",
       "      <td>14.800</td>\n",
       "      <td>14.097</td>\n",
       "      <td>341.0228</td>\n",
       "      <td>187.526</td>\n",
       "      <td>16.667</td>\n",
       "      <td>45.091</td>\n",
       "      <td>14.348</td>\n",
       "      <td>166.635</td>\n",
       "    </tr>\n",
       "  </tbody>\n",
       "</table>\n",
       "<p>59011 rows × 14 columns</p>\n",
       "</div>\n",
       "    <div class=\"colab-df-buttons\">\n",
       "\n",
       "  <div class=\"colab-df-container\">\n",
       "    <button class=\"colab-df-convert\" onclick=\"convertToInteractive('df-48342856-0e26-46be-9068-35dd2b96576b')\"\n",
       "            title=\"Convert this dataframe to an interactive table.\"\n",
       "            style=\"display:none;\">\n",
       "\n",
       "  <svg xmlns=\"http://www.w3.org/2000/svg\" height=\"24px\" viewBox=\"0 -960 960 960\">\n",
       "    <path d=\"M120-120v-720h720v720H120Zm60-500h600v-160H180v160Zm220 220h160v-160H400v160Zm0 220h160v-160H400v160ZM180-400h160v-160H180v160Zm440 0h160v-160H620v160ZM180-180h160v-160H180v160Zm440 0h160v-160H620v160Z\"/>\n",
       "  </svg>\n",
       "    </button>\n",
       "\n",
       "  <style>\n",
       "    .colab-df-container {\n",
       "      display:flex;\n",
       "      gap: 12px;\n",
       "    }\n",
       "\n",
       "    .colab-df-convert {\n",
       "      background-color: #E8F0FE;\n",
       "      border: none;\n",
       "      border-radius: 50%;\n",
       "      cursor: pointer;\n",
       "      display: none;\n",
       "      fill: #1967D2;\n",
       "      height: 32px;\n",
       "      padding: 0 0 0 0;\n",
       "      width: 32px;\n",
       "    }\n",
       "\n",
       "    .colab-df-convert:hover {\n",
       "      background-color: #E2EBFA;\n",
       "      box-shadow: 0px 1px 2px rgba(60, 64, 67, 0.3), 0px 1px 3px 1px rgba(60, 64, 67, 0.15);\n",
       "      fill: #174EA6;\n",
       "    }\n",
       "\n",
       "    .colab-df-buttons div {\n",
       "      margin-bottom: 4px;\n",
       "    }\n",
       "\n",
       "    [theme=dark] .colab-df-convert {\n",
       "      background-color: #3B4455;\n",
       "      fill: #D2E3FC;\n",
       "    }\n",
       "\n",
       "    [theme=dark] .colab-df-convert:hover {\n",
       "      background-color: #434B5C;\n",
       "      box-shadow: 0px 1px 3px 1px rgba(0, 0, 0, 0.15);\n",
       "      filter: drop-shadow(0px 1px 2px rgba(0, 0, 0, 0.3));\n",
       "      fill: #FFFFFF;\n",
       "    }\n",
       "  </style>\n",
       "\n",
       "    <script>\n",
       "      const buttonEl =\n",
       "        document.querySelector('#df-48342856-0e26-46be-9068-35dd2b96576b button.colab-df-convert');\n",
       "      buttonEl.style.display =\n",
       "        google.colab.kernel.accessAllowed ? 'block' : 'none';\n",
       "\n",
       "      async function convertToInteractive(key) {\n",
       "        const element = document.querySelector('#df-48342856-0e26-46be-9068-35dd2b96576b');\n",
       "        const dataTable =\n",
       "          await google.colab.kernel.invokeFunction('convertToInteractive',\n",
       "                                                    [key], {});\n",
       "        if (!dataTable) return;\n",
       "\n",
       "        const docLinkHtml = 'Like what you see? Visit the ' +\n",
       "          '<a target=\"_blank\" href=https://colab.research.google.com/notebooks/data_table.ipynb>data table notebook</a>'\n",
       "          + ' to learn more about interactive tables.';\n",
       "        element.innerHTML = '';\n",
       "        dataTable['output_type'] = 'display_data';\n",
       "        await google.colab.output.renderOutput(dataTable, element);\n",
       "        const docLink = document.createElement('div');\n",
       "        docLink.innerHTML = docLinkHtml;\n",
       "        element.appendChild(docLink);\n",
       "      }\n",
       "    </script>\n",
       "  </div>\n",
       "\n",
       "\n",
       "<div id=\"df-195227e4-7c6f-4249-aa98-58fc7bd84438\">\n",
       "  <button class=\"colab-df-quickchart\" onclick=\"quickchart('df-195227e4-7c6f-4249-aa98-58fc7bd84438')\"\n",
       "            title=\"Suggest charts\"\n",
       "            style=\"display:none;\">\n",
       "\n",
       "<svg xmlns=\"http://www.w3.org/2000/svg\" height=\"24px\"viewBox=\"0 0 24 24\"\n",
       "     width=\"24px\">\n",
       "    <g>\n",
       "        <path d=\"M19 3H5c-1.1 0-2 .9-2 2v14c0 1.1.9 2 2 2h14c1.1 0 2-.9 2-2V5c0-1.1-.9-2-2-2zM9 17H7v-7h2v7zm4 0h-2V7h2v10zm4 0h-2v-4h2v4z\"/>\n",
       "    </g>\n",
       "</svg>\n",
       "  </button>\n",
       "\n",
       "<style>\n",
       "  .colab-df-quickchart {\n",
       "      --bg-color: #E8F0FE;\n",
       "      --fill-color: #1967D2;\n",
       "      --hover-bg-color: #E2EBFA;\n",
       "      --hover-fill-color: #174EA6;\n",
       "      --disabled-fill-color: #AAA;\n",
       "      --disabled-bg-color: #DDD;\n",
       "  }\n",
       "\n",
       "  [theme=dark] .colab-df-quickchart {\n",
       "      --bg-color: #3B4455;\n",
       "      --fill-color: #D2E3FC;\n",
       "      --hover-bg-color: #434B5C;\n",
       "      --hover-fill-color: #FFFFFF;\n",
       "      --disabled-bg-color: #3B4455;\n",
       "      --disabled-fill-color: #666;\n",
       "  }\n",
       "\n",
       "  .colab-df-quickchart {\n",
       "    background-color: var(--bg-color);\n",
       "    border: none;\n",
       "    border-radius: 50%;\n",
       "    cursor: pointer;\n",
       "    display: none;\n",
       "    fill: var(--fill-color);\n",
       "    height: 32px;\n",
       "    padding: 0;\n",
       "    width: 32px;\n",
       "  }\n",
       "\n",
       "  .colab-df-quickchart:hover {\n",
       "    background-color: var(--hover-bg-color);\n",
       "    box-shadow: 0 1px 2px rgba(60, 64, 67, 0.3), 0 1px 3px 1px rgba(60, 64, 67, 0.15);\n",
       "    fill: var(--button-hover-fill-color);\n",
       "  }\n",
       "\n",
       "  .colab-df-quickchart-complete:disabled,\n",
       "  .colab-df-quickchart-complete:disabled:hover {\n",
       "    background-color: var(--disabled-bg-color);\n",
       "    fill: var(--disabled-fill-color);\n",
       "    box-shadow: none;\n",
       "  }\n",
       "\n",
       "  .colab-df-spinner {\n",
       "    border: 2px solid var(--fill-color);\n",
       "    border-color: transparent;\n",
       "    border-bottom-color: var(--fill-color);\n",
       "    animation:\n",
       "      spin 1s steps(1) infinite;\n",
       "  }\n",
       "\n",
       "  @keyframes spin {\n",
       "    0% {\n",
       "      border-color: transparent;\n",
       "      border-bottom-color: var(--fill-color);\n",
       "      border-left-color: var(--fill-color);\n",
       "    }\n",
       "    20% {\n",
       "      border-color: transparent;\n",
       "      border-left-color: var(--fill-color);\n",
       "      border-top-color: var(--fill-color);\n",
       "    }\n",
       "    30% {\n",
       "      border-color: transparent;\n",
       "      border-left-color: var(--fill-color);\n",
       "      border-top-color: var(--fill-color);\n",
       "      border-right-color: var(--fill-color);\n",
       "    }\n",
       "    40% {\n",
       "      border-color: transparent;\n",
       "      border-right-color: var(--fill-color);\n",
       "      border-top-color: var(--fill-color);\n",
       "    }\n",
       "    60% {\n",
       "      border-color: transparent;\n",
       "      border-right-color: var(--fill-color);\n",
       "    }\n",
       "    80% {\n",
       "      border-color: transparent;\n",
       "      border-right-color: var(--fill-color);\n",
       "      border-bottom-color: var(--fill-color);\n",
       "    }\n",
       "    90% {\n",
       "      border-color: transparent;\n",
       "      border-bottom-color: var(--fill-color);\n",
       "    }\n",
       "  }\n",
       "</style>\n",
       "\n",
       "  <script>\n",
       "    async function quickchart(key) {\n",
       "      const quickchartButtonEl =\n",
       "        document.querySelector('#' + key + ' button');\n",
       "      quickchartButtonEl.disabled = true;  // To prevent multiple clicks.\n",
       "      quickchartButtonEl.classList.add('colab-df-spinner');\n",
       "      try {\n",
       "        const charts = await google.colab.kernel.invokeFunction(\n",
       "            'suggestCharts', [key], {});\n",
       "      } catch (error) {\n",
       "        console.error('Error during call to suggestCharts:', error);\n",
       "      }\n",
       "      quickchartButtonEl.classList.remove('colab-df-spinner');\n",
       "      quickchartButtonEl.classList.add('colab-df-quickchart-complete');\n",
       "    }\n",
       "    (() => {\n",
       "      let quickchartButtonEl =\n",
       "        document.querySelector('#df-195227e4-7c6f-4249-aa98-58fc7bd84438 button');\n",
       "      quickchartButtonEl.style.display =\n",
       "        google.colab.kernel.accessAllowed ? 'block' : 'none';\n",
       "    })();\n",
       "  </script>\n",
       "</div>\n",
       "    </div>\n",
       "  </div>\n"
      ],
      "text/plain": [
       "       year  aset_sekarang  biaya_barang_terjual  penyusutan_dan_amortisasi  \\\n",
       "28505  2015          0.293                 5.155                      0.115   \n",
       "14084  1999         41.929                58.644                      5.670   \n",
       "27142  2007         61.575                34.884                      1.453   \n",
       "60448  1999         38.277                 2.883                      3.931   \n",
       "59725  1999         69.100                65.431                      1.479   \n",
       "...     ...            ...                   ...                        ...   \n",
       "6265   2006        372.717               547.861                     12.425   \n",
       "54886  2002          4.876                 2.369                      2.581   \n",
       "76820  2012        185.866               133.745                     11.661   \n",
       "860    2003       2490.700              6357.400                    161.800   \n",
       "15795  2013         78.844                88.674                     14.498   \n",
       "\n",
       "       laba_spbda  inventaris  pendapatan_bersih  total_piutang  nilai_pasar  \\\n",
       "28505      -4.323       0.000             -3.435          0.000       8.4593   \n",
       "14084     -32.998      21.495             -2.279         13.576     126.9125   \n",
       "27142       4.172      16.891              1.948         18.832     124.5820   \n",
       "60448     -32.371       3.182            -35.530          0.321     220.0249   \n",
       "59725     -56.000       0.000            -56.135         10.532     362.2825   \n",
       "...           ...         ...                ...            ...          ...   \n",
       "6265       43.498      56.255             11.577        265.298     456.8288   \n",
       "54886     -10.418       0.000            -21.208          1.547       6.0487   \n",
       "76820      23.027      49.389             11.691         28.766     176.7646   \n",
       "860       847.200     909.900            405.200       1022.800    7314.6466   \n",
       "15795      36.149      13.688             14.800         14.097     341.0228   \n",
       "\n",
       "       total_aset  total_hutang_jangka_panjang  laba_kotor  \\\n",
       "28505       0.436                        0.000      -4.323   \n",
       "14084      81.850                       11.666      22.063   \n",
       "27142      69.512                        9.267      28.839   \n",
       "60448      66.230                        0.000      -0.017   \n",
       "59725      99.720                        0.605     -56.000   \n",
       "...           ...                          ...         ...   \n",
       "6265      949.822                      215.783     167.336   \n",
       "54886      14.099                        0.016       8.443   \n",
       "76820     263.173                       11.154      83.871   \n",
       "860      5878.700                     1626.800    2210.200   \n",
       "15795     187.526                       16.667      45.091   \n",
       "\n",
       "       total_kewajiban lancar  laba_tersisa  \n",
       "28505                   2.618       -10.527  \n",
       "14084                  29.074       -25.930  \n",
       "27142                  11.010         8.961  \n",
       "60448                  10.405      -250.351  \n",
       "59725                  22.798       -75.713  \n",
       "...                       ...           ...  \n",
       "6265                  375.997        92.125  \n",
       "54886                  13.262       -90.593  \n",
       "76820                  32.112        13.373  \n",
       "860                  2033.500       542.600  \n",
       "15795                  14.348       166.635  \n",
       "\n",
       "[59011 rows x 14 columns]"
      ]
     },
     "execution_count": 18,
     "metadata": {},
     "output_type": "execute_result"
    }
   ],
   "source": [
    "X_train"
   ]
  },
  {
   "cell_type": "code",
   "execution_count": 19,
   "id": "75d5b968",
   "metadata": {
    "executionInfo": {
     "elapsed": 5,
     "status": "ok",
     "timestamp": 1715854520979,
     "user": {
      "displayName": "Roni Antonius Sinabutar",
      "userId": "06736772884645285418"
     },
     "user_tz": -420
    },
    "id": "75d5b968"
   },
   "outputs": [],
   "source": [
    "# menyeimbangkan data\n",
    "balance = SMOTE(sampling_strategy='auto', random_state=42)\n",
    "\n",
    "# melatih model dan menghasilkan sampel oversample\n",
    "X_train_balance, y_train_balance = balance.fit_resample(X_train, y_train)"
   ]
  },
  {
   "cell_type": "code",
   "execution_count": 20,
   "id": "fc5fdf35",
   "metadata": {
    "colab": {
     "base_uri": "https://localhost:8080/"
    },
    "executionInfo": {
     "elapsed": 13,
     "status": "ok",
     "timestamp": 1715854523895,
     "user": {
      "displayName": "Roni Antonius Sinabutar",
      "userId": "06736772884645285418"
     },
     "user_tz": -420
    },
    "id": "fc5fdf35",
    "outputId": "7744bdfb-4657-4e11-8a2c-19a5531a9eb2"
   },
   "outputs": [
    {
     "name": "stdout",
     "output_type": "stream",
     "text": [
      "bankrupt\n",
      "0.0         0.5\n",
      "1.0         0.5\n",
      "Name: proportion, dtype: float64\n"
     ]
    }
   ],
   "source": [
    "print(y_train_balance.value_counts(normalize=True))"
   ]
  },
  {
   "cell_type": "code",
   "execution_count": 21,
   "id": "7576f74f",
   "metadata": {
    "colab": {
     "base_uri": "https://localhost:8080/"
    },
    "executionInfo": {
     "elapsed": 316,
     "status": "ok",
     "timestamp": 1715854526116,
     "user": {
      "displayName": "Roni Antonius Sinabutar",
      "userId": "06736772884645285418"
     },
     "user_tz": -420
    },
    "id": "7576f74f",
    "outputId": "d04ef980-249a-4fa2-8f13-c7ce5f35bcaf"
   },
   "outputs": [
    {
     "name": "stdout",
     "output_type": "stream",
     "text": [
      "bankrupt\n",
      "0.0         0.934233\n",
      "1.0         0.065767\n",
      "Name: proportion, dtype: float64\n"
     ]
    }
   ],
   "source": [
    "print(y_train.value_counts(normalize=True))"
   ]
  },
  {
   "cell_type": "markdown",
   "id": "b63c63b9",
   "metadata": {
    "id": "b63c63b9"
   },
   "source": [
    "Penerapan dari teknik sampling/balancing data tersebut dengan menggunakan SMOTE dengan strategi 'auto' dapat membuat atau meningkatkan sampel sintesis dalam kelas minoritas yaitu 'bankrupt' = 1"
   ]
  },
  {
   "cell_type": "code",
   "execution_count": 22,
   "id": "9db4c682",
   "metadata": {
    "colab": {
     "base_uri": "https://localhost:8080/"
    },
    "executionInfo": {
     "elapsed": 18,
     "status": "ok",
     "timestamp": 1715854528338,
     "user": {
      "displayName": "Roni Antonius Sinabutar",
      "userId": "06736772884645285418"
     },
     "user_tz": -420
    },
    "id": "9db4c682",
    "outputId": "0bc5bb4f-1cba-4fa9-eccf-6eb4125fa0df"
   },
   "outputs": [
    {
     "data": {
      "text/plain": [
       "(59011, 14)"
      ]
     },
     "execution_count": 22,
     "metadata": {},
     "output_type": "execute_result"
    }
   ],
   "source": [
    "X_train.shape"
   ]
  },
  {
   "cell_type": "code",
   "execution_count": 23,
   "id": "be27066f",
   "metadata": {
    "colab": {
     "base_uri": "https://localhost:8080/"
    },
    "executionInfo": {
     "elapsed": 619,
     "status": "ok",
     "timestamp": 1715854531038,
     "user": {
      "displayName": "Roni Antonius Sinabutar",
      "userId": "06736772884645285418"
     },
     "user_tz": -420
    },
    "id": "be27066f",
    "outputId": "b7f873d8-8d59-4adb-ee7b-e0752d622971"
   },
   "outputs": [
    {
     "data": {
      "text/plain": [
       "(110260, 14)"
      ]
     },
     "execution_count": 23,
     "metadata": {},
     "output_type": "execute_result"
    }
   ],
   "source": [
    "X_train_balance.shape"
   ]
  },
  {
   "cell_type": "code",
   "execution_count": 24,
   "id": "036f5d5e",
   "metadata": {
    "executionInfo": {
     "elapsed": 474,
     "status": "ok",
     "timestamp": 1715854532839,
     "user": {
      "displayName": "Roni Antonius Sinabutar",
      "userId": "06736772884645285418"
     },
     "user_tz": -420
    },
    "id": "036f5d5e"
   },
   "outputs": [],
   "source": [
    "ccount = y_train_balance['bankrupt'].value_counts()"
   ]
  },
  {
   "cell_type": "code",
   "execution_count": 25,
   "id": "6a7391db",
   "metadata": {
    "colab": {
     "base_uri": "https://localhost:8080/",
     "height": 572
    },
    "executionInfo": {
     "elapsed": 355,
     "status": "ok",
     "timestamp": 1715854534853,
     "user": {
      "displayName": "Roni Antonius Sinabutar",
      "userId": "06736772884645285418"
     },
     "user_tz": -420
    },
    "id": "6a7391db",
    "outputId": "d58e4d5c-95ff-4e4b-c708-3ae2c37d167e"
   },
   "outputs": [
    {
     "data": {
      "application/javascript": [
       "\n",
       "        if (window._pyforest_update_imports_cell) { window._pyforest_update_imports_cell('import pandas as pd\\nimport matplotlib.pyplot as plt'); }\n",
       "    "
      ],
      "text/plain": [
       "<IPython.core.display.Javascript object>"
      ]
     },
     "metadata": {},
     "output_type": "display_data"
    },
    {
     "data": {
      "application/javascript": [
       "\n",
       "        if (window._pyforest_update_imports_cell) { window._pyforest_update_imports_cell('import pandas as pd\\nimport matplotlib.pyplot as plt'); }\n",
       "    "
      ],
      "text/plain": [
       "<IPython.core.display.Javascript object>"
      ]
     },
     "metadata": {},
     "output_type": "display_data"
    },
    {
     "data": {
      "application/javascript": [
       "\n",
       "        if (window._pyforest_update_imports_cell) { window._pyforest_update_imports_cell('import pandas as pd\\nimport matplotlib.pyplot as plt'); }\n",
       "    "
      ],
      "text/plain": [
       "<IPython.core.display.Javascript object>"
      ]
     },
     "metadata": {},
     "output_type": "display_data"
    },
    {
     "data": {
      "application/javascript": [
       "\n",
       "        if (window._pyforest_update_imports_cell) { window._pyforest_update_imports_cell('import pandas as pd\\nimport matplotlib.pyplot as plt'); }\n",
       "    "
      ],
      "text/plain": [
       "<IPython.core.display.Javascript object>"
      ]
     },
     "metadata": {},
     "output_type": "display_data"
    },
    {
     "data": {
      "application/javascript": [
       "\n",
       "        if (window._pyforest_update_imports_cell) { window._pyforest_update_imports_cell('import pandas as pd\\nimport matplotlib.pyplot as plt'); }\n",
       "    "
      ],
      "text/plain": [
       "<IPython.core.display.Javascript object>"
      ]
     },
     "metadata": {},
     "output_type": "display_data"
    },
    {
     "data": {
      "image/png": "[encoded data removed]",
      "text/plain": [
       "<Figure size 800x600 with 1 Axes>"
      ]
     },
     "metadata": {},
     "output_type": "display_data"
    }
   ],
   "source": [
    "plt.figure(figsize=(8, 6))\n",
    "ccount.plot(kind='bar', color=['lightgreen', 'lightblue'])\n",
    "plt.title('Jumlah Kelas 0 dan 1 pada Data Bankrupt')\n",
    "plt.xlabel('Kelas Bankrupt')\n",
    "plt.ylabel('Jumlah')\n",
    "plt.show()"
   ]
  },
  {
   "cell_type": "markdown",
   "id": "f9507d12",
   "metadata": {
    "id": "f9507d12"
   },
   "source": [
    "## Modelling\n",
    "fungsi untuk evaluasi nanti, kasus klasifikasi. menggunakan X_train_balance dan y_train_balance\n",
    "\n",
    "Evaluasi dengan klasifikasi:\n",
    "- accuracy\n",
    "- precision\n",
    "- recall (sensitivity)\n",
    "- Specificity\n",
    "- ROC-AUC\n",
    "- Precision-Recall Curve and AUC\n",
    "- F-beta score\n",
    "- Matthews Correlation Coefficient\n",
    "- Log loss"
   ]
  },
  {
   "cell_type": "code",
   "execution_count": 26,
   "id": "62e03688",
   "metadata": {
    "executionInfo": {
     "elapsed": 8,
     "status": "ok",
     "timestamp": 1715854538427,
     "user": {
      "displayName": "Roni Antonius Sinabutar",
      "userId": "06736772884645285418"
     },
     "user_tz": -420
    },
    "id": "62e03688"
   },
   "outputs": [],
   "source": [
    "# y_true itu y_test\n",
    "def model_report(y_true, y_pred):\n",
    "\n",
    "    acc                     = accuracy_score(y_true, y_pred)\n",
    "    pre                     = precision_score(y_true, y_pred)\n",
    "    rec                     = recall_score(y_true, y_pred)\n",
    "    f1                      = f1_score(y_true, y_pred)\n",
    "    loss                    = log_loss(y_true, y_pred)\n",
    "\n",
    "    print(\"accuracy:   {:3f}\\nprecision:  {:3f}\\nrecall:     {:3f}\\nf1-score:   {:3f}\\nloss:       {:3f}\".\n",
    "          format(acc, pre, rec, f1, loss))"
   ]
  },
  {
   "cell_type": "code",
   "execution_count": 27,
   "id": "84f4fd08",
   "metadata": {
    "colab": {
     "base_uri": "https://localhost:8080/",
     "height": 17
    },
    "executionInfo": {
     "elapsed": 350,
     "status": "ok",
     "timestamp": 1715854541854,
     "user": {
      "displayName": "Roni Antonius Sinabutar",
      "userId": "06736772884645285418"
     },
     "user_tz": -420
    },
    "id": "84f4fd08",
    "outputId": "ca7b7fc2-7ea0-411b-a257-bfcaa3f315de"
   },
   "outputs": [
    {
     "data": {
      "application/javascript": [
       "\n",
       "        if (window._pyforest_update_imports_cell) { window._pyforest_update_imports_cell('import pandas as pd\\nimport matplotlib.pyplot as plt\\nfrom sklearn.ensemble import GradientBoostingClassifier'); }\n",
       "    "
      ],
      "text/plain": [
       "<IPython.core.display.Javascript object>"
      ]
     },
     "metadata": {},
     "output_type": "display_data"
    }
   ],
   "source": [
    "knn_ball                    = KNeighborsClassifier(n_neighbors=50, algorithm=\"ball_tree\", metric='euclidean')\n",
    "random_forest               = RandomForestClassifier(max_depth=50, criterion=\"gini\", n_estimators=38)\n",
    "knn_tree                    = KNeighborsClassifier(n_neighbors=10, algorithm=\"kd_tree\")\n",
    "decision_tree               = DecisionTreeClassifier(max_depth=17, criterion=\"entropy\")\n",
    "gdb                         = GradientBoostingClassifier()\n",
    "ada_boost                   = AdaBoostClassifier()\n",
    "sgd                         = SGDClassifier() # gradient descent\n",
    "gaussian                    = GaussianNB() #naive bayes untuk probability"
   ]
  },
  {
   "cell_type": "code",
   "execution_count": 28,
   "id": "6a3c883e",
   "metadata": {
    "executionInfo": {
     "elapsed": 404,
     "status": "ok",
     "timestamp": 1715854545121,
     "user": {
      "displayName": "Roni Antonius Sinabutar",
      "userId": "06736772884645285418"
     },
     "user_tz": -420
    },
    "id": "6a3c883e"
   },
   "outputs": [],
   "source": [
    "models = {\"KNN Ball\"        : knn_ball,\n",
    "         \"KNN Tree\"         : knn_tree,\n",
    "         \"Decision tree\"    : decision_tree,\n",
    "         \"Random forest\"    : random_forest,\n",
    "         \"Ada Boost\"        : ada_boost,\n",
    "         \"Gradient Boosting\": gdb,\n",
    "         \"Gaussian Naive\"   : gaussian,\n",
    "         \"SGD\"              : sgd}"
   ]
  },
  {
   "cell_type": "markdown",
   "id": "289aaa00",
   "metadata": {
    "id": "289aaa00"
   },
   "source": [
    "### Melatih data"
   ]
  },
  {
   "cell_type": "code",
   "execution_count": 29,
   "id": "39a8d951",
   "metadata": {
    "colab": {
     "base_uri": "https://localhost:8080/"
    },
    "executionInfo": {
     "elapsed": 269597,
     "status": "ok",
     "timestamp": 1715854817100,
     "user": {
      "displayName": "Roni Antonius Sinabutar",
      "userId": "06736772884645285418"
     },
     "user_tz": -420
    },
    "id": "39a8d951",
    "outputId": "ed1b4212-ccb7-49f4-e63a-3f59cb472735",
    "scrolled": false
   },
   "outputs": [
    {
     "name": "stdout",
     "output_type": "stream",
     "text": [
      "************************************************** Performa Model ML pada Data Train ************************************************** \n",
      "\n",
      "KNN Ball: \n",
      "Train Data Metrics:\n",
      "accuracy:   0.826637\n",
      "precision:  0.758710\n",
      "recall:     0.957918\n",
      "f1-score:   0.846755\n",
      "loss:       6.248634\n",
      "=========================\n",
      "\n",
      "KNN Tree: \n",
      "Train Data Metrics:\n",
      "accuracy:   0.918901\n",
      "precision:  0.861998\n",
      "recall:     0.997497\n",
      "f1-score:   0.924810\n",
      "loss:       2.923112\n",
      "=========================\n",
      "\n",
      "Decision tree: \n",
      "Train Data Metrics:\n",
      "accuracy:   0.918837\n",
      "precision:  0.892009\n",
      "recall:     0.953056\n",
      "f1-score:   0.921523\n",
      "loss:       2.925400\n",
      "=========================\n",
      "\n",
      "Random forest: \n",
      "Train Data Metrics:\n",
      "accuracy:   0.999973\n",
      "precision:  0.999982\n",
      "recall:     0.999964\n",
      "f1-score:   0.999973\n",
      "loss:       0.000981\n",
      "=========================\n",
      "\n",
      "Ada Boost: \n",
      "Train Data Metrics:\n",
      "accuracy:   0.712924\n",
      "precision:  0.696767\n",
      "recall:     0.753981\n",
      "f1-score:   0.724246\n",
      "loss:       10.347268\n",
      "=========================\n",
      "\n",
      "Gradient Boosting: \n",
      "Train Data Metrics:\n",
      "accuracy:   0.756584\n",
      "precision:  0.728245\n",
      "recall:     0.818665\n",
      "f1-score:   0.770813\n",
      "loss:       8.773586\n",
      "=========================\n",
      "\n",
      "Gaussian Naive: \n",
      "Train Data Metrics:\n",
      "accuracy:   0.517831\n",
      "precision:  0.509595\n",
      "recall:     0.947034\n",
      "f1-score:   0.662631\n",
      "loss:       17.379147\n",
      "=========================\n",
      "\n",
      "SGD: \n",
      "Train Data Metrics:\n",
      "accuracy:   0.562743\n",
      "precision:  0.578276\n",
      "recall:     0.463523\n",
      "f1-score:   0.514579\n",
      "loss:       15.760354\n",
      "=========================\n",
      "\n"
     ]
    }
   ],
   "source": [
    "def model_report_train(y_true_train, y_pred_train):\n",
    "\n",
    "    acc_train      = accuracy_score(y_true_train, y_pred_train)\n",
    "    pre_train      = precision_score(y_true_train, y_pred_train)\n",
    "    rec_train      = recall_score(y_true_train, y_pred_train)\n",
    "    f1_train       = f1_score(y_true_train, y_pred_train)\n",
    "    loss_train     = log_loss(y_true_train, y_pred_train)\n",
    "\n",
    "    print(\"Train Data Metrics:\")\n",
    "    print(\"accuracy:   {:3f}\\nprecision:  {:3f}\\nrecall:     {:3f}\\nf1-score:   {:3f}\\nloss:       {:3f}\".\n",
    "          format(acc_train, pre_train, rec_train, f1_train, loss_train))\n",
    "\n",
    "print(\"*\"*50, \"Performa Model ML pada Data Train\", \"*\"*50, \"\\n\")\n",
    "\n",
    "for nama_model, model in models.items():\n",
    "\n",
    "    model.fit(X_train_balance, y_train_balance)\n",
    "    y_pred_train_b    = model.predict(X_train_balance)\n",
    "\n",
    "    print(f\"{nama_model}: \")\n",
    "\n",
    "    model_report_train(y_train_balance, y_pred_train_b)\n",
    "\n",
    "    print(\"=\"*25 + \"\\n\")"
   ]
  },
  {
   "cell_type": "markdown",
   "id": "d035667d",
   "metadata": {
    "id": "d035667d"
   },
   "source": [
    "### Pengujian Data"
   ]
  },
  {
   "cell_type": "code",
   "execution_count": 30,
   "id": "fb6c0434",
   "metadata": {
    "colab": {
     "base_uri": "https://localhost:8080/"
    },
    "executionInfo": {
     "elapsed": 144184,
     "status": "ok",
     "timestamp": 1715855053775,
     "user": {
      "displayName": "Roni Antonius Sinabutar",
      "userId": "06736772884645285418"
     },
     "user_tz": -420
    },
    "id": "fb6c0434",
    "outputId": "e05bb475-a359-4d7b-fd5c-1b26f2378be9"
   },
   "outputs": [
    {
     "name": "stdout",
     "output_type": "stream",
     "text": [
      "************************************************** Performa Testing Model ML ************************************************** \n",
      "\n",
      "KNN Ball: \n",
      "accuracy:   0.690509\n",
      "precision:  0.149417\n",
      "recall:     0.755788\n",
      "f1-score:   0.249507\n",
      "loss:       11.155191\n",
      "=========================\n",
      "\n",
      "KNN Tree: \n",
      "accuracy:   0.797113\n",
      "precision:  0.205333\n",
      "recall:     0.690067\n",
      "f1-score:   0.316493\n",
      "loss:       7.312807\n",
      "=========================\n",
      "\n",
      "Decision tree: \n",
      "accuracy:   0.793452\n",
      "precision:  0.177557\n",
      "recall:     0.560119\n",
      "f1-score:   0.269639\n",
      "loss:       7.444734\n",
      "=========================\n",
      "\n",
      "Random forest: \n",
      "accuracy:   0.915612\n",
      "precision:  0.399625\n",
      "recall:     0.477222\n",
      "f1-score:   0.434990\n",
      "loss:       3.041659\n",
      "=========================\n",
      "\n",
      "Ada Boost: \n",
      "accuracy:   0.665599\n",
      "precision:  0.119535\n",
      "recall:     0.614638\n",
      "f1-score:   0.200146\n",
      "loss:       12.053030\n",
      "=========================\n",
      "\n",
      "Gradient Boosting: \n",
      "accuracy:   0.687408\n",
      "precision:  0.132375\n",
      "recall:     0.646751\n",
      "f1-score:   0.219769\n",
      "loss:       11.266963\n",
      "=========================\n",
      "\n",
      "Gaussian Naive: \n",
      "accuracy:   0.144883\n",
      "precision:  0.070469\n",
      "recall:     0.948469\n",
      "f1-score:   0.131192\n",
      "loss:       30.821529\n",
      "=========================\n",
      "\n",
      "SGD: \n",
      "accuracy:   0.736922\n",
      "precision:  0.086103\n",
      "recall:     0.297984\n",
      "f1-score:   0.133601\n",
      "loss:       9.482279\n",
      "=========================\n",
      "\n"
     ]
    }
   ],
   "source": [
    "print(\"*\"*50, \"Performa Testing Model ML\", \"*\"*50, \"\\n\")\n",
    "\n",
    "for nama_model, model in models.items():\n",
    "\n",
    "    model.fit(X_train_balance, y_train_balance)\n",
    "    y_pred = model.predict(X_test)\n",
    "\n",
    "    print(f\"{nama_model}: \")\n",
    "    model_report(y_test, y_pred)\n",
    "\n",
    "    print(\"=\"*25 + \"\\n\")"
   ]
  },
  {
   "cell_type": "markdown",
   "id": "d00bfe69",
   "metadata": {
    "id": "d00bfe69"
   },
   "source": [
    "#### Hasil analisis model\n",
    "- SGD: menunjukkan performa model akurasi yang membaik, namun parameter evaluasi lainnya memiliki performa yang buruk.\n",
    "- KNN Ball: Model mengalami overfitting ditunjukkan dengan nilai precision yang drastis menurun ketika model diuji/test.\n",
    "- KNN Tree: Model mengalami overfitting juga dengan nilai precision yang juga drastis menurun ketika model diuji.\n",
    "- Decision tree: Model sudah jelas mengalami overfit, ditunjukkan juga dengan nilai parameter precision yang drastis menurun dan juga f1-score.\n",
    "- Random forest: Model mungkin sudah jelas mengalami overfitting, ditunjukkan dengan beberapa parameter evaluasi yang performanya menurun. Namun hal ini masih bisa diatasi dengan menggunakan nilai parameter yang benar dengan **Tuning**.\n",
    "- Ada Boost: Modelnya overfitting\n",
    "- Gradient Boosting: Modelnya overfitting juga, namun masih mungkin diterapkan **tuning**\n",
    "- Gaussian Naive Bayes: Modelnya underfit\n",
    "- SGD: Modelnya mungkin mengalami overfit. Namun kita coba tinjau lebih lanjut dengan **tuning**."
   ]
  },
  {
   "cell_type": "markdown",
   "id": "4f494666",
   "metadata": {
    "id": "4f494666"
   },
   "source": [
    "#### Memilih model yang tidak overfiting atau underfit untuk dilanjutkan pada tahap Hyperparameter atau Tuning\n",
    "\n",
    "\n",
    "Berdasarkan hasil evaluasi **tiga model terbaik** adalah:\n",
    "- [Random Forest]\n",
    "- [Gradient Boost]\n",
    "- [Stochastic Gradien Descent]\n"
   ]
  },
  {
   "cell_type": "code",
   "execution_count": 31,
   "id": "55eae82f",
   "metadata": {
    "executionInfo": {
     "elapsed": 335,
     "status": "ok",
     "timestamp": 1715855084272,
     "user": {
      "displayName": "Roni Antonius Sinabutar",
      "userId": "06736772884645285418"
     },
     "user_tz": -420
    },
    "id": "55eae82f"
   },
   "outputs": [],
   "source": [
    "# Fungsi Evaluasi Suatu Model dengan Confusion Matrix\n",
    "def plot_confusion_matriks(y_true, y_pred):\n",
    "    cm = confusion_matrix(y_true, y_pred)\n",
    "    tampil = ConfusionMatrixDisplay(confusion_matrix=cm)\n",
    "\n",
    "    tampil.plot(cmap='Greys')\n",
    "\n",
    "    plt.title('Confusion Matrix')\n",
    "    plt.show()"
   ]
  },
  {
   "cell_type": "markdown",
   "id": "89861321",
   "metadata": {
    "id": "89861321"
   },
   "source": [
    "### HyperTuning Machine Learning Model"
   ]
  },
  {
   "cell_type": "markdown",
   "id": "z31JeSxU7vlB",
   "metadata": {
    "id": "z31JeSxU7vlB"
   },
   "source": [
    "#### Randomized Search"
   ]
  },
  {
   "cell_type": "code",
   "execution_count": 32,
   "id": "21200c35",
   "metadata": {
    "executionInfo": {
     "elapsed": 11,
     "status": "ok",
     "timestamp": 1715855522220,
     "user": {
      "displayName": "Roni Antonius Sinabutar",
      "userId": "06736772884645285418"
     },
     "user_tz": -420
    },
    "id": "21200c35"
   },
   "outputs": [],
   "source": [
    "from scipy.stats import randint, uniform\n",
    "\n",
    "list_param_rf = {'n_estimators': randint(400, 800), #random integer\n",
    "                 'max_depth': randint(3, 10)}"
   ]
  },
  {
   "cell_type": "code",
   "execution_count": null,
   "id": "87e8a6dd",
   "metadata": {
    "colab": {
     "base_uri": "https://localhost:8080/",
     "height": 180
    },
    "executionInfo": {
     "elapsed": 3057611,
     "status": "ok",
     "timestamp": 1715858769239,
     "user": {
      "displayName": "Roni Antonius Sinabutar",
      "userId": "06736772884645285418"
     },
     "user_tz": -420
    },
    "id": "87e8a6dd",
    "outputId": "ec323186-77b5-41b5-dad1-d6ec50b3f74e"
   },
   "outputs": [],
   "source": [
    "# Cross validation\n",
    "from sklearn.model_selection import RandomizedSearchCV\n",
    "\n",
    "random_cv = RandomizedSearchCV(RandomForestClassifier(),\n",
    "                               param_distributions=list_param_rf,\n",
    "                               n_iter=5,\n",
    "                               cv=5)\n",
    "\n",
    "random_cv.fit(X_train_balance, y_train_balance)"
   ]
  },
  {
   "cell_type": "code",
   "execution_count": 34,
   "id": "P371UF7B9Yb5",
   "metadata": {
    "colab": {
     "base_uri": "https://localhost:8080/"
    },
    "executionInfo": {
     "elapsed": 354,
     "status": "ok",
     "timestamp": 1715858794515,
     "user": {
      "displayName": "Roni Antonius Sinabutar",
      "userId": "06736772884645285418"
     },
     "user_tz": -420
    },
    "id": "P371UF7B9Yb5",
    "outputId": "77e1ab72-37f2-49b0-f6a8-1b6ef77b6814"
   },
   "outputs": [
    {
     "name": "stdout",
     "output_type": "stream",
     "text": [
      "Tuning Hiperparameter RF:  {'max_depth': 8, 'n_estimators': 595}\n"
     ]
    }
   ],
   "source": [
    "print('Tuning Hiperparameter RF: ', random_cv.best_params_)"
   ]
  },
  {
   "cell_type": "code",
   "execution_count": 35,
   "id": "BUL7rhNQDeLf",
   "metadata": {
    "colab": {
     "base_uri": "https://localhost:8080/"
    },
    "executionInfo": {
     "elapsed": 19,
     "status": "ok",
     "timestamp": 1715858830304,
     "user": {
      "displayName": "Roni Antonius Sinabutar",
      "userId": "06736772884645285418"
     },
     "user_tz": -420
    },
    "id": "BUL7rhNQDeLf",
    "outputId": "7e13c1fc-e776-4379-fdbb-92b5631396d2"
   },
   "outputs": [
    {
     "data": {
      "text/plain": [
       "{'max_depth': 8, 'n_estimators': 595}"
      ]
     },
     "execution_count": 35,
     "metadata": {},
     "output_type": "execute_result"
    }
   ],
   "source": [
    "random_cv.best_params_"
   ]
  },
  {
   "cell_type": "code",
   "execution_count": null,
   "id": "Zqbke31z9Yef",
   "metadata": {
    "colab": {
     "base_uri": "https://localhost:8080/",
     "height": 80
    },
    "executionInfo": {
     "elapsed": 179090,
     "status": "ok",
     "timestamp": 1715859044706,
     "user": {
      "displayName": "Roni Antonius Sinabutar",
      "userId": "06736772884645285418"
     },
     "user_tz": -420
    },
    "id": "Zqbke31z9Yef",
    "outputId": "e1f7450c-c917-4a05-8df2-9da5b52e87b0"
   },
   "outputs": [],
   "source": [
    "rf_best = RandomForestClassifier(max_depth=8,\n",
    "                                 n_estimators=595,\n",
    "                                 random_state=42)\n",
    "\n",
    "rf_best.fit(X_train_balance, y_train_balance)"
   ]
  },
  {
   "cell_type": "code",
   "execution_count": 37,
   "id": "Lq0wk8V-9YhG",
   "metadata": {
    "executionInfo": {
     "elapsed": 1305,
     "status": "ok",
     "timestamp": 1715859058085,
     "user": {
      "displayName": "Roni Antonius Sinabutar",
      "userId": "06736772884645285418"
     },
     "user_tz": -420
    },
    "id": "Lq0wk8V-9YhG"
   },
   "outputs": [],
   "source": [
    "y_tt_rf_best = rf_best.predict(X_test)"
   ]
  },
  {
   "cell_type": "code",
   "execution_count": 38,
   "id": "ERSbL4j69Yjp",
   "metadata": {
    "colab": {
     "base_uri": "https://localhost:8080/"
    },
    "executionInfo": {
     "elapsed": 305,
     "status": "ok",
     "timestamp": 1715859062315,
     "user": {
      "displayName": "Roni Antonius Sinabutar",
      "userId": "06736772884645285418"
     },
     "user_tz": -420
    },
    "id": "ERSbL4j69Yjp",
    "outputId": "35ec00be-d669-4966-f6cf-11e899fe98d4"
   },
   "outputs": [
    {
     "name": "stdout",
     "output_type": "stream",
     "text": [
      "Klasifikasi Report dari Best Random Forest:\n",
      "              precision    recall  f1-score   support\n",
      "\n",
      "         0.0       0.97      0.69      0.80     18332\n",
      "         1.0       0.13      0.66      0.22      1339\n",
      "\n",
      "    accuracy                           0.69     19671\n",
      "   macro avg       0.55      0.67      0.51     19671\n",
      "weighted avg       0.91      0.69      0.76     19671\n",
      "\n"
     ]
    }
   ],
   "source": [
    "print('Klasifikasi Report dari Best Random Forest:')\n",
    "print(classification_report(y_test, y_tt_rf_best))"
   ]
  },
  {
   "cell_type": "code",
   "execution_count": 39,
   "id": "b4a36e1c",
   "metadata": {
    "colab": {
     "base_uri": "https://localhost:8080/",
     "height": 472
    },
    "executionInfo": {
     "elapsed": 503,
     "status": "ok",
     "timestamp": 1715859078410,
     "user": {
      "displayName": "Roni Antonius Sinabutar",
      "userId": "06736772884645285418"
     },
     "user_tz": -420
    },
    "id": "b4a36e1c",
    "outputId": "e8e99866-7f0f-4db4-be0f-e33c513f7e68"
   },
   "outputs": [
    {
     "data": {
      "application/javascript": [
       "\n",
       "        if (window._pyforest_update_imports_cell) { window._pyforest_update_imports_cell('import fastai\\nimport pandas as pd\\nimport numpy as np\\nimport plotly as py\\nimport lightgbm as lgb\\nimport sklearn\\nfrom sklearn.preprocessing import RobustScaler\\nfrom sklearn.model_selection import cross_val_score\\nfrom sklearn.model_selection import GridSearchCV\\nfrom sklearn.model_selection import RandomizedSearchCV\\nfrom sklearn.ensemble import RandomForestRegressor\\nfrom sklearn.linear_model import RidgeCV\\nimport pydot\\nfrom sklearn.linear_model import Ridge\\nimport plotly.express as px\\nimport cv2\\nfrom openpyxl import load_workbook\\nimport re\\nimport nltk\\nimport matplotlib.pyplot as plt\\nfrom sklearn.ensemble import GradientBoostingClassifier'); }\n",
       "    "
      ],
      "text/plain": [
       "<IPython.core.display.Javascript object>"
      ]
     },
     "metadata": {},
     "output_type": "display_data"
    },
    {
     "data": {
      "application/javascript": [
       "\n",
       "        if (window._pyforest_update_imports_cell) { window._pyforest_update_imports_cell('import fastai\\nimport pandas as pd\\nimport numpy as np\\nimport plotly as py\\nimport lightgbm as lgb\\nimport sklearn\\nfrom sklearn.preprocessing import RobustScaler\\nfrom sklearn.model_selection import cross_val_score\\nfrom sklearn.model_selection import GridSearchCV\\nfrom sklearn.model_selection import RandomizedSearchCV\\nfrom sklearn.ensemble import RandomForestRegressor\\nfrom sklearn.linear_model import RidgeCV\\nimport pydot\\nfrom sklearn.linear_model import Ridge\\nimport plotly.express as px\\nimport cv2\\nfrom openpyxl import load_workbook\\nimport re\\nimport nltk\\nimport matplotlib.pyplot as plt\\nfrom sklearn.ensemble import GradientBoostingClassifier'); }\n",
       "    "
      ],
      "text/plain": [
       "<IPython.core.display.Javascript object>"
      ]
     },
     "metadata": {},
     "output_type": "display_data"
    },
    {
     "data": {
      "image/png": "[encoded data removed]",
      "text/plain": [
       "<Figure size 640x480 with 2 Axes>"
      ]
     },
     "metadata": {},
     "output_type": "display_data"
    }
   ],
   "source": [
    "plot_confusion_matriks(y_test, y_tt_rf_best)"
   ]
  },
  {
   "cell_type": "markdown",
   "id": "QRPcf4X1QbIO",
   "metadata": {
    "id": "QRPcf4X1QbIO"
   },
   "source": [
    "### Best Machine Learning Model"
   ]
  },
  {
   "cell_type": "code",
   "execution_count": 43,
   "id": "bXYqm1RWgGC4",
   "metadata": {
    "colab": {
     "base_uri": "https://localhost:8080/"
    },
    "executionInfo": {
     "elapsed": 8606,
     "status": "ok",
     "timestamp": 1715864640590,
     "user": {
      "displayName": "Roni Antonius Sinabutar",
      "userId": "06736772884645285418"
     },
     "user_tz": -420
    },
    "id": "bXYqm1RWgGC4",
    "outputId": "ecab62f6-2e09-4168-c8d3-b16df7403054"
   },
   "outputs": [
    {
     "name": "stdout",
     "output_type": "stream",
     "text": [
      "Requirement already satisfied: joblib in /usr/local/lib/python3.10/dist-packages (1.4.2)\n"
     ]
    }
   ],
   "source": [
    "!pip install joblib"
   ]
  },
  {
   "cell_type": "code",
   "execution_count": 45,
   "id": "fvd1wcWTNTtb",
   "metadata": {
    "colab": {
     "base_uri": "https://localhost:8080/"
    },
    "executionInfo": {
     "elapsed": 2128,
     "status": "ok",
     "timestamp": 1715864681002,
     "user": {
      "displayName": "Roni Antonius Sinabutar",
      "userId": "06736772884645285418"
     },
     "user_tz": -420
    },
    "id": "fvd1wcWTNTtb",
    "outputId": "10dc99fd-552e-4522-8f4a-1a9a494b1d52"
   },
   "outputs": [
    {
     "data": {
      "text/plain": [
       "['/content/drive/MyDrive/Colab Notebooks/dataset/bankrupt/Random Forest Best_70.pkl']"
      ]
     },
     "execution_count": 45,
     "metadata": {},
     "output_type": "execute_result"
    }
   ],
   "source": [
    "import joblib\n",
    "\n",
    "joblib.dump(rf_best, '/content/drive/MyDrive/Colab Notebooks/dataset/bankrupt/Random Forest Best_70.pkl')"
   ]
  }
 ],
 "metadata": {
  "accelerator": "GPU",
  "colab": {
   "gpuType": "T4",
   "provenance": []
  },
  "kernelspec": {
   "display_name": "Python 3 (ipykernel)",
   "language": "python",
   "name": "python3"
  },
  "language_info": {
   "codemirror_mode": {
    "name": "ipython",
    "version": 3
   },
   "file_extension": ".py",
   "mimetype": "text/x-python",
   "name": "python",
   "nbconvert_exporter": "python",
   "pygments_lexer": "ipython3",
   "version": "3.11.5"
  }
 },
 "nbformat": 4,
 "nbformat_minor": 5
}
