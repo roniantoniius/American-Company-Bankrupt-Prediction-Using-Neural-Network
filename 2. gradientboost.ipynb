{
 "cells": [
  {
   "cell_type": "markdown",
   "id": "737dfe6c",
   "metadata": {
    "id": "737dfe6c"
   },
   "source": [
    "# America Company Bankrupt Prediction Gradient Boost Best (2)"
   ]
  },
  {
   "cell_type": "code",
   "execution_count": 2,
   "id": "66688a3c",
   "metadata": {
    "execution": {
     "iopub.execute_input": "2024-05-17T03:58:29.999442Z",
     "iopub.status.busy": "2024-05-17T03:58:29.998812Z",
     "iopub.status.idle": "2024-05-17T03:58:30.009443Z",
     "shell.execute_reply": "2024-05-17T03:58:30.008570Z",
     "shell.execute_reply.started": "2024-05-17T03:58:29.999407Z"
    },
    "id": "66688a3c"
   },
   "outputs": [],
   "source": [
    "import warnings\n",
    "warnings.filterwarnings('ignore')"
   ]
  },
  {
   "cell_type": "code",
   "execution_count": 6,
   "id": "30c18098",
   "metadata": {
    "execution": {
     "iopub.execute_input": "2024-05-17T03:58:34.368223Z",
     "iopub.status.busy": "2024-05-17T03:58:34.367497Z",
     "iopub.status.idle": "2024-05-17T03:58:38.182543Z",
     "shell.execute_reply": "2024-05-17T03:58:38.181710Z",
     "shell.execute_reply.started": "2024-05-17T03:58:34.368189Z"
    },
    "id": "30c18098"
   },
   "outputs": [],
   "source": [
    "import pandas as pd\n",
    "import keras\n",
    "import pickle"
   ]
  },
  {
   "cell_type": "code",
   "execution_count": 7,
   "id": "3158f6e9",
   "metadata": {
    "execution": {
     "iopub.execute_input": "2024-05-17T03:58:42.403389Z",
     "iopub.status.busy": "2024-05-17T03:58:42.402496Z",
     "iopub.status.idle": "2024-05-17T03:58:42.885914Z",
     "shell.execute_reply": "2024-05-17T03:58:42.885145Z",
     "shell.execute_reply.started": "2024-05-17T03:58:42.403355Z"
    },
    "id": "3158f6e9"
   },
   "outputs": [],
   "source": [
    "# library dibawah sebenarnya udah ada di pyforest\n",
    "from sklearn.model_selection       import train_test_split\n",
    "from sklearn.feature_selection     import SelectKBest, f_classif\n",
    "from sklearn.preprocessing         import MinMaxScaler, StandardScaler\n",
    "from sklearn.preprocessing         import LabelEncoder, OrdinalEncoder, OneHotEncoder\n",
    "from sklearn.pipeline              import make_pipeline\n",
    "from sklearn.compose               import ColumnTransformer\n",
    "from sklearn.metrics               import (f1_score,\n",
    "                                           precision_score,\n",
    "                                           recall_score,\n",
    "                                           log_loss,\n",
    "                                           accuracy_score,\n",
    "                                           classification_report,\n",
    "                                           ConfusionMatrixDisplay,\n",
    "                                           confusion_matrix)\n",
    "\n",
    "\n",
    "from sklearn.ensemble              import StackingClassifier\n",
    "from sklearn.pipeline              import Pipeline\n",
    "from sklearn.preprocessing         import StandardScaler\n",
    "from sklearn_pandas                import DataFrameMapper\n",
    "from sklearn.ensemble              import AdaBoostClassifier\n",
    "from sklearn.tree                  import DecisionTreeClassifier\n",
    "from sklearn.linear_model          import LogisticRegression\n",
    "from matplotlib.colors             import ListedColormap\n",
    "from sklearn.linear_model          import SGDClassifier\n",
    "from sklearn.ensemble              import RandomForestClassifier\n",
    "from sklearn.linear_model          import SGDClassifier\n",
    "from sklearn.svm                   import SVC\n",
    "from sklearn.naive_bayes           import GaussianNB\n",
    "from sklearn.neighbors             import KNeighborsClassifier\n",
    "from sklearn.neighbors             import NeighborhoodComponentsAnalysis\n",
    "from keras.callbacks               import EarlyStopping"
   ]
  },
  {
   "cell_type": "code",
   "execution_count": 8,
   "id": "tcuZEt1P0X-O",
   "metadata": {
    "colab": {
     "base_uri": "https://localhost:8080/"
    },
    "execution": {
     "iopub.execute_input": "2024-05-17T03:58:46.171998Z",
     "iopub.status.busy": "2024-05-17T03:58:46.170989Z",
     "iopub.status.idle": "2024-05-17T03:58:46.176701Z",
     "shell.execute_reply": "2024-05-17T03:58:46.175742Z",
     "shell.execute_reply.started": "2024-05-17T03:58:46.171960Z"
    },
    "id": "tcuZEt1P0X-O",
    "outputId": "4eb543fb-fbe1-42df-e755-3a5ae359ca64"
   },
   "outputs": [
    {
     "name": "stdout",
     "output_type": "stream",
     "text": [
      "2.15.0\n"
     ]
    }
   ],
   "source": [
    "import tensorflow as tf #cek versi tensorflow\n",
    "print(tf.__version__)"
   ]
  },
  {
   "cell_type": "code",
   "execution_count": 9,
   "id": "DLnAK3ItUIiD",
   "metadata": {
    "id": "DLnAK3ItUIiD"
   },
   "outputs": [],
   "source": [
    "from google.colab import drive\n",
    "from pyforest                      import *"
   ]
  },
  {
   "cell_type": "code",
   "execution_count": 9,
   "id": "rsllGw2q4xQS",
   "metadata": {
    "colab": {
     "base_uri": "https://localhost:8080/"
    },
    "id": "rsllGw2q4xQS",
    "outputId": "2abc5774-7f0b-4e78-dce3-ffb4e01842ad"
   },
   "outputs": [
    {
     "name": "stdout",
     "output_type": "stream",
     "text": [
      "Requirement already satisfied: pandas in /usr/local/lib/python3.10/dist-packages (2.2.2)\n",
      "Requirement already satisfied: numpy>=1.22.4 in /usr/local/lib/python3.10/dist-packages (from pandas) (1.25.2)\n",
      "Requirement already satisfied: python-dateutil>=2.8.2 in /usr/local/lib/python3.10/dist-packages (from pandas) (2.8.2)\n",
      "Requirement already satisfied: pytz>=2020.1 in /usr/local/lib/python3.10/dist-packages (from pandas) (2023.4)\n",
      "Requirement already satisfied: tzdata>=2022.7 in /usr/local/lib/python3.10/dist-packages (from pandas) (2024.1)\n",
      "Requirement already satisfied: six>=1.5 in /usr/local/lib/python3.10/dist-packages (from python-dateutil>=2.8.2->pandas) (1.16.0)\n"
     ]
    }
   ],
   "source": [
    "!pip install pandas --upgrade"
   ]
  },
  {
   "cell_type": "code",
   "execution_count": 10,
   "id": "ccee7dcf",
   "metadata": {
    "colab": {
     "base_uri": "https://localhost:8080/",
     "height": 35
    },
    "execution": {
     "iopub.execute_input": "2024-05-17T03:58:54.399809Z",
     "iopub.status.busy": "2024-05-17T03:58:54.399185Z",
     "iopub.status.idle": "2024-05-17T03:58:54.974797Z",
     "shell.execute_reply": "2024-05-17T03:58:54.973868Z",
     "shell.execute_reply.started": "2024-05-17T03:58:54.399774Z"
    },
    "id": "ccee7dcf",
    "outputId": "ad5830b2-5b11-49a7-b1ed-a95684cfcc85"
   },
   "outputs": [
    {
     "name": "stdout",
     "output_type": "stream",
     "text": [
      "Mounted at /content/drive\n"
     ]
    },
    {
     "data": {
      "application/javascript": [
       "\n",
       "        if (window._pyforest_update_imports_cell) { window._pyforest_update_imports_cell('import pandas as pd'); }\n",
       "    "
      ],
      "text/plain": [
       "<IPython.core.display.Javascript object>"
      ]
     },
     "metadata": {},
     "output_type": "display_data"
    },
    {
     "data": {
      "application/javascript": [
       "\n",
       "        if (window._pyforest_update_imports_cell) { window._pyforest_update_imports_cell('import pandas as pd'); }\n",
       "    "
      ],
      "text/plain": [
       "<IPython.core.display.Javascript object>"
      ]
     },
     "metadata": {},
     "output_type": "display_data"
    },
    {
     "data": {
      "application/javascript": [
       "\n",
       "        if (window._pyforest_update_imports_cell) { window._pyforest_update_imports_cell('import pandas as pd'); }\n",
       "    "
      ],
      "text/plain": [
       "<IPython.core.display.Javascript object>"
      ]
     },
     "metadata": {},
     "output_type": "display_data"
    },
    {
     "data": {
      "application/javascript": [
       "\n",
       "        if (window._pyforest_update_imports_cell) { window._pyforest_update_imports_cell('import pandas as pd'); }\n",
       "    "
      ],
      "text/plain": [
       "<IPython.core.display.Javascript object>"
      ]
     },
     "metadata": {},
     "output_type": "display_data"
    },
    {
     "data": {
      "application/javascript": [
       "\n",
       "        if (window._pyforest_update_imports_cell) { window._pyforest_update_imports_cell('import pandas as pd'); }\n",
       "    "
      ],
      "text/plain": [
       "<IPython.core.display.Javascript object>"
      ]
     },
     "metadata": {},
     "output_type": "display_data"
    },
    {
     "data": {
      "application/javascript": [
       "\n",
       "        if (window._pyforest_update_imports_cell) { window._pyforest_update_imports_cell('import pandas as pd'); }\n",
       "    "
      ],
      "text/plain": [
       "<IPython.core.display.Javascript object>"
      ]
     },
     "metadata": {},
     "output_type": "display_data"
    }
   ],
   "source": [
    "drive.mount('/content/drive')\n",
    "X_train         = pd.read_csv('/content/drive/MyDrive/Colab Notebooks/dataset/bankrupt/data/X_train.csv')\n",
    "X_train_balance = pd.read_csv('/content/drive/MyDrive/Colab Notebooks/dataset/bankrupt/data/X_train_balance.csv')\n",
    "X_test          = pd.read_csv('/content/drive/MyDrive/Colab Notebooks/dataset/bankrupt/data/X_test.csv')\n",
    "\n",
    "y_train         = pd.read_csv('/content/drive/MyDrive/Colab Notebooks/dataset/bankrupt/data/y_train.csv')\n",
    "y_train_balance = pd.read_csv('/content/drive/MyDrive/Colab Notebooks/dataset/bankrupt/data/y_train_balance.csv')\n",
    "y_test          = pd.read_csv('/content/drive/MyDrive/Colab Notebooks/dataset/bankrupt/data/y_test.csv')"
   ]
  },
  {
   "cell_type": "code",
   "execution_count": 11,
   "id": "2c24D2934XWZ",
   "metadata": {
    "colab": {
     "base_uri": "https://localhost:8080/"
    },
    "execution": {
     "iopub.execute_input": "2024-05-17T03:58:59.930487Z",
     "iopub.status.busy": "2024-05-17T03:58:59.929756Z",
     "iopub.status.idle": "2024-05-17T03:58:59.937140Z",
     "shell.execute_reply": "2024-05-17T03:58:59.936082Z",
     "shell.execute_reply.started": "2024-05-17T03:58:59.930453Z"
    },
    "id": "2c24D2934XWZ",
    "outputId": "37539737-431b-4bfe-f189-47842fc9ea31"
   },
   "outputs": [
    {
     "data": {
      "text/plain": [
       "(110260, 14)"
      ]
     },
     "execution_count": 11,
     "metadata": {},
     "output_type": "execute_result"
    }
   ],
   "source": [
    "X_train_balance.shape"
   ]
  },
  {
   "cell_type": "code",
   "execution_count": 12,
   "id": "fc5fdf35",
   "metadata": {
    "colab": {
     "base_uri": "https://localhost:8080/"
    },
    "execution": {
     "iopub.execute_input": "2024-05-17T03:59:02.045848Z",
     "iopub.status.busy": "2024-05-17T03:59:02.045097Z",
     "iopub.status.idle": "2024-05-17T03:59:02.057849Z",
     "shell.execute_reply": "2024-05-17T03:59:02.056788Z",
     "shell.execute_reply.started": "2024-05-17T03:59:02.045814Z"
    },
    "id": "fc5fdf35",
    "outputId": "724ad7a4-3908-488c-e69a-30f511d9f53d"
   },
   "outputs": [
    {
     "name": "stdout",
     "output_type": "stream",
     "text": [
      "bankrupt\n",
      "0.0         0.5\n",
      "1.0         0.5\n",
      "Name: proportion, dtype: float64\n"
     ]
    }
   ],
   "source": [
    "print(y_train_balance.value_counts(normalize=True))"
   ]
  },
  {
   "cell_type": "code",
   "execution_count": 13,
   "id": "7576f74f",
   "metadata": {
    "colab": {
     "base_uri": "https://localhost:8080/"
    },
    "execution": {
     "iopub.execute_input": "2024-05-17T03:59:04.165373Z",
     "iopub.status.busy": "2024-05-17T03:59:04.164500Z",
     "iopub.status.idle": "2024-05-17T03:59:04.174190Z",
     "shell.execute_reply": "2024-05-17T03:59:04.173207Z",
     "shell.execute_reply.started": "2024-05-17T03:59:04.165340Z"
    },
    "id": "7576f74f",
    "outputId": "03f20485-9bf0-4bdf-c687-90d3b376d800"
   },
   "outputs": [
    {
     "name": "stdout",
     "output_type": "stream",
     "text": [
      "bankrupt\n",
      "0.0         0.934233\n",
      "1.0         0.065767\n",
      "Name: proportion, dtype: float64\n"
     ]
    }
   ],
   "source": [
    "print(y_train.value_counts(normalize=True))"
   ]
  },
  {
   "cell_type": "markdown",
   "id": "b63c63b9",
   "metadata": {
    "id": "b63c63b9"
   },
   "source": [
    "Penerapan dari teknik sampling/balancing data tersebut dengan menggunakan SMOTE dengan strategi 'auto' dapat membuat atau meningkatkan sampel sintesis dalam kelas minoritas yaitu 'bankrupt' = 1"
   ]
  },
  {
   "cell_type": "code",
   "execution_count": 14,
   "id": "9db4c682",
   "metadata": {
    "colab": {
     "base_uri": "https://localhost:8080/"
    },
    "execution": {
     "iopub.execute_input": "2024-05-17T03:59:08.724480Z",
     "iopub.status.busy": "2024-05-17T03:59:08.724124Z",
     "iopub.status.idle": "2024-05-17T03:59:08.730655Z",
     "shell.execute_reply": "2024-05-17T03:59:08.729661Z",
     "shell.execute_reply.started": "2024-05-17T03:59:08.724453Z"
    },
    "id": "9db4c682",
    "outputId": "c58e4d9e-36e0-40d1-9b2f-30c8eae6ac2d"
   },
   "outputs": [
    {
     "data": {
      "text/plain": [
       "(59011, 14)"
      ]
     },
     "execution_count": 14,
     "metadata": {},
     "output_type": "execute_result"
    }
   ],
   "source": [
    "X_train.shape"
   ]
  },
  {
   "cell_type": "code",
   "execution_count": 15,
   "id": "be27066f",
   "metadata": {
    "colab": {
     "base_uri": "https://localhost:8080/"
    },
    "execution": {
     "iopub.execute_input": "2024-05-17T03:59:10.531885Z",
     "iopub.status.busy": "2024-05-17T03:59:10.531523Z",
     "iopub.status.idle": "2024-05-17T03:59:10.537962Z",
     "shell.execute_reply": "2024-05-17T03:59:10.537043Z",
     "shell.execute_reply.started": "2024-05-17T03:59:10.531856Z"
    },
    "id": "be27066f",
    "outputId": "93861773-6948-4881-c4d1-34c500437470"
   },
   "outputs": [
    {
     "data": {
      "text/plain": [
       "(110260, 14)"
      ]
     },
     "execution_count": 15,
     "metadata": {},
     "output_type": "execute_result"
    }
   ],
   "source": [
    "X_train_balance.shape"
   ]
  },
  {
   "cell_type": "code",
   "execution_count": 16,
   "id": "036f5d5e",
   "metadata": {
    "execution": {
     "iopub.execute_input": "2024-05-17T03:59:12.968744Z",
     "iopub.status.busy": "2024-05-17T03:59:12.967752Z",
     "iopub.status.idle": "2024-05-17T03:59:12.975209Z",
     "shell.execute_reply": "2024-05-17T03:59:12.974166Z",
     "shell.execute_reply.started": "2024-05-17T03:59:12.968710Z"
    },
    "id": "036f5d5e"
   },
   "outputs": [],
   "source": [
    "ccount = y_train_balance['bankrupt'].value_counts()"
   ]
  },
  {
   "cell_type": "code",
   "execution_count": 17,
   "id": "6a7391db",
   "metadata": {
    "colab": {
     "base_uri": "https://localhost:8080/",
     "height": 572
    },
    "execution": {
     "iopub.execute_input": "2024-05-17T03:59:16.868412Z",
     "iopub.status.busy": "2024-05-17T03:59:16.867741Z",
     "iopub.status.idle": "2024-05-17T03:59:17.285388Z",
     "shell.execute_reply": "2024-05-17T03:59:17.284447Z",
     "shell.execute_reply.started": "2024-05-17T03:59:16.868377Z"
    },
    "id": "6a7391db",
    "outputId": "555a2877-1d56-4e02-e006-ceaf78be0193"
   },
   "outputs": [
    {
     "data": {
      "application/javascript": [
       "\n",
       "        if (window._pyforest_update_imports_cell) { window._pyforest_update_imports_cell('import pandas as pd\\nimport matplotlib.pyplot as plt'); }\n",
       "    "
      ],
      "text/plain": [
       "<IPython.core.display.Javascript object>"
      ]
     },
     "metadata": {},
     "output_type": "display_data"
    },
    {
     "data": {
      "application/javascript": [
       "\n",
       "        if (window._pyforest_update_imports_cell) { window._pyforest_update_imports_cell('import pandas as pd\\nimport matplotlib.pyplot as plt'); }\n",
       "    "
      ],
      "text/plain": [
       "<IPython.core.display.Javascript object>"
      ]
     },
     "metadata": {},
     "output_type": "display_data"
    },
    {
     "data": {
      "application/javascript": [
       "\n",
       "        if (window._pyforest_update_imports_cell) { window._pyforest_update_imports_cell('import pandas as pd\\nimport matplotlib.pyplot as plt'); }\n",
       "    "
      ],
      "text/plain": [
       "<IPython.core.display.Javascript object>"
      ]
     },
     "metadata": {},
     "output_type": "display_data"
    },
    {
     "data": {
      "application/javascript": [
       "\n",
       "        if (window._pyforest_update_imports_cell) { window._pyforest_update_imports_cell('import pandas as pd\\nimport matplotlib.pyplot as plt'); }\n",
       "    "
      ],
      "text/plain": [
       "<IPython.core.display.Javascript object>"
      ]
     },
     "metadata": {},
     "output_type": "display_data"
    },
    {
     "data": {
      "application/javascript": [
       "\n",
       "        if (window._pyforest_update_imports_cell) { window._pyforest_update_imports_cell('import pandas as pd\\nimport matplotlib.pyplot as plt'); }\n",
       "    "
      ],
      "text/plain": [
       "<IPython.core.display.Javascript object>"
      ]
     },
     "metadata": {},
     "output_type": "display_data"
    },
    {
     "data": {
      "image/png": "[encoded data removed]",
      "text/plain": [
       "<Figure size 800x600 with 1 Axes>"
      ]
     },
     "metadata": {},
     "output_type": "display_data"
    }
   ],
   "source": [
    "plt.figure(figsize=(8, 6))\n",
    "ccount.plot(kind='bar', color=['lightgreen', 'lightblue'])\n",
    "plt.title('Jumlah Kelas 0 dan 1 pada Data Bankrupt')\n",
    "plt.xlabel('Kelas Bankrupt')\n",
    "plt.ylabel('Jumlah')\n",
    "plt.show()"
   ]
  },
  {
   "cell_type": "markdown",
   "id": "d00bfe69",
   "metadata": {
    "id": "d00bfe69"
   },
   "source": [
    "#### Hasil analisis model\n",
    "- SGD: menunjukkan performa model akurasi yang membaik, namun parameter evaluasi lainnya memiliki performa yang buruk.\n",
    "- KNN Ball: Model mengalami overfitting ditunjukkan dengan nilai precision yang drastis menurun ketika model diuji/test.\n",
    "- KNN Tree: Model mengalami overfitting juga dengan nilai precision yang juga drastis menurun ketika model diuji.\n",
    "- Decision tree: Model sudah jelas mengalami overfit, ditunjukkan juga dengan nilai parameter precision yang drastis menurun dan juga f1-score.\n",
    "- Random forest: Model mungkin sudah jelas mengalami overfitting, ditunjukkan dengan beberapa parameter evaluasi yang performanya menurun. Namun hal ini masih bisa diatasi dengan menggunakan nilai parameter yang benar dengan **Tuning**.\n",
    "- Ada Boost: Modelnya overfitting\n",
    "- Gradient Boosting: Modelnya overfitting juga, namun masih mungkin diterapkan **tuning**\n",
    "- Gaussian Naive Bayes: Modelnya underfit\n",
    "- SGD: Modelnya mungkin mengalami overfit. Namun kita coba tinjau lebih lanjut dengan **tuning**."
   ]
  },
  {
   "cell_type": "markdown",
   "id": "4f494666",
   "metadata": {
    "id": "4f494666"
   },
   "source": [
    "#### Memilih model yang tidak overfiting atau underfit untuk dilanjutkan pada tahap Hyperparameter atau Tuning\n",
    "\n",
    "\n",
    "Berdasarkan hasil evaluasi **tiga model terbaik** adalah:\n",
    "- [Random Forest]\n",
    "- [Gradient Boost]\n",
    "- [Stochastic Gradien Descent]\n"
   ]
  },
  {
   "cell_type": "code",
   "execution_count": 12,
   "id": "62e03688",
   "metadata": {
    "execution": {
     "iopub.execute_input": "2024-05-17T03:59:22.311736Z",
     "iopub.status.busy": "2024-05-17T03:59:22.311351Z",
     "iopub.status.idle": "2024-05-17T03:59:22.318261Z",
     "shell.execute_reply": "2024-05-17T03:59:22.316815Z",
     "shell.execute_reply.started": "2024-05-17T03:59:22.311702Z"
    },
    "id": "62e03688"
   },
   "outputs": [],
   "source": [
    "# y_true itu y_test\n",
    "def model_report(y_true, y_pred):\n",
    "\n",
    "    acc                     = accuracy_score(y_true, y_pred)\n",
    "    pre                     = precision_score(y_true, y_pred)\n",
    "    rec                     = recall_score(y_true, y_pred)\n",
    "    f1                      = f1_score(y_true, y_pred)\n",
    "    loss                    = log_loss(y_true, y_pred)\n",
    "\n",
    "    print(\"accuracy:   {:3f}\\nprecision:  {:3f}\\nrecall:     {:3f}\\nf1-score:   {:3f}\\nloss:       {:3f}\".\n",
    "          format(acc, pre, rec, f1, loss))"
   ]
  },
  {
   "cell_type": "code",
   "execution_count": 13,
   "id": "55eae82f",
   "metadata": {
    "execution": {
     "iopub.execute_input": "2024-05-17T03:59:24.971609Z",
     "iopub.status.busy": "2024-05-17T03:59:24.970759Z",
     "iopub.status.idle": "2024-05-17T03:59:24.976591Z",
     "shell.execute_reply": "2024-05-17T03:59:24.975762Z",
     "shell.execute_reply.started": "2024-05-17T03:59:24.971574Z"
    },
    "id": "55eae82f"
   },
   "outputs": [],
   "source": [
    "# Fungsi Evaluasi Suatu Model dengan Confusion Matrix\n",
    "def plot_confusion_matriks(y_true, y_pred):\n",
    "    cm = confusion_matrix(y_true, y_pred)\n",
    "    tampil = ConfusionMatrixDisplay(confusion_matrix=cm)\n",
    "\n",
    "    tampil.plot(cmap='Greys')\n",
    "\n",
    "    plt.title('Confusion Matrix')\n",
    "    plt.show()"
   ]
  },
  {
   "cell_type": "markdown",
   "id": "89861321",
   "metadata": {
    "id": "89861321"
   },
   "source": [
    "### HyperTuning Machine Learning Model"
   ]
  },
  {
   "cell_type": "markdown",
   "id": "Z2NSlCb2Eebl",
   "metadata": {
    "id": "Z2NSlCb2Eebl"
   },
   "source": [
    "### Gradient Boost Tuning Parameter\n",
    "Hasil parameter dari GBC Classifier dibawah ini didapat dari beberapa percobaan training."
   ]
  },
  {
   "cell_type": "code",
   "execution_count": 20,
   "id": "-dqcGXxTvH9Q",
   "metadata": {
    "id": "-dqcGXxTvH9Q"
   },
   "outputs": [],
   "source": []
  },
  {
   "cell_type": "code",
   "execution_count": 23,
   "id": "bQ4KQ3HlyVuQ",
   "metadata": {
    "id": "bQ4KQ3HlyVuQ"
   },
   "outputs": [],
   "source": [
    "# coba coba trial and error si learning ratenya\n",
    "learn_list = [0.01, 0.025, 0.05, 0.075, 0.1, 0.25, 0.5, 0.75, 1]"
   ]
  },
  {
   "cell_type": "markdown",
   "id": "aY964u3E_iWl",
   "metadata": {
    "id": "aY964u3E_iWl"
   },
   "source": [
    "sesuaikan tuning parameter dengan spek cpu/gpu. disini aku tuning si learning rate biar ga terlalu lama dan nngeberatin"
   ]
  },
  {
   "cell_type": "code",
   "execution_count": 25,
   "id": "t6c_ON4OThw_",
   "metadata": {
    "colab": {
     "base_uri": "https://localhost:8080/",
     "height": 670
    },
    "id": "t6c_ON4OThw_",
    "outputId": "3884b8ec-8f64-459a-caf6-6e0f7828bc69"
   },
   "outputs": [
    {
     "data": {
      "application/javascript": [
       "\n",
       "        if (window._pyforest_update_imports_cell) { window._pyforest_update_imports_cell('import pandas as pd\\nfrom sklearn.ensemble import GradientBoostingClassifier\\nimport matplotlib.pyplot as plt'); }\n",
       "    "
      ],
      "text/plain": [
       "<IPython.core.display.Javascript object>"
      ]
     },
     "metadata": {},
     "output_type": "display_data"
    },
    {
     "name": "stdout",
     "output_type": "stream",
     "text": [
      "Learning ratenya:  0.01\n",
      "Akurasi Training: 0.681\n",
      "Akurasi Validasi (test): 0.600 \n",
      "\n"
     ]
    },
    {
     "data": {
      "application/javascript": [
       "\n",
       "        if (window._pyforest_update_imports_cell) { window._pyforest_update_imports_cell('import pandas as pd\\nfrom sklearn.ensemble import GradientBoostingClassifier\\nimport matplotlib.pyplot as plt'); }\n",
       "    "
      ],
      "text/plain": [
       "<IPython.core.display.Javascript object>"
      ]
     },
     "metadata": {},
     "output_type": "display_data"
    },
    {
     "name": "stdout",
     "output_type": "stream",
     "text": [
      "Learning ratenya:  0.025\n",
      "Akurasi Training: 0.680\n",
      "Akurasi Validasi (test): 0.602 \n",
      "\n"
     ]
    },
    {
     "data": {
      "application/javascript": [
       "\n",
       "        if (window._pyforest_update_imports_cell) { window._pyforest_update_imports_cell('import pandas as pd\\nfrom sklearn.ensemble import GradientBoostingClassifier\\nimport matplotlib.pyplot as plt'); }\n",
       "    "
      ],
      "text/plain": [
       "<IPython.core.display.Javascript object>"
      ]
     },
     "metadata": {},
     "output_type": "display_data"
    },
    {
     "name": "stdout",
     "output_type": "stream",
     "text": [
      "Learning ratenya:  0.05\n",
      "Akurasi Training: 0.682\n",
      "Akurasi Validasi (test): 0.607 \n",
      "\n"
     ]
    },
    {
     "data": {
      "application/javascript": [
       "\n",
       "        if (window._pyforest_update_imports_cell) { window._pyforest_update_imports_cell('import pandas as pd\\nfrom sklearn.ensemble import GradientBoostingClassifier\\nimport matplotlib.pyplot as plt'); }\n",
       "    "
      ],
      "text/plain": [
       "<IPython.core.display.Javascript object>"
      ]
     },
     "metadata": {},
     "output_type": "display_data"
    },
    {
     "name": "stdout",
     "output_type": "stream",
     "text": [
      "Learning ratenya:  0.075\n",
      "Akurasi Training: 0.682\n",
      "Akurasi Validasi (test): 0.602 \n",
      "\n"
     ]
    },
    {
     "data": {
      "application/javascript": [
       "\n",
       "        if (window._pyforest_update_imports_cell) { window._pyforest_update_imports_cell('import pandas as pd\\nfrom sklearn.ensemble import GradientBoostingClassifier\\nimport matplotlib.pyplot as plt'); }\n",
       "    "
      ],
      "text/plain": [
       "<IPython.core.display.Javascript object>"
      ]
     },
     "metadata": {},
     "output_type": "display_data"
    },
    {
     "name": "stdout",
     "output_type": "stream",
     "text": [
      "Learning ratenya:  0.1\n",
      "Akurasi Training: 0.688\n",
      "Akurasi Validasi (test): 0.611 \n",
      "\n"
     ]
    },
    {
     "data": {
      "application/javascript": [
       "\n",
       "        if (window._pyforest_update_imports_cell) { window._pyforest_update_imports_cell('import pandas as pd\\nfrom sklearn.ensemble import GradientBoostingClassifier\\nimport matplotlib.pyplot as plt'); }\n",
       "    "
      ],
      "text/plain": [
       "<IPython.core.display.Javascript object>"
      ]
     },
     "metadata": {},
     "output_type": "display_data"
    },
    {
     "name": "stdout",
     "output_type": "stream",
     "text": [
      "Learning ratenya:  0.25\n",
      "Akurasi Training: 0.693\n",
      "Akurasi Validasi (test): 0.624 \n",
      "\n"
     ]
    },
    {
     "data": {
      "application/javascript": [
       "\n",
       "        if (window._pyforest_update_imports_cell) { window._pyforest_update_imports_cell('import pandas as pd\\nfrom sklearn.ensemble import GradientBoostingClassifier\\nimport matplotlib.pyplot as plt'); }\n",
       "    "
      ],
      "text/plain": [
       "<IPython.core.display.Javascript object>"
      ]
     },
     "metadata": {},
     "output_type": "display_data"
    },
    {
     "name": "stdout",
     "output_type": "stream",
     "text": [
      "Learning ratenya:  0.5\n",
      "Akurasi Training: 0.705\n",
      "Akurasi Validasi (test): 0.635 \n",
      "\n"
     ]
    },
    {
     "data": {
      "application/javascript": [
       "\n",
       "        if (window._pyforest_update_imports_cell) { window._pyforest_update_imports_cell('import pandas as pd\\nfrom sklearn.ensemble import GradientBoostingClassifier\\nimport matplotlib.pyplot as plt'); }\n",
       "    "
      ],
      "text/plain": [
       "<IPython.core.display.Javascript object>"
      ]
     },
     "metadata": {},
     "output_type": "display_data"
    },
    {
     "name": "stdout",
     "output_type": "stream",
     "text": [
      "Learning ratenya:  0.75\n",
      "Akurasi Training: 0.711\n",
      "Akurasi Validasi (test): 0.644 \n",
      "\n"
     ]
    },
    {
     "data": {
      "application/javascript": [
       "\n",
       "        if (window._pyforest_update_imports_cell) { window._pyforest_update_imports_cell('import pandas as pd\\nfrom sklearn.ensemble import GradientBoostingClassifier\\nimport matplotlib.pyplot as plt'); }\n",
       "    "
      ],
      "text/plain": [
       "<IPython.core.display.Javascript object>"
      ]
     },
     "metadata": {},
     "output_type": "display_data"
    },
    {
     "name": "stdout",
     "output_type": "stream",
     "text": [
      "Learning ratenya:  1\n",
      "Akurasi Training: 0.714\n",
      "Akurasi Validasi (test): 0.645 \n",
      "\n"
     ]
    }
   ],
   "source": [
    "# Hypertuning kedua Gradient Boost karena aku pikir masih ada kemungkinan\n",
    "\n",
    "for learn in learn_list:\n",
    "    gb_lr = GradientBoostingClassifier(n_estimators=20,\n",
    "                                    learning_rate=learn,\n",
    "                                    max_features=2,\n",
    "                                    max_depth=2,\n",
    "                                    random_state=123)\n",
    "\n",
    "    gb_lr.fit(X_train_balance, y_train_balance)\n",
    "\n",
    "    print('Learning ratenya: ', learn)\n",
    "    print('Akurasi Training: {0:.3f}'.format(gb_lr.score(X_train_balance,\n",
    "                                                         y_train_balance)))\n",
    "\n",
    "    print('Akurasi Validasi (test): {0:.3f}'.format(gb_lr.score(X_test,\n",
    "                                                                y_test)),'\\n')"
   ]
  },
  {
   "cell_type": "code",
   "execution_count": null,
   "id": "XZ85cDi23P2o",
   "metadata": {
    "id": "XZ85cDi23P2o"
   },
   "outputs": [],
   "source": [
    "lr = [0.1, 0.25, 0.5, 1]"
   ]
  },
  {
   "cell_type": "code",
   "execution_count": 27,
   "id": "S7i7lm1dThxA",
   "metadata": {
    "colab": {
     "base_uri": "https://localhost:8080/",
     "height": 35
    },
    "id": "S7i7lm1dThxA",
    "outputId": "e292e387-de2a-4cfa-c059-bb39e53063ac"
   },
   "outputs": [
    {
     "data": {
      "application/javascript": [
       "\n",
       "        if (window._pyforest_update_imports_cell) { window._pyforest_update_imports_cell('import pandas as pd\\nimport re\\nfrom openpyxl import load_workbook\\nimport matplotlib.pyplot as plt\\nfrom sklearn.ensemble import GradientBoostingClassifier\\nimport lightgbm as lgb'); }\n",
       "    "
      ],
      "text/plain": [
       "<IPython.core.display.Javascript object>"
      ]
     },
     "metadata": {},
     "output_type": "display_data"
    },
    {
     "data": {
      "application/javascript": [
       "\n",
       "        if (window._pyforest_update_imports_cell) { window._pyforest_update_imports_cell('import pandas as pd\\nimport re\\nfrom openpyxl import load_workbook\\nimport matplotlib.pyplot as plt\\nfrom sklearn.ensemble import GradientBoostingClassifier\\nimport lightgbm as lgb'); }\n",
       "    "
      ],
      "text/plain": [
       "<IPython.core.display.Javascript object>"
      ]
     },
     "metadata": {},
     "output_type": "display_data"
    },
    {
     "data": {
      "application/javascript": [
       "\n",
       "        if (window._pyforest_update_imports_cell) { window._pyforest_update_imports_cell('import pandas as pd\\nimport re\\nfrom openpyxl import load_workbook\\nimport matplotlib.pyplot as plt\\nfrom sklearn.ensemble import GradientBoostingClassifier\\nimport lightgbm as lgb'); }\n",
       "    "
      ],
      "text/plain": [
       "<IPython.core.display.Javascript object>"
      ]
     },
     "metadata": {},
     "output_type": "display_data"
    },
    {
     "data": {
      "application/javascript": [
       "\n",
       "        if (window._pyforest_update_imports_cell) { window._pyforest_update_imports_cell('import pandas as pd\\nimport re\\nfrom openpyxl import load_workbook\\nimport matplotlib.pyplot as plt\\nfrom sklearn.ensemble import GradientBoostingClassifier\\nimport lightgbm as lgb'); }\n",
       "    "
      ],
      "text/plain": [
       "<IPython.core.display.Javascript object>"
      ]
     },
     "metadata": {},
     "output_type": "display_data"
    },
    {
     "name": "stdout",
     "output_type": "stream",
     "text": [
      "[(0.5, 0.9064104519343196), (0.25, 0.9046311829596868), (0.1, 0.884398352905292), (0.1, 0.884398352905292)]\n"
     ]
    }
   ],
   "source": [
    "n_estimators = 300\n",
    "max_depth = 8\n",
    "random_state = 123\n",
    "\n",
    "gbc_best_lr = []\n",
    "for lr_value in lr:\n",
    "    gbc = GradientBoostingClassifier(n_estimators=n_estimators,\n",
    "                                      learning_rate=lr_value,\n",
    "                                      max_depth=max_depth,\n",
    "                                      random_state=random_state)\n",
    "    gbc.fit(X_train_balance, y_train_balance)\n",
    "    score = gbc.score(X_test, y_test)\n",
    "    gbc_best_lr.append((lr_value, score))\n",
    "\n",
    "# Urutin hasil berdasarkan nilai score\n",
    "gbc_best_lr = sorted(gbc_best_lr, key=lambda x: x[1], reverse=True)\n",
    "print(gbc_best_lr)"
   ]
  },
  {
   "cell_type": "code",
   "execution_count": null,
   "id": "Mtl2b9lv7CDc",
   "metadata": {
    "colab": {
     "base_uri": "https://localhost:8080/",
     "height": 97
    },
    "id": "Mtl2b9lv7CDc",
    "outputId": "1bf2ab35-06b2-4fa6-857c-617247f941e6"
   },
   "outputs": [],
   "source": [
    "## Gradient Boosting Classifier\n",
    "gbc_best_2 = GradientBoostingClassifier(n_estimators=300,\n",
    "                                  learning_rate=0.5,\n",
    "                                  max_depth=8,\n",
    "                                  random_state=123)\n",
    "\n",
    "gbc_best_2.fit(X_train_balance, y_train_balance) # Adjust model"
   ]
  },
  {
   "cell_type": "code",
   "execution_count": 15,
   "id": "G8cNYweGThxA",
   "metadata": {
    "id": "G8cNYweGThxA"
   },
   "outputs": [],
   "source": [
    "y_tt_gbc_best2 = gbc_best_2.predict(X_test)"
   ]
  },
  {
   "cell_type": "code",
   "execution_count": 16,
   "id": "0gJCXWY6ThxA",
   "metadata": {
    "colab": {
     "base_uri": "https://localhost:8080/"
    },
    "id": "0gJCXWY6ThxA",
    "outputId": "3c974a57-bba9-46ae-f081-8e117f286b2c"
   },
   "outputs": [
    {
     "name": "stdout",
     "output_type": "stream",
     "text": [
      "accuracy:   0.906410\n",
      "precision:  0.376355\n",
      "recall:     0.570575\n",
      "f1-score:   0.453547\n",
      "loss:       3.373309\n"
     ]
    }
   ],
   "source": [
    "model_report(y_test, y_tt_gbc_best2)"
   ]
  },
  {
   "cell_type": "code",
   "execution_count": 17,
   "id": "pWoZh1-GThxA",
   "metadata": {
    "colab": {
     "base_uri": "https://localhost:8080/"
    },
    "id": "pWoZh1-GThxA",
    "outputId": "c1a5f57d-a814-4dd6-abe0-a02758ea3c9e"
   },
   "outputs": [
    {
     "name": "stdout",
     "output_type": "stream",
     "text": [
      "Klasifikasi Report dari Best Gradient Boost 2:\n",
      "              precision    recall  f1-score   support\n",
      "\n",
      "         0.0       0.97      0.93      0.95     18332\n",
      "         1.0       0.38      0.57      0.45      1339\n",
      "\n",
      "    accuracy                           0.91     19671\n",
      "   macro avg       0.67      0.75      0.70     19671\n",
      "weighted avg       0.93      0.91      0.92     19671\n",
      "\n"
     ]
    }
   ],
   "source": [
    "print('Klasifikasi Report dari Best Gradient Boost 2:')\n",
    "print(classification_report(y_test, y_tt_gbc_best2))"
   ]
  },
  {
   "cell_type": "code",
   "execution_count": 18,
   "id": "ZlV9Z6C2ThxA",
   "metadata": {
    "colab": {
     "base_uri": "https://localhost:8080/",
     "height": 472
    },
    "id": "ZlV9Z6C2ThxA",
    "outputId": "883d107e-ceee-48c1-ef37-16ab95983baa"
   },
   "outputs": [
    {
     "data": {
      "application/javascript": [
       "\n",
       "        if (window._pyforest_update_imports_cell) { window._pyforest_update_imports_cell('import pandas as pd\\nfrom sklearn.ensemble import GradientBoostingClassifier\\nimport matplotlib.pyplot as plt'); }\n",
       "    "
      ],
      "text/plain": [
       "<IPython.core.display.Javascript object>"
      ]
     },
     "metadata": {},
     "output_type": "display_data"
    },
    {
     "data": {
      "application/javascript": [
       "\n",
       "        if (window._pyforest_update_imports_cell) { window._pyforest_update_imports_cell('import pandas as pd\\nfrom sklearn.ensemble import GradientBoostingClassifier\\nimport matplotlib.pyplot as plt'); }\n",
       "    "
      ],
      "text/plain": [
       "<IPython.core.display.Javascript object>"
      ]
     },
     "metadata": {},
     "output_type": "display_data"
    },
    {
     "data": {
      "image/png": "[encoded data removed]",
      "text/plain": [
       "<Figure size 640x480 with 2 Axes>"
      ]
     },
     "metadata": {},
     "output_type": "display_data"
    }
   ],
   "source": [
    "plot_confusion_matriks(y_test, y_tt_gbc_best2)"
   ]
  },
  {
   "cell_type": "markdown",
   "id": "QRPcf4X1QbIO",
   "metadata": {
    "id": "QRPcf4X1QbIO"
   },
   "source": [
    "### Best Machine Learning Model"
   ]
  },
  {
   "cell_type": "code",
   "execution_count": 20,
   "id": "fvd1wcWTNTtb",
   "metadata": {
    "colab": {
     "base_uri": "https://localhost:8080/"
    },
    "id": "fvd1wcWTNTtb",
    "outputId": "eb7b0730-e712-4c54-f7e7-c21dd44f4ca7"
   },
   "outputs": [
    {
     "data": {
      "text/plain": [
       "['/content/drive/MyDrive/Colab Notebooks/dataset/bankrupt/Gradient Boost Classifier_90.pkl']"
      ]
     },
     "execution_count": 20,
     "metadata": {},
     "output_type": "execute_result"
    }
   ],
   "source": [
    "import joblib\n",
    "\n",
    "# Simpan model terbaik ke dalam file\n",
    "joblib.dump(gbc_best_2, '/content/drive/MyDrive/Colab Notebooks/dataset/bankrupt/Gradient Boost Classifier_90.pkl')"
   ]
  }
 ],
 "metadata": {
  "accelerator": "GPU",
  "colab": {
   "gpuType": "T4",
   "provenance": []
  },
  "kaggle": {
   "accelerator": "nvidiaTeslaT4",
   "dataSources": [
    {
     "datasetId": 5024622,
     "sourceId": 8435933,
     "sourceType": "datasetVersion"
    }
   ],
   "isGpuEnabled": true,
   "isInternetEnabled": true,
   "language": "python",
   "sourceType": "notebook"
  },
  "kernelspec": {
   "display_name": "Python 3 (ipykernel)",
   "language": "python",
   "name": "python3"
  },
  "language_info": {
   "codemirror_mode": {
    "name": "ipython",
    "version": 3
   },
   "file_extension": ".py",
   "mimetype": "text/x-python",
   "name": "python",
   "nbconvert_exporter": "python",
   "pygments_lexer": "ipython3",
   "version": "3.11.5"
  }
 },
 "nbformat": 4,
 "nbformat_minor": 5
}
